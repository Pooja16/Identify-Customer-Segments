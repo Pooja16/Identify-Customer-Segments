{
 "cells": [
  {
   "cell_type": "markdown",
   "metadata": {},
   "source": [
    "# Project: Identify Customer Segments\n",
    "\n",
    "In this project, you will apply unsupervised learning techniques to identify segments of the population that form the core customer base for a mail-order sales company in Germany. These segments can then be used to direct marketing campaigns towards audiences that will have the highest expected rate of returns. The data that you will use has been provided by our partners at Bertelsmann Arvato Analytics, and represents a real-life data science task.\n",
    "\n",
    "This notebook will help you complete this task by providing a framework within which you will perform your analysis steps. In each step of the project, you will see some text describing the subtask that you will perform, followed by one or more code cells for you to complete your work. **Feel free to add additional code and markdown cells as you go along so that you can explore everything in precise chunks.** The code cells provided in the base template will outline only the major tasks, and will usually not be enough to cover all of the minor tasks that comprise it.\n",
    "\n",
    "It should be noted that while there will be precise guidelines on how you should handle certain tasks in the project, there will also be places where an exact specification is not provided. **There will be times in the project where you will need to make and justify your own decisions on how to treat the data.** These are places where there may not be only one way to handle the data. In real-life tasks, there may be many valid ways to approach an analysis task. One of the most important things you can do is clearly document your approach so that other scientists can understand the decisions you've made.\n",
    "\n",
    "At the end of most sections, there will be a Markdown cell labeled **Discussion**. In these cells, you will report your findings for the completed section, as well as document the decisions that you made in your approach to each subtask. **Your project will be evaluated not just on the code used to complete the tasks outlined, but also your communication about your observations and conclusions at each stage.**"
   ]
  },
  {
   "cell_type": "code",
   "execution_count": 1,
   "metadata": {},
   "outputs": [],
   "source": [
    "# import libraries here; add more as necessary\n",
    "import numpy as np\n",
    "import pandas as pd\n",
    "import matplotlib.pyplot as plt\n",
    "import seaborn as sns\n",
    "\n",
    "# magic word for producing visualizations in notebook\n",
    "%matplotlib inline"
   ]
  },
  {
   "cell_type": "markdown",
   "metadata": {},
   "source": [
    "### Step 0: Load the Data\n",
    "\n",
    "There are four files associated with this project (not including this one):\n",
    "\n",
    "- `Udacity_AZDIAS_Subset.csv`: Demographics data for the general population of Germany; 891211 persons (rows) x 85 features (columns).\n",
    "- `Udacity_CUSTOMERS_Subset.csv`: Demographics data for customers of a mail-order company; 191652 persons (rows) x 85 features (columns).\n",
    "- `Data_Dictionary.md`: Detailed information file about the features in the provided datasets.\n",
    "- `AZDIAS_Feature_Summary.csv`: Summary of feature attributes for demographics data; 85 features (rows) x 4 columns\n",
    "\n",
    "Each row of the demographics files represents a single person, but also includes information outside of individuals, including information about their household, building, and neighborhood. You will use this information to cluster the general population into groups with similar demographic properties. Then, you will see how the people in the customers dataset fit into those created clusters. The hope here is that certain clusters are over-represented in the customers data, as compared to the general population; those over-represented clusters will be assumed to be part of the core userbase. This information can then be used for further applications, such as targeting for a marketing campaign.\n",
    "\n",
    "To start off with, load in the demographics data for the general population into a pandas DataFrame, and do the same for the feature attributes summary. Note for all of the `.csv` data files in this project: they're semicolon (`;`) delimited, so you'll need an additional argument in your [`read_csv()`](https://pandas.pydata.org/pandas-docs/stable/generated/pandas.read_csv.html) call to read in the data properly. Also, considering the size of the main dataset, it may take some time for it to load completely.\n",
    "\n",
    "Once the dataset is loaded, it's recommended that you take a little bit of time just browsing the general structure of the dataset and feature summary file. You'll be getting deep into the innards of the cleaning in the first major step of the project, so gaining some general familiarity can help you get your bearings."
   ]
  },
  {
   "cell_type": "code",
   "execution_count": 2,
   "metadata": {},
   "outputs": [],
   "source": [
    "import pandas as pd\n",
    "# Load in the general demographics data.\n",
    "azdias = pd.read_csv('./Udacity_AZDIAS_Subset.csv',sep=';')\n",
    "azdiasfinal =pd.read_csv('./azdias_final.csv',sep=';')\n",
    "# Load in the feature summary file.\n",
    "customers=pd.read_csv('./final.csv',sep=';')\n",
    "feat_info = pd.read_csv('./AZDIAS_Feature_Summary.csv',sep=';')\n",
    "#customers = pd.read_csv('./Udacity_CUSTOMERS_Subset.csv',sep=';')"
   ]
  },
  {
   "cell_type": "code",
   "execution_count": 3,
   "metadata": {},
   "outputs": [
    {
     "data": {
      "text/plain": [
       "(891221, 85)"
      ]
     },
     "execution_count": 3,
     "metadata": {},
     "output_type": "execute_result"
    }
   ],
   "source": [
    "# Check the structure of the data after it's loaded (e.g. print the number of\n",
    "# rows and columns, print the first few rows).\n",
    "\n",
    "azdias.shape\n"
   ]
  },
  {
   "cell_type": "code",
   "execution_count": 4,
   "metadata": {},
   "outputs": [
    {
     "data": {
      "text/html": [
       "<div>\n",
       "<style>\n",
       "    .dataframe thead tr:only-child th {\n",
       "        text-align: right;\n",
       "    }\n",
       "\n",
       "    .dataframe thead th {\n",
       "        text-align: left;\n",
       "    }\n",
       "\n",
       "    .dataframe tbody tr th {\n",
       "        vertical-align: top;\n",
       "    }\n",
       "</style>\n",
       "<table border=\"1\" class=\"dataframe\">\n",
       "  <thead>\n",
       "    <tr style=\"text-align: right;\">\n",
       "      <th></th>\n",
       "      <th>AGER_TYP</th>\n",
       "      <th>ALTERSKATEGORIE_GROB</th>\n",
       "      <th>ANREDE_KZ</th>\n",
       "      <th>CJT_GESAMTTYP</th>\n",
       "      <th>FINANZ_MINIMALIST</th>\n",
       "      <th>FINANZ_SPARER</th>\n",
       "      <th>FINANZ_VORSORGER</th>\n",
       "      <th>FINANZ_ANLEGER</th>\n",
       "      <th>FINANZ_UNAUFFAELLIGER</th>\n",
       "      <th>FINANZ_HAUSBAUER</th>\n",
       "      <th>...</th>\n",
       "      <th>PLZ8_ANTG1</th>\n",
       "      <th>PLZ8_ANTG2</th>\n",
       "      <th>PLZ8_ANTG3</th>\n",
       "      <th>PLZ8_ANTG4</th>\n",
       "      <th>PLZ8_BAUMAX</th>\n",
       "      <th>PLZ8_HHZ</th>\n",
       "      <th>PLZ8_GBZ</th>\n",
       "      <th>ARBEIT</th>\n",
       "      <th>ORTSGR_KLS9</th>\n",
       "      <th>RELAT_AB</th>\n",
       "    </tr>\n",
       "  </thead>\n",
       "  <tbody>\n",
       "    <tr>\n",
       "      <th>0</th>\n",
       "      <td>-1</td>\n",
       "      <td>2</td>\n",
       "      <td>1</td>\n",
       "      <td>2.0</td>\n",
       "      <td>3</td>\n",
       "      <td>4</td>\n",
       "      <td>3</td>\n",
       "      <td>5</td>\n",
       "      <td>5</td>\n",
       "      <td>3</td>\n",
       "      <td>...</td>\n",
       "      <td>NaN</td>\n",
       "      <td>NaN</td>\n",
       "      <td>NaN</td>\n",
       "      <td>NaN</td>\n",
       "      <td>NaN</td>\n",
       "      <td>NaN</td>\n",
       "      <td>NaN</td>\n",
       "      <td>NaN</td>\n",
       "      <td>NaN</td>\n",
       "      <td>NaN</td>\n",
       "    </tr>\n",
       "    <tr>\n",
       "      <th>1</th>\n",
       "      <td>-1</td>\n",
       "      <td>1</td>\n",
       "      <td>2</td>\n",
       "      <td>5.0</td>\n",
       "      <td>1</td>\n",
       "      <td>5</td>\n",
       "      <td>2</td>\n",
       "      <td>5</td>\n",
       "      <td>4</td>\n",
       "      <td>5</td>\n",
       "      <td>...</td>\n",
       "      <td>2.0</td>\n",
       "      <td>3.0</td>\n",
       "      <td>2.0</td>\n",
       "      <td>1.0</td>\n",
       "      <td>1.0</td>\n",
       "      <td>5.0</td>\n",
       "      <td>4.0</td>\n",
       "      <td>3.0</td>\n",
       "      <td>5.0</td>\n",
       "      <td>4.0</td>\n",
       "    </tr>\n",
       "    <tr>\n",
       "      <th>2</th>\n",
       "      <td>-1</td>\n",
       "      <td>3</td>\n",
       "      <td>2</td>\n",
       "      <td>3.0</td>\n",
       "      <td>1</td>\n",
       "      <td>4</td>\n",
       "      <td>1</td>\n",
       "      <td>2</td>\n",
       "      <td>3</td>\n",
       "      <td>5</td>\n",
       "      <td>...</td>\n",
       "      <td>3.0</td>\n",
       "      <td>3.0</td>\n",
       "      <td>1.0</td>\n",
       "      <td>0.0</td>\n",
       "      <td>1.0</td>\n",
       "      <td>4.0</td>\n",
       "      <td>4.0</td>\n",
       "      <td>3.0</td>\n",
       "      <td>5.0</td>\n",
       "      <td>2.0</td>\n",
       "    </tr>\n",
       "    <tr>\n",
       "      <th>3</th>\n",
       "      <td>2</td>\n",
       "      <td>4</td>\n",
       "      <td>2</td>\n",
       "      <td>2.0</td>\n",
       "      <td>4</td>\n",
       "      <td>2</td>\n",
       "      <td>5</td>\n",
       "      <td>2</td>\n",
       "      <td>1</td>\n",
       "      <td>2</td>\n",
       "      <td>...</td>\n",
       "      <td>2.0</td>\n",
       "      <td>2.0</td>\n",
       "      <td>2.0</td>\n",
       "      <td>0.0</td>\n",
       "      <td>1.0</td>\n",
       "      <td>3.0</td>\n",
       "      <td>4.0</td>\n",
       "      <td>2.0</td>\n",
       "      <td>3.0</td>\n",
       "      <td>3.0</td>\n",
       "    </tr>\n",
       "    <tr>\n",
       "      <th>4</th>\n",
       "      <td>-1</td>\n",
       "      <td>3</td>\n",
       "      <td>1</td>\n",
       "      <td>5.0</td>\n",
       "      <td>4</td>\n",
       "      <td>3</td>\n",
       "      <td>4</td>\n",
       "      <td>1</td>\n",
       "      <td>3</td>\n",
       "      <td>2</td>\n",
       "      <td>...</td>\n",
       "      <td>2.0</td>\n",
       "      <td>4.0</td>\n",
       "      <td>2.0</td>\n",
       "      <td>1.0</td>\n",
       "      <td>2.0</td>\n",
       "      <td>3.0</td>\n",
       "      <td>3.0</td>\n",
       "      <td>4.0</td>\n",
       "      <td>6.0</td>\n",
       "      <td>5.0</td>\n",
       "    </tr>\n",
       "  </tbody>\n",
       "</table>\n",
       "<p>5 rows × 85 columns</p>\n",
       "</div>"
      ],
      "text/plain": [
       "   AGER_TYP  ALTERSKATEGORIE_GROB  ANREDE_KZ  CJT_GESAMTTYP  \\\n",
       "0        -1                     2          1            2.0   \n",
       "1        -1                     1          2            5.0   \n",
       "2        -1                     3          2            3.0   \n",
       "3         2                     4          2            2.0   \n",
       "4        -1                     3          1            5.0   \n",
       "\n",
       "   FINANZ_MINIMALIST  FINANZ_SPARER  FINANZ_VORSORGER  FINANZ_ANLEGER  \\\n",
       "0                  3              4                 3               5   \n",
       "1                  1              5                 2               5   \n",
       "2                  1              4                 1               2   \n",
       "3                  4              2                 5               2   \n",
       "4                  4              3                 4               1   \n",
       "\n",
       "   FINANZ_UNAUFFAELLIGER  FINANZ_HAUSBAUER    ...     PLZ8_ANTG1  PLZ8_ANTG2  \\\n",
       "0                      5                 3    ...            NaN         NaN   \n",
       "1                      4                 5    ...            2.0         3.0   \n",
       "2                      3                 5    ...            3.0         3.0   \n",
       "3                      1                 2    ...            2.0         2.0   \n",
       "4                      3                 2    ...            2.0         4.0   \n",
       "\n",
       "   PLZ8_ANTG3  PLZ8_ANTG4  PLZ8_BAUMAX  PLZ8_HHZ  PLZ8_GBZ  ARBEIT  \\\n",
       "0         NaN         NaN          NaN       NaN       NaN     NaN   \n",
       "1         2.0         1.0          1.0       5.0       4.0     3.0   \n",
       "2         1.0         0.0          1.0       4.0       4.0     3.0   \n",
       "3         2.0         0.0          1.0       3.0       4.0     2.0   \n",
       "4         2.0         1.0          2.0       3.0       3.0     4.0   \n",
       "\n",
       "   ORTSGR_KLS9  RELAT_AB  \n",
       "0          NaN       NaN  \n",
       "1          5.0       4.0  \n",
       "2          5.0       2.0  \n",
       "3          3.0       3.0  \n",
       "4          6.0       5.0  \n",
       "\n",
       "[5 rows x 85 columns]"
      ]
     },
     "execution_count": 4,
     "metadata": {},
     "output_type": "execute_result"
    }
   ],
   "source": [
    "azdias.head()"
   ]
  },
  {
   "cell_type": "code",
   "execution_count": 5,
   "metadata": {},
   "outputs": [
    {
     "data": {
      "text/plain": [
       "(85, 4)"
      ]
     },
     "execution_count": 5,
     "metadata": {},
     "output_type": "execute_result"
    }
   ],
   "source": [
    "feat_info.shape"
   ]
  },
  {
   "cell_type": "code",
   "execution_count": 6,
   "metadata": {},
   "outputs": [
    {
     "data": {
      "text/html": [
       "<div>\n",
       "<style>\n",
       "    .dataframe thead tr:only-child th {\n",
       "        text-align: right;\n",
       "    }\n",
       "\n",
       "    .dataframe thead th {\n",
       "        text-align: left;\n",
       "    }\n",
       "\n",
       "    .dataframe tbody tr th {\n",
       "        vertical-align: top;\n",
       "    }\n",
       "</style>\n",
       "<table border=\"1\" class=\"dataframe\">\n",
       "  <thead>\n",
       "    <tr style=\"text-align: right;\">\n",
       "      <th></th>\n",
       "      <th>attribute</th>\n",
       "      <th>information_level</th>\n",
       "      <th>type</th>\n",
       "      <th>missing_or_unknown</th>\n",
       "    </tr>\n",
       "  </thead>\n",
       "  <tbody>\n",
       "    <tr>\n",
       "      <th>0</th>\n",
       "      <td>AGER_TYP</td>\n",
       "      <td>person</td>\n",
       "      <td>categorical</td>\n",
       "      <td>[-1,0]</td>\n",
       "    </tr>\n",
       "    <tr>\n",
       "      <th>1</th>\n",
       "      <td>ALTERSKATEGORIE_GROB</td>\n",
       "      <td>person</td>\n",
       "      <td>ordinal</td>\n",
       "      <td>[-1,0,9]</td>\n",
       "    </tr>\n",
       "    <tr>\n",
       "      <th>2</th>\n",
       "      <td>ANREDE_KZ</td>\n",
       "      <td>person</td>\n",
       "      <td>categorical</td>\n",
       "      <td>[-1,0]</td>\n",
       "    </tr>\n",
       "    <tr>\n",
       "      <th>3</th>\n",
       "      <td>CJT_GESAMTTYP</td>\n",
       "      <td>person</td>\n",
       "      <td>categorical</td>\n",
       "      <td>[0]</td>\n",
       "    </tr>\n",
       "    <tr>\n",
       "      <th>4</th>\n",
       "      <td>FINANZ_MINIMALIST</td>\n",
       "      <td>person</td>\n",
       "      <td>ordinal</td>\n",
       "      <td>[-1]</td>\n",
       "    </tr>\n",
       "  </tbody>\n",
       "</table>\n",
       "</div>"
      ],
      "text/plain": [
       "              attribute information_level         type missing_or_unknown\n",
       "0              AGER_TYP            person  categorical             [-1,0]\n",
       "1  ALTERSKATEGORIE_GROB            person      ordinal           [-1,0,9]\n",
       "2             ANREDE_KZ            person  categorical             [-1,0]\n",
       "3         CJT_GESAMTTYP            person  categorical                [0]\n",
       "4     FINANZ_MINIMALIST            person      ordinal               [-1]"
      ]
     },
     "execution_count": 6,
     "metadata": {},
     "output_type": "execute_result"
    }
   ],
   "source": [
    "feat_info.head()"
   ]
  },
  {
   "cell_type": "code",
   "execution_count": 7,
   "metadata": {},
   "outputs": [],
   "source": [
    "#feat_info.set_index('attribute',inplace=True)"
   ]
  },
  {
   "cell_type": "code",
   "execution_count": 8,
   "metadata": {},
   "outputs": [
    {
     "data": {
      "text/html": [
       "<div>\n",
       "<style>\n",
       "    .dataframe thead tr:only-child th {\n",
       "        text-align: right;\n",
       "    }\n",
       "\n",
       "    .dataframe thead th {\n",
       "        text-align: left;\n",
       "    }\n",
       "\n",
       "    .dataframe tbody tr th {\n",
       "        vertical-align: top;\n",
       "    }\n",
       "</style>\n",
       "<table border=\"1\" class=\"dataframe\">\n",
       "  <thead>\n",
       "    <tr style=\"text-align: right;\">\n",
       "      <th></th>\n",
       "      <th>attribute</th>\n",
       "      <th>information_level</th>\n",
       "      <th>type</th>\n",
       "      <th>missing_or_unknown</th>\n",
       "    </tr>\n",
       "  </thead>\n",
       "  <tbody>\n",
       "    <tr>\n",
       "      <th>0</th>\n",
       "      <td>AGER_TYP</td>\n",
       "      <td>person</td>\n",
       "      <td>categorical</td>\n",
       "      <td>[-1,0]</td>\n",
       "    </tr>\n",
       "    <tr>\n",
       "      <th>1</th>\n",
       "      <td>ALTERSKATEGORIE_GROB</td>\n",
       "      <td>person</td>\n",
       "      <td>ordinal</td>\n",
       "      <td>[-1,0,9]</td>\n",
       "    </tr>\n",
       "    <tr>\n",
       "      <th>2</th>\n",
       "      <td>ANREDE_KZ</td>\n",
       "      <td>person</td>\n",
       "      <td>categorical</td>\n",
       "      <td>[-1,0]</td>\n",
       "    </tr>\n",
       "    <tr>\n",
       "      <th>3</th>\n",
       "      <td>CJT_GESAMTTYP</td>\n",
       "      <td>person</td>\n",
       "      <td>categorical</td>\n",
       "      <td>[0]</td>\n",
       "    </tr>\n",
       "    <tr>\n",
       "      <th>4</th>\n",
       "      <td>FINANZ_MINIMALIST</td>\n",
       "      <td>person</td>\n",
       "      <td>ordinal</td>\n",
       "      <td>[-1]</td>\n",
       "    </tr>\n",
       "  </tbody>\n",
       "</table>\n",
       "</div>"
      ],
      "text/plain": [
       "              attribute information_level         type missing_or_unknown\n",
       "0              AGER_TYP            person  categorical             [-1,0]\n",
       "1  ALTERSKATEGORIE_GROB            person      ordinal           [-1,0,9]\n",
       "2             ANREDE_KZ            person  categorical             [-1,0]\n",
       "3         CJT_GESAMTTYP            person  categorical                [0]\n",
       "4     FINANZ_MINIMALIST            person      ordinal               [-1]"
      ]
     },
     "execution_count": 8,
     "metadata": {},
     "output_type": "execute_result"
    }
   ],
   "source": [
    "feat_info.head()\n"
   ]
  },
  {
   "cell_type": "markdown",
   "metadata": {},
   "source": [
    "> **Tip**: Add additional cells to keep everything in reasonably-sized chunks! Keyboard shortcut `esc --> a` (press escape to enter command mode, then press the 'A' key) adds a new cell before the active cell, and `esc --> b` adds a new cell after the active cell. If you need to convert an active cell to a markdown cell, use `esc --> m` and to convert to a code cell, use `esc --> y`. \n",
    "\n",
    "## Step 1: Preprocessing\n",
    "\n",
    "### Step 1.1: Assess Missing Data\n",
    "\n",
    "The feature summary file contains a summary of properties for each demographics data column. You will use this file to help you make cleaning decisions during this stage of the project. First of all, you should assess the demographics data in terms of missing data. Pay attention to the following points as you perform your analysis, and take notes on what you observe. Make sure that you fill in the **Discussion** cell with your findings and decisions at the end of each step that has one!\n",
    "\n",
    "#### Step 1.1.1: Convert Missing Value Codes to NaNs\n",
    "The fourth column of the feature attributes summary (loaded in above as `feat_info`) documents the codes from the data dictionary that indicate missing or unknown data. While the file encodes this as a list (e.g. `[-1,0]`), this will get read in as a string object. You'll need to do a little bit of parsing to make use of it to identify and clean the data. Convert data that matches a 'missing' or 'unknown' value code into a numpy NaN value. You might want to see how much data takes on a 'missing' or 'unknown' code, and how much data is naturally missing, as a point of interest.\n",
    "\n",
    "**As one more reminder, you are encouraged to add additional cells to break up your analysis into manageable chunks.**"
   ]
  },
  {
   "cell_type": "code",
   "execution_count": 9,
   "metadata": {},
   "outputs": [],
   "source": [
    "# Identify missing or unknown data values and convert them to NaNs.\n",
    "#col_names = azdias.columns\n",
    "#for col in col_names:\n",
    "#    azdias[col]=azdias[col].map(lambda x : np.nan if str(x) in feat_info.loc[col].missing_or_unknown else x)"
   ]
  },
  {
   "cell_type": "code",
   "execution_count": 10,
   "metadata": {},
   "outputs": [],
   "source": [
    "#azdias.to_csv('azdias_final.csv', sep=';', index = False)"
   ]
  },
  {
   "cell_type": "code",
   "execution_count": 11,
   "metadata": {},
   "outputs": [
    {
     "data": {
      "text/plain": [
       "0      [-1,0]\n",
       "1    [-1,0,9]\n",
       "2      [-1,0]\n",
       "3         [0]\n",
       "4        [-1]\n",
       "Name: missing_or_unknown, dtype: object"
      ]
     },
     "execution_count": 11,
     "metadata": {},
     "output_type": "execute_result"
    }
   ],
   "source": [
    "feat_info['missing_or_unknown'].head()"
   ]
  },
  {
   "cell_type": "code",
   "execution_count": 12,
   "metadata": {},
   "outputs": [
    {
     "data": {
      "text/plain": [
       "0                AGER_TYP\n",
       "1    ALTERSKATEGORIE_GROB\n",
       "2               ANREDE_KZ\n",
       "3           CJT_GESAMTTYP\n",
       "4       FINANZ_MINIMALIST\n",
       "Name: attribute, dtype: object"
      ]
     },
     "execution_count": 12,
     "metadata": {},
     "output_type": "execute_result"
    }
   ],
   "source": [
    "feat_info['attribute'].head()"
   ]
  },
  {
   "cell_type": "code",
   "execution_count": 13,
   "metadata": {},
   "outputs": [],
   "source": [
    "#customers[attrib]=customers[attrib].astype('object')"
   ]
  },
  {
   "cell_type": "code",
   "execution_count": 14,
   "metadata": {},
   "outputs": [],
   "source": [
    "#customers[attrib]=customers[attrib].astype('object')"
   ]
  },
  {
   "cell_type": "code",
   "execution_count": 15,
   "metadata": {},
   "outputs": [],
   "source": [
    "#customers[attrib].head()"
   ]
  },
  {
   "cell_type": "code",
   "execution_count": 16,
   "metadata": {},
   "outputs": [],
   "source": [
    "feat_info['missing_or_unknown'] = feat_info['missing_or_unknown'].apply(lambda x: x[1:-1].split(','))\n",
    "# Identify missing or unknown data values and convert them to NaNs.\n",
    "for attrib, missing_values in zip(feat_info['attribute'], feat_info['missing_or_unknown']):\n",
    "    \n",
    "    if missing_values[0] != '':\n",
    "        for value in missing_values:\n",
    "            if value.isnumeric() or value.lstrip('-').isnumeric():\n",
    "                value = int(value)\n",
    "            azdias.loc[azdias[attrib] == value, attrib] = np.nan\n",
    "            customers[attrib]=customers[attrib].astype('object')\n",
    "            customers.loc[customers[attrib] == value, attrib] = np.nan\n",
    "            #print(type(customers[attrib]))\n",
    "            #print(type(azdias[attrib]))"
   ]
  },
  {
   "cell_type": "code",
   "execution_count": 17,
   "metadata": {},
   "outputs": [
    {
     "data": {
      "text/plain": [
       "85"
      ]
     },
     "execution_count": 17,
     "metadata": {},
     "output_type": "execute_result"
    }
   ],
   "source": [
    "azdiasfinal.shape[1]"
   ]
  },
  {
   "cell_type": "markdown",
   "metadata": {},
   "source": [
    "#### Step 1.1.2: Assess Missing Data in Each Column\n",
    "\n",
    "How much missing data is present in each column? There are a few columns that are outliers in terms of the proportion of values that are missing. You will want to use matplotlib's [`hist()`](https://matplotlib.org/api/_as_gen/matplotlib.pyplot.hist.html) function to visualize the distribution of missing value counts to find these columns. Identify and document these columns. While some of these columns might have justifications for keeping or re-encoding the data, for this project you should just remove them from the dataframe. (Feel free to make remarks about these outlier columns in the discussion, however!)\n",
    "\n",
    "For the remaining features, are there any patterns in which columns have, or share, missing data?"
   ]
  },
  {
   "cell_type": "code",
   "execution_count": 18,
   "metadata": {},
   "outputs": [],
   "source": [
    "# Perform an assessment of how much missing data there is in each column of the\n",
    "# dataset.\n",
    "missing=azdiasfinal.isnull().mean()\n"
   ]
  },
  {
   "cell_type": "code",
   "execution_count": 19,
   "metadata": {},
   "outputs": [
    {
     "data": {
      "text/plain": [
       "<matplotlib.axes._subplots.AxesSubplot at 0x7fa97fbd5be0>"
      ]
     },
     "execution_count": 19,
     "metadata": {},
     "output_type": "execute_result"
    },
    {
     "data": {
      "image/png": "[encoded data removed]",
      "text/plain": [
       "<matplotlib.figure.Figure at 0x7fa97fb435f8>"
      ]
     },
     "metadata": {
      "needs_background": "light"
     },
     "output_type": "display_data"
    }
   ],
   "source": [
    "plt.figure(figsize=(10,25))\n",
    "missing.sort_values(ascending=False).plot(kind='barh')"
   ]
  },
  {
   "cell_type": "code",
   "execution_count": 20,
   "metadata": {},
   "outputs": [
    {
     "data": {
      "text/plain": [
       "array(['AGER_TYP', 'ALTERSKATEGORIE_GROB', 'ANREDE_KZ', 'CJT_GESAMTTYP',\n",
       "       'FINANZ_MINIMALIST', 'FINANZ_SPARER', 'FINANZ_VORSORGER',\n",
       "       'FINANZ_ANLEGER', 'FINANZ_UNAUFFAELLIGER', 'FINANZ_HAUSBAUER',\n",
       "       'FINANZTYP', 'GEBURTSJAHR', 'GFK_URLAUBERTYP', 'GREEN_AVANTGARDE',\n",
       "       'HEALTH_TYP', 'LP_LEBENSPHASE_FEIN', 'LP_LEBENSPHASE_GROB',\n",
       "       'LP_FAMILIE_FEIN', 'LP_FAMILIE_GROB', 'LP_STATUS_FEIN',\n",
       "       'LP_STATUS_GROB', 'NATIONALITAET_KZ', 'PRAEGENDE_JUGENDJAHRE',\n",
       "       'RETOURTYP_BK_S', 'SEMIO_SOZ', 'SEMIO_FAM', 'SEMIO_REL',\n",
       "       'SEMIO_MAT', 'SEMIO_VERT', 'SEMIO_LUST', 'SEMIO_ERL', 'SEMIO_KULT',\n",
       "       'SEMIO_RAT', 'SEMIO_KRIT', 'SEMIO_DOM', 'SEMIO_KAEM',\n",
       "       'SEMIO_PFLICHT', 'SEMIO_TRADV', 'SHOPPER_TYP', 'SOHO_KZ',\n",
       "       'TITEL_KZ', 'VERS_TYP', 'ZABEOTYP', 'ALTER_HH', 'ANZ_PERSONEN',\n",
       "       'ANZ_TITEL', 'HH_EINKOMMEN_SCORE', 'KK_KUNDENTYP', 'W_KEIT_KIND_HH',\n",
       "       'WOHNDAUER_2008', 'ANZ_HAUSHALTE_AKTIV', 'ANZ_HH_TITEL',\n",
       "       'GEBAEUDETYP', 'KONSUMNAEHE', 'MIN_GEBAEUDEJAHR', 'OST_WEST_KZ',\n",
       "       'WOHNLAGE', 'CAMEO_DEUG_2015', 'CAMEO_DEU_2015', 'CAMEO_INTL_2015',\n",
       "       'KBA05_ANTG1', 'KBA05_ANTG2', 'KBA05_ANTG3', 'KBA05_ANTG4',\n",
       "       'KBA05_BAUMAX', 'KBA05_GBZ', 'BALLRAUM', 'EWDICHTE', 'INNENSTADT',\n",
       "       'GEBAEUDETYP_RASTER', 'KKK', 'MOBI_REGIO', 'ONLINE_AFFINITAET',\n",
       "       'REGIOTYP', 'KBA13_ANZAHL_PKW', 'PLZ8_ANTG1', 'PLZ8_ANTG2',\n",
       "       'PLZ8_ANTG3', 'PLZ8_ANTG4', 'PLZ8_BAUMAX', 'PLZ8_HHZ', 'PLZ8_GBZ',\n",
       "       'ARBEIT', 'ORTSGR_KLS9', 'RELAT_AB'], dtype=object)"
      ]
     },
     "execution_count": 20,
     "metadata": {},
     "output_type": "execute_result"
    }
   ],
   "source": [
    "# Investigate patterns in the amount of missing data in each column.\n",
    "col_name=azdiasfinal.columns.values\n",
    "col_name"
   ]
  },
  {
   "cell_type": "code",
   "execution_count": 21,
   "metadata": {},
   "outputs": [
    {
     "data": {
      "text/plain": [
       "Text(0,0.5,'Frequency')"
      ]
     },
     "execution_count": 21,
     "metadata": {},
     "output_type": "execute_result"
    },
    {
     "data": {
      "image/png": "[encoded data removed]",
      "text/plain": [
       "<matplotlib.figure.Figure at 0x7fa939627e80>"
      ]
     },
     "metadata": {
      "needs_background": "light"
     },
     "output_type": "display_data"
    }
   ],
   "source": [
    "import matplotlib.pyplot as plt\n",
    "plt.hist(missing)\n",
    "plt.title(\"Missing values\")\n",
    "plt.xlabel(\"Value\")\n",
    "plt.ylabel(\"Frequency\")"
   ]
  },
  {
   "cell_type": "code",
   "execution_count": 22,
   "metadata": {},
   "outputs": [
    {
     "data": {
      "text/plain": [
       "'This shows that columns more than 20% missing values in a column are outliers.\\nI have used 42% as the cutoff in order to remove about six columns from the dataset as we do not want to lose a lot of data \\n'"
      ]
     },
     "execution_count": 22,
     "metadata": {},
     "output_type": "execute_result"
    }
   ],
   "source": [
    "'''This shows that columns more than 20% missing values in a column are outliers.\n",
    "I have used 42% as the cutoff in order to remove about six columns from the dataset as we do not want to lose a lot of data \n",
    "'''"
   ]
  },
  {
   "cell_type": "code",
   "execution_count": 23,
   "metadata": {},
   "outputs": [],
   "source": [
    "missing_columns=[]\n",
    "for col in col_name:\n",
    "    if azdiasfinal[col].isnull().mean()>0.42:\n",
    "        missing_columns.append(col)"
   ]
  },
  {
   "cell_type": "code",
   "execution_count": 24,
   "metadata": {},
   "outputs": [
    {
     "name": "stdout",
     "output_type": "stream",
     "text": [
      "['AGER_TYP', 'ANREDE_KZ', 'GEBURTSJAHR', 'NATIONALITAET_KZ', 'VERS_TYP', 'KK_KUNDENTYP']\n"
     ]
    }
   ],
   "source": [
    "print(missing_columns)"
   ]
  },
  {
   "cell_type": "code",
   "execution_count": 25,
   "metadata": {},
   "outputs": [],
   "source": [
    "azdiasfinal=azdiasfinal.drop(missing_columns,axis=1)"
   ]
  },
  {
   "cell_type": "code",
   "execution_count": 26,
   "metadata": {},
   "outputs": [
    {
     "data": {
      "text/plain": [
       "(891221, 79)"
      ]
     },
     "execution_count": 26,
     "metadata": {},
     "output_type": "execute_result"
    }
   ],
   "source": [
    "azdiasfinal.shape"
   ]
  },
  {
   "cell_type": "code",
   "execution_count": 27,
   "metadata": {},
   "outputs": [],
   "source": [
    "# Remove the outlier columns from the dataset. (You'll perform other data\n",
    "# engineering tasks such as re-encoding and imputation later.)\n"
   ]
  },
  {
   "cell_type": "markdown",
   "metadata": {},
   "source": [
    "#### Discussion 1.1.2: Assess Missing Data in Each Column\n",
    "\n",
    "(Double click this cell and replace this text with your own text, reporting your observations regarding the amount of missing data in each column. Are there any patterns in missing values? Which columns were removed from the dataset?)\n",
    "\n",
    "After plotting columns with the percentage missing value, it is easy to identify that columns with missing values greater than 20% are outliers.\n",
    "But using 20% as the cutoff would remove a large number of columns and casuse loss of information. Hence, I have increased the cutoff to 40% as the columns that need to be removed is around seven which seems reasonable for this dataset."
   ]
  },
  {
   "cell_type": "markdown",
   "metadata": {},
   "source": [
    "#### Step 1.1.3: Assess Missing Data in Each Row\n",
    "\n",
    "Now, you'll perform a similar assessment for the rows of the dataset. How much data is missing in each row? As with the columns, you should see some groups of points that have a very different numbers of missing values. Divide the data into two subsets: one for data points that are above some threshold for missing values, and a second subset for points below that threshold.\n",
    "\n",
    "In order to know what to do with the outlier rows, we should see if the distribution of data values on columns that are not missing data (or are missing very little data) are similar or different between the two groups. Select at least five of these columns and compare the distribution of values.\n",
    "- You can use seaborn's [`countplot()`](https://seaborn.pydata.org/generated/seaborn.countplot.html) function to create a bar chart of code frequencies and matplotlib's [`subplot()`](https://matplotlib.org/api/_as_gen/matplotlib.pyplot.subplot.html) function to put bar charts for the two subplots side by side.\n",
    "- To reduce repeated code, you might want to write a function that can perform this comparison, taking as one of its arguments a column to be compared.\n",
    "\n",
    "Depending on what you observe in your comparison, this will have implications on how you approach your conclusions later in the analysis. If the distributions of non-missing features look similar between the data with many missing values and the data with few or no missing values, then we could argue that simply dropping those points from the analysis won't present a major issue. On the other hand, if the data with many missing values looks very different from the data with few or no missing values, then we should make a note on those data as special. We'll revisit these data later on. **Either way, you should continue your analysis for now using just the subset of the data with few or no missing values.**"
   ]
  },
  {
   "cell_type": "code",
   "execution_count": 28,
   "metadata": {},
   "outputs": [],
   "source": [
    "# How much data is missing in each row of the dataset?\n",
    "missing_data1=(azdiasfinal.isnull().sum(axis=1)/azdiasfinal.shape[0])*100\n",
    "#azdiasfinal['missing_data']=missing_data"
   ]
  },
  {
   "cell_type": "code",
   "execution_count": 29,
   "metadata": {},
   "outputs": [
    {
     "data": {
      "text/plain": [
       "Text(0,0.5,'Frequency')"
      ]
     },
     "execution_count": 29,
     "metadata": {},
     "output_type": "execute_result"
    },
    {
     "data": {
      "image/png": "[encoded data removed]",
      "text/plain": [
       "<matplotlib.figure.Figure at 0x7fa939548c88>"
      ]
     },
     "metadata": {
      "needs_background": "light"
     },
     "output_type": "display_data"
    }
   ],
   "source": [
    "# Write code to divide the data into two subsets based on the number of missing\n",
    "# values in each row.\n",
    "import matplotlib.pyplot as plt\n",
    "plt.hist(missing_data1)\n",
    "plt.title(\"Missing values\")\n",
    "plt.xlabel(\"Value\")\n",
    "plt.ylabel(\"Frequency\")"
   ]
  },
  {
   "cell_type": "code",
   "execution_count": 30,
   "metadata": {},
   "outputs": [
    {
     "data": {
      "text/plain": [
       "(0, 79)"
      ]
     },
     "execution_count": 30,
     "metadata": {},
     "output_type": "execute_result"
    }
   ],
   "source": [
    "col_name=azdiasfinal.columns\n",
    "df1 = pd.DataFrame(columns=col_name)\n",
    "df2 = pd.DataFrame(columns=col_name)\n",
    "df1.shape"
   ]
  },
  {
   "cell_type": "code",
   "execution_count": 31,
   "metadata": {},
   "outputs": [],
   "source": [
    "df1 = azdiasfinal[(azdiasfinal.isnull().sum(axis=1)/azdiasfinal.shape[0])*100 < 0.003]\n",
    "df2 = azdiasfinal[(azdiasfinal.isnull().sum(axis=1)/azdiasfinal.shape[0])*100 >= 0.003]"
   ]
  },
  {
   "cell_type": "code",
   "execution_count": 32,
   "metadata": {},
   "outputs": [
    {
     "data": {
      "text/plain": [
       "(797755, 79)"
      ]
     },
     "execution_count": 32,
     "metadata": {},
     "output_type": "execute_result"
    }
   ],
   "source": [
    "df1.shape"
   ]
  },
  {
   "cell_type": "code",
   "execution_count": 33,
   "metadata": {},
   "outputs": [
    {
     "data": {
      "text/plain": [
       "(93466, 79)"
      ]
     },
     "execution_count": 33,
     "metadata": {},
     "output_type": "execute_result"
    }
   ],
   "source": [
    "df2.shape"
   ]
  },
  {
   "cell_type": "code",
   "execution_count": 34,
   "metadata": {},
   "outputs": [
    {
     "data": {
      "text/plain": [
       "79"
      ]
     },
     "execution_count": 34,
     "metadata": {},
     "output_type": "execute_result"
    }
   ],
   "source": [
    "df1.shape[1]"
   ]
  },
  {
   "cell_type": "code",
   "execution_count": 35,
   "metadata": {},
   "outputs": [
    {
     "name": "stdout",
     "output_type": "stream",
     "text": [
      "4854\n",
      "1\n",
      "4854\n",
      "2\n",
      "0\n",
      "3\n",
      "4854\n",
      "4\n",
      "4854\n",
      "5\n",
      "Break\n",
      "0\n",
      "1\n",
      "62088\n",
      "2\n",
      "97341\n",
      "3\n",
      "44762\n",
      "4\n",
      "47203\n",
      "5\n",
      "Break\n",
      "['CJT_GESAMTTYP', 'GFK_URLAUBERTYP', 'GREEN_AVANTGARDE', 'LP_LEBENSPHASE_FEIN', 'LP_LEBENSPHASE_GROB']\n",
      "['GREEN_AVANTGARDE', 'SEMIO_SOZ', 'SEMIO_MAT', 'SEMIO_DOM', 'SEMIO_KAEM']\n"
     ]
    }
   ],
   "source": [
    "# Compare the distribution of values for at least five columns where there are\n",
    "# no or few missing values, between the two subsets.\n",
    "col_name=azdiasfinal.columns\n",
    "dfa = pd.DataFrame(columns=col_name)\n",
    "dfb = pd.DataFrame(columns=col_name)\n",
    "count=0\n",
    "list1=[]\n",
    "list2=[]\n",
    "\n",
    "for col in col_name:\n",
    "    if(count<5):\n",
    "        \n",
    "        if((azdiasfinal[col].isnull().sum(axis=0)<= 4854)):\n",
    "            list1.append(col)\n",
    "            print(azdiasfinal[col].isnull().sum(axis=0))\n",
    "            count=count+1\n",
    "            print(count)\n",
    "    else:\n",
    "        print(\"Break\")\n",
    "        break\n",
    "count=0\n",
    "for col in col_name:\n",
    "    if(count<5):\n",
    "        \n",
    "        if(df2[col].isnull().sum(axis=0)<=200):\n",
    "            list2.append(col)\n",
    "            print(azdiasfinal[col].isnull().sum(axis=0))\n",
    "            count=count+1\n",
    "            print(count)\n",
    "    else:\n",
    "        print(\"Break\")\n",
    "        break\n",
    "count=0  \n",
    "print(list1)    \n",
    "print(list2)"
   ]
  },
  {
   "cell_type": "code",
   "execution_count": 36,
   "metadata": {},
   "outputs": [],
   "source": [
    "missingList=azdiasfinal.isnull().sum(axis=0)\n",
    "missingList=np.array(missingList)"
   ]
  },
  {
   "cell_type": "code",
   "execution_count": 37,
   "metadata": {},
   "outputs": [
    {
     "name": "stdout",
     "output_type": "stream",
     "text": [
      "[     0   4854   4854   4854   4854   4854   4854   4854   4854   4854\n",
      "   4854  18348  42696  44762  46774  47203  54947  62088  73499  73499\n",
      "  73499  73499  73499  73499  73969  74155  81916  93148  93148  93148\n",
      "  93148  93148  93155  93740  93740  93740  96775  97008  97216  97216\n",
      "  97216  97341  99352  99352 104369 105800 107602 108130 110382 116515\n",
      " 116515 116515 116515 116515 116515 116515 120437 121196 121196 123622\n",
      " 128216 129446 133324 133324 133324 133324 133324 133324 133324 135564\n",
      " 139587 143104 145768 199572 210812 220597 250213 273584 365957]\n"
     ]
    }
   ],
   "source": [
    "missingList.sort()\n",
    "print(missingList)"
   ]
  },
  {
   "cell_type": "code",
   "execution_count": 38,
   "metadata": {},
   "outputs": [
    {
     "data": {
      "text/plain": [
       "['GREEN_AVANTGARDE', 'SEMIO_SOZ', 'SEMIO_MAT', 'SEMIO_DOM', 'SEMIO_PFLICHT']"
      ]
     },
     "execution_count": 38,
     "metadata": {},
     "output_type": "execute_result"
    }
   ],
   "source": [
    "['GREEN_AVANTGARDE', 'SEMIO_SOZ', 'SEMIO_MAT', 'SEMIO_DOM', 'SEMIO_PFLICHT']"
   ]
  },
  {
   "cell_type": "code",
   "execution_count": 39,
   "metadata": {},
   "outputs": [
    {
     "data": {
      "text/plain": [
       "62088"
      ]
     },
     "execution_count": 39,
     "metadata": {},
     "output_type": "execute_result"
    }
   ],
   "source": [
    "azdiasfinal['SEMIO_SOZ'].isnull().sum(axis=0)"
   ]
  },
  {
   "cell_type": "code",
   "execution_count": 40,
   "metadata": {},
   "outputs": [
    {
     "data": {
      "text/html": [
       "<div>\n",
       "<style>\n",
       "    .dataframe thead tr:only-child th {\n",
       "        text-align: right;\n",
       "    }\n",
       "\n",
       "    .dataframe thead th {\n",
       "        text-align: left;\n",
       "    }\n",
       "\n",
       "    .dataframe tbody tr th {\n",
       "        vertical-align: top;\n",
       "    }\n",
       "</style>\n",
       "<table border=\"1\" class=\"dataframe\">\n",
       "  <thead>\n",
       "    <tr style=\"text-align: right;\">\n",
       "      <th></th>\n",
       "      <th>ALTERSKATEGORIE_GROB</th>\n",
       "      <th>CJT_GESAMTTYP</th>\n",
       "      <th>FINANZ_MINIMALIST</th>\n",
       "      <th>FINANZ_SPARER</th>\n",
       "      <th>FINANZ_VORSORGER</th>\n",
       "      <th>FINANZ_ANLEGER</th>\n",
       "      <th>FINANZ_UNAUFFAELLIGER</th>\n",
       "      <th>FINANZ_HAUSBAUER</th>\n",
       "      <th>FINANZTYP</th>\n",
       "      <th>GFK_URLAUBERTYP</th>\n",
       "      <th>...</th>\n",
       "      <th>PLZ8_ANTG1</th>\n",
       "      <th>PLZ8_ANTG2</th>\n",
       "      <th>PLZ8_ANTG3</th>\n",
       "      <th>PLZ8_ANTG4</th>\n",
       "      <th>PLZ8_BAUMAX</th>\n",
       "      <th>PLZ8_HHZ</th>\n",
       "      <th>PLZ8_GBZ</th>\n",
       "      <th>ARBEIT</th>\n",
       "      <th>ORTSGR_KLS9</th>\n",
       "      <th>RELAT_AB</th>\n",
       "    </tr>\n",
       "  </thead>\n",
       "  <tbody>\n",
       "    <tr>\n",
       "      <th>1</th>\n",
       "      <td>NaN</td>\n",
       "      <td>5.0</td>\n",
       "      <td>NaN</td>\n",
       "      <td>5.0</td>\n",
       "      <td>2.0</td>\n",
       "      <td>5.0</td>\n",
       "      <td>4.0</td>\n",
       "      <td>5.0</td>\n",
       "      <td>NaN</td>\n",
       "      <td>10.0</td>\n",
       "      <td>...</td>\n",
       "      <td>2.0</td>\n",
       "      <td>3.0</td>\n",
       "      <td>2.0</td>\n",
       "      <td>1.0</td>\n",
       "      <td>1.0</td>\n",
       "      <td>5.0</td>\n",
       "      <td>4.0</td>\n",
       "      <td>3.0</td>\n",
       "      <td>5.0</td>\n",
       "      <td>4.0</td>\n",
       "    </tr>\n",
       "    <tr>\n",
       "      <th>2</th>\n",
       "      <td>3.0</td>\n",
       "      <td>3.0</td>\n",
       "      <td>NaN</td>\n",
       "      <td>4.0</td>\n",
       "      <td>NaN</td>\n",
       "      <td>2.0</td>\n",
       "      <td>3.0</td>\n",
       "      <td>5.0</td>\n",
       "      <td>NaN</td>\n",
       "      <td>10.0</td>\n",
       "      <td>...</td>\n",
       "      <td>3.0</td>\n",
       "      <td>3.0</td>\n",
       "      <td>1.0</td>\n",
       "      <td>0.0</td>\n",
       "      <td>1.0</td>\n",
       "      <td>4.0</td>\n",
       "      <td>4.0</td>\n",
       "      <td>3.0</td>\n",
       "      <td>5.0</td>\n",
       "      <td>2.0</td>\n",
       "    </tr>\n",
       "    <tr>\n",
       "      <th>3</th>\n",
       "      <td>4.0</td>\n",
       "      <td>2.0</td>\n",
       "      <td>4.0</td>\n",
       "      <td>2.0</td>\n",
       "      <td>5.0</td>\n",
       "      <td>2.0</td>\n",
       "      <td>NaN</td>\n",
       "      <td>2.0</td>\n",
       "      <td>6.0</td>\n",
       "      <td>1.0</td>\n",
       "      <td>...</td>\n",
       "      <td>2.0</td>\n",
       "      <td>2.0</td>\n",
       "      <td>2.0</td>\n",
       "      <td>0.0</td>\n",
       "      <td>1.0</td>\n",
       "      <td>3.0</td>\n",
       "      <td>4.0</td>\n",
       "      <td>2.0</td>\n",
       "      <td>3.0</td>\n",
       "      <td>3.0</td>\n",
       "    </tr>\n",
       "    <tr>\n",
       "      <th>4</th>\n",
       "      <td>3.0</td>\n",
       "      <td>5.0</td>\n",
       "      <td>4.0</td>\n",
       "      <td>3.0</td>\n",
       "      <td>4.0</td>\n",
       "      <td>NaN</td>\n",
       "      <td>3.0</td>\n",
       "      <td>2.0</td>\n",
       "      <td>5.0</td>\n",
       "      <td>5.0</td>\n",
       "      <td>...</td>\n",
       "      <td>2.0</td>\n",
       "      <td>4.0</td>\n",
       "      <td>2.0</td>\n",
       "      <td>1.0</td>\n",
       "      <td>2.0</td>\n",
       "      <td>3.0</td>\n",
       "      <td>3.0</td>\n",
       "      <td>4.0</td>\n",
       "      <td>6.0</td>\n",
       "      <td>5.0</td>\n",
       "    </tr>\n",
       "    <tr>\n",
       "      <th>5</th>\n",
       "      <td>NaN</td>\n",
       "      <td>2.0</td>\n",
       "      <td>3.0</td>\n",
       "      <td>NaN</td>\n",
       "      <td>5.0</td>\n",
       "      <td>2.0</td>\n",
       "      <td>2.0</td>\n",
       "      <td>5.0</td>\n",
       "      <td>2.0</td>\n",
       "      <td>1.0</td>\n",
       "      <td>...</td>\n",
       "      <td>2.0</td>\n",
       "      <td>3.0</td>\n",
       "      <td>1.0</td>\n",
       "      <td>1.0</td>\n",
       "      <td>1.0</td>\n",
       "      <td>5.0</td>\n",
       "      <td>5.0</td>\n",
       "      <td>2.0</td>\n",
       "      <td>3.0</td>\n",
       "      <td>3.0</td>\n",
       "    </tr>\n",
       "  </tbody>\n",
       "</table>\n",
       "<p>5 rows × 79 columns</p>\n",
       "</div>"
      ],
      "text/plain": [
       "   ALTERSKATEGORIE_GROB  CJT_GESAMTTYP  FINANZ_MINIMALIST  FINANZ_SPARER  \\\n",
       "1                   NaN            5.0                NaN            5.0   \n",
       "2                   3.0            3.0                NaN            4.0   \n",
       "3                   4.0            2.0                4.0            2.0   \n",
       "4                   3.0            5.0                4.0            3.0   \n",
       "5                   NaN            2.0                3.0            NaN   \n",
       "\n",
       "   FINANZ_VORSORGER  FINANZ_ANLEGER  FINANZ_UNAUFFAELLIGER  FINANZ_HAUSBAUER  \\\n",
       "1               2.0             5.0                    4.0               5.0   \n",
       "2               NaN             2.0                    3.0               5.0   \n",
       "3               5.0             2.0                    NaN               2.0   \n",
       "4               4.0             NaN                    3.0               2.0   \n",
       "5               5.0             2.0                    2.0               5.0   \n",
       "\n",
       "   FINANZTYP  GFK_URLAUBERTYP    ...     PLZ8_ANTG1  PLZ8_ANTG2  PLZ8_ANTG3  \\\n",
       "1        NaN             10.0    ...            2.0         3.0         2.0   \n",
       "2        NaN             10.0    ...            3.0         3.0         1.0   \n",
       "3        6.0              1.0    ...            2.0         2.0         2.0   \n",
       "4        5.0              5.0    ...            2.0         4.0         2.0   \n",
       "5        2.0              1.0    ...            2.0         3.0         1.0   \n",
       "\n",
       "   PLZ8_ANTG4  PLZ8_BAUMAX  PLZ8_HHZ  PLZ8_GBZ  ARBEIT  ORTSGR_KLS9  RELAT_AB  \n",
       "1         1.0          1.0       5.0       4.0     3.0          5.0       4.0  \n",
       "2         0.0          1.0       4.0       4.0     3.0          5.0       2.0  \n",
       "3         0.0          1.0       3.0       4.0     2.0          3.0       3.0  \n",
       "4         1.0          2.0       3.0       3.0     4.0          6.0       5.0  \n",
       "5         1.0          1.0       5.0       5.0     2.0          3.0       3.0  \n",
       "\n",
       "[5 rows x 79 columns]"
      ]
     },
     "execution_count": 40,
     "metadata": {},
     "output_type": "execute_result"
    }
   ],
   "source": [
    "df1.head()"
   ]
  },
  {
   "cell_type": "code",
   "execution_count": 41,
   "metadata": {},
   "outputs": [
    {
     "data": {
      "text/plain": [
       "(797755, 79)"
      ]
     },
     "execution_count": 41,
     "metadata": {},
     "output_type": "execute_result"
    }
   ],
   "source": [
    "df1.shape"
   ]
  },
  {
   "cell_type": "code",
   "execution_count": 42,
   "metadata": {},
   "outputs": [
    {
     "data": {
      "text/plain": [
       "(93466, 79)"
      ]
     },
     "execution_count": 42,
     "metadata": {},
     "output_type": "execute_result"
    }
   ],
   "source": [
    "df2.shape"
   ]
  },
  {
   "cell_type": "code",
   "execution_count": 43,
   "metadata": {},
   "outputs": [
    {
     "data": {
      "text/plain": [
       "0.1048740996902003"
      ]
     },
     "execution_count": 43,
     "metadata": {},
     "output_type": "execute_result"
    }
   ],
   "source": [
    "df2.shape[0]/azdiasfinal.shape[0]"
   ]
  },
  {
   "cell_type": "code",
   "execution_count": 44,
   "metadata": {},
   "outputs": [
    {
     "data": {
      "text/html": [
       "<div>\n",
       "<style>\n",
       "    .dataframe thead tr:only-child th {\n",
       "        text-align: right;\n",
       "    }\n",
       "\n",
       "    .dataframe thead th {\n",
       "        text-align: left;\n",
       "    }\n",
       "\n",
       "    .dataframe tbody tr th {\n",
       "        vertical-align: top;\n",
       "    }\n",
       "</style>\n",
       "<table border=\"1\" class=\"dataframe\">\n",
       "  <thead>\n",
       "    <tr style=\"text-align: right;\">\n",
       "      <th></th>\n",
       "      <th>CJT_GESAMTTYP</th>\n",
       "      <th>GFK_URLAUBERTYP</th>\n",
       "      <th>GREEN_AVANTGARDE</th>\n",
       "      <th>LP_LEBENSPHASE_FEIN</th>\n",
       "      <th>LP_LEBENSPHASE_GROB</th>\n",
       "    </tr>\n",
       "  </thead>\n",
       "  <tbody>\n",
       "    <tr>\n",
       "      <th>1</th>\n",
       "      <td>5.0</td>\n",
       "      <td>10.0</td>\n",
       "      <td>0</td>\n",
       "      <td>21.0</td>\n",
       "      <td>6.0</td>\n",
       "    </tr>\n",
       "    <tr>\n",
       "      <th>2</th>\n",
       "      <td>3.0</td>\n",
       "      <td>10.0</td>\n",
       "      <td>1</td>\n",
       "      <td>3.0</td>\n",
       "      <td>1.0</td>\n",
       "    </tr>\n",
       "    <tr>\n",
       "      <th>3</th>\n",
       "      <td>2.0</td>\n",
       "      <td>1.0</td>\n",
       "      <td>0</td>\n",
       "      <td>0.0</td>\n",
       "      <td>0.0</td>\n",
       "    </tr>\n",
       "    <tr>\n",
       "      <th>4</th>\n",
       "      <td>5.0</td>\n",
       "      <td>5.0</td>\n",
       "      <td>0</td>\n",
       "      <td>32.0</td>\n",
       "      <td>10.0</td>\n",
       "    </tr>\n",
       "    <tr>\n",
       "      <th>5</th>\n",
       "      <td>2.0</td>\n",
       "      <td>1.0</td>\n",
       "      <td>0</td>\n",
       "      <td>8.0</td>\n",
       "      <td>2.0</td>\n",
       "    </tr>\n",
       "  </tbody>\n",
       "</table>\n",
       "</div>"
      ],
      "text/plain": [
       "   CJT_GESAMTTYP  GFK_URLAUBERTYP  GREEN_AVANTGARDE  LP_LEBENSPHASE_FEIN  \\\n",
       "1            5.0             10.0                 0                 21.0   \n",
       "2            3.0             10.0                 1                  3.0   \n",
       "3            2.0              1.0                 0                  0.0   \n",
       "4            5.0              5.0                 0                 32.0   \n",
       "5            2.0              1.0                 0                  8.0   \n",
       "\n",
       "   LP_LEBENSPHASE_GROB  \n",
       "1                  6.0  \n",
       "2                  1.0  \n",
       "3                  0.0  \n",
       "4                 10.0  \n",
       "5                  2.0  "
      ]
     },
     "execution_count": 44,
     "metadata": {},
     "output_type": "execute_result"
    },
    {
     "data": {
      "image/png": "[encoded data removed]",
      "text/plain": [
       "<matplotlib.figure.Figure at 0x7fa97fa33198>"
      ]
     },
     "metadata": {
      "needs_background": "light"
     },
     "output_type": "display_data"
    }
   ],
   "source": [
    "import seaborn as sns\n",
    "import pandas as pd\n",
    "import matplotlib.pyplot as plt\n",
    "dfa=df1.loc[:,list1]\n",
    "dfb=df2.loc[:,list1]\n",
    "\n",
    "import matplotlib.pyplot as plt\n",
    "plt.hist(dfa)\n",
    "plt.title(\"Rows:Missing values<30\")\n",
    "plt.xlabel(\"Value\")\n",
    "plt.ylabel(\"Frequency\")\n",
    "dfa.head()"
   ]
  },
  {
   "cell_type": "code",
   "execution_count": 45,
   "metadata": {},
   "outputs": [
    {
     "name": "stdout",
     "output_type": "stream",
     "text": [
      "Index(['CJT_GESAMTTYP', 'GFK_URLAUBERTYP', 'GREEN_AVANTGARDE',\n",
      "       'LP_LEBENSPHASE_FEIN', 'LP_LEBENSPHASE_GROB'],\n",
      "      dtype='object')\n"
     ]
    }
   ],
   "source": [
    "colnames=dfa.columns\n",
    "print(colnames)"
   ]
  },
  {
   "cell_type": "code",
   "execution_count": 46,
   "metadata": {},
   "outputs": [
    {
     "data": {
      "text/plain": [
       "Text(0.5,1,'Distribution for azdias_below column: CJT_GESAMTTYP')"
      ]
     },
     "execution_count": 46,
     "metadata": {},
     "output_type": "execute_result"
    },
    {
     "data": {
      "image/png": "[encoded data removed]",
      "text/plain": [
       "<matplotlib.figure.Figure at 0x7fa962b38518>"
      ]
     },
     "metadata": {
      "needs_background": "light"
     },
     "output_type": "display_data"
    }
   ],
   "source": [
    "col='CJT_GESAMTTYP'\n",
    "sns.countplot(dfa[col][dfa[col].notnull()], label='below')\n",
    "plt.title('Distribution for azdias_below column: {}'.format(col))"
   ]
  },
  {
   "cell_type": "code",
   "execution_count": 47,
   "metadata": {},
   "outputs": [
    {
     "data": {
      "text/plain": [
       "Text(0.5,1,'Distribution for azdias_above column: CJT_GESAMTTYP')"
      ]
     },
     "execution_count": 47,
     "metadata": {},
     "output_type": "execute_result"
    },
    {
     "data": {
      "image/png": "[encoded data removed]",
      "text/plain": [
       "<matplotlib.figure.Figure at 0x7fa962aabda0>"
      ]
     },
     "metadata": {
      "needs_background": "light"
     },
     "output_type": "display_data"
    }
   ],
   "source": [
    "col='CJT_GESAMTTYP'\n",
    "sns.countplot(dfb[col][dfb[col].notnull()], label='above')\n",
    "plt.title('Distribution for azdias_above column: {}'.format(col))     "
   ]
  },
  {
   "cell_type": "code",
   "execution_count": 48,
   "metadata": {},
   "outputs": [
    {
     "data": {
      "text/plain": [
       "Text(0.5,1,'Distribution for azdias_below column: GFK_URLAUBERTYP')"
      ]
     },
     "execution_count": 48,
     "metadata": {},
     "output_type": "execute_result"
    },
    {
     "data": {
      "image/png": "[encoded data removed]",
      "text/plain": [
       "<matplotlib.figure.Figure at 0x7fa962a6c2e8>"
      ]
     },
     "metadata": {
      "needs_background": "light"
     },
     "output_type": "display_data"
    }
   ],
   "source": [
    "col='GFK_URLAUBERTYP'\n",
    "sns.countplot(dfa[col][dfa[col].notnull()], label='below')\n",
    "plt.title('Distribution for azdias_below column: {}'.format(col))"
   ]
  },
  {
   "cell_type": "code",
   "execution_count": 49,
   "metadata": {},
   "outputs": [
    {
     "data": {
      "text/plain": [
       "Text(0.5,1,'Distribution for azdias_above column: GFK_URLAUBERTYP')"
      ]
     },
     "execution_count": 49,
     "metadata": {},
     "output_type": "execute_result"
    },
    {
     "data": {
      "image/png": "[encoded data removed]",
      "text/plain": [
       "<matplotlib.figure.Figure at 0x7fa96297ae48>"
      ]
     },
     "metadata": {
      "needs_background": "light"
     },
     "output_type": "display_data"
    }
   ],
   "source": [
    "col='GFK_URLAUBERTYP'\n",
    "sns.countplot(dfb[col][dfb[col].notnull()], label='above')\n",
    "plt.title('Distribution for azdias_above column: {}'.format(col))"
   ]
  },
  {
   "cell_type": "code",
   "execution_count": 50,
   "metadata": {},
   "outputs": [
    {
     "data": {
      "text/plain": [
       "Text(0.5,1,'Distribution for azdias_below column: GREEN_AVANTGARDE')"
      ]
     },
     "execution_count": 50,
     "metadata": {},
     "output_type": "execute_result"
    },
    {
     "data": {
      "image/png": "[encoded data removed]",
      "text/plain": [
       "<matplotlib.figure.Figure at 0x7fa962a6cc88>"
      ]
     },
     "metadata": {
      "needs_background": "light"
     },
     "output_type": "display_data"
    }
   ],
   "source": [
    "col='GREEN_AVANTGARDE'\n",
    "sns.countplot(dfa[col][dfa[col].notnull()], label='below')\n",
    "plt.title('Distribution for azdias_below column: {}'.format(col))"
   ]
  },
  {
   "cell_type": "code",
   "execution_count": 51,
   "metadata": {},
   "outputs": [
    {
     "data": {
      "text/plain": [
       "Text(0.5,1,'Distribution for azdias_above column: GREEN_AVANTGARDE')"
      ]
     },
     "execution_count": 51,
     "metadata": {},
     "output_type": "execute_result"
    },
    {
     "data": {
      "image/png": "[encoded data removed]",
      "text/plain": [
       "<matplotlib.figure.Figure at 0x7fa96296f320>"
      ]
     },
     "metadata": {
      "needs_background": "light"
     },
     "output_type": "display_data"
    }
   ],
   "source": [
    "col='GREEN_AVANTGARDE'\n",
    "sns.countplot(dfb[col][dfb[col].notnull()], label='above')\n",
    "plt.title('Distribution for azdias_above column: {}'.format(col))"
   ]
  },
  {
   "cell_type": "code",
   "execution_count": 52,
   "metadata": {},
   "outputs": [
    {
     "data": {
      "text/plain": [
       "Text(0.5,1,'Distribution for azdias_below column: LP_LEBENSPHASE_FEIN')"
      ]
     },
     "execution_count": 52,
     "metadata": {},
     "output_type": "execute_result"
    },
    {
     "data": {
      "image/png": "[encoded data removed]",
      "text/plain": [
       "<matplotlib.figure.Figure at 0x7fa962ab0da0>"
      ]
     },
     "metadata": {
      "needs_background": "light"
     },
     "output_type": "display_data"
    }
   ],
   "source": [
    "col='LP_LEBENSPHASE_FEIN'\n",
    "sns.countplot(dfa[col][dfa[col].notnull()], label='below')\n",
    "plt.title('Distribution for azdias_below column: {}'.format(col))"
   ]
  },
  {
   "cell_type": "code",
   "execution_count": 53,
   "metadata": {},
   "outputs": [
    {
     "data": {
      "text/plain": [
       "Text(0.5,1,'Distribution for azdias_above column: LP_LEBENSPHASE_FEIN')"
      ]
     },
     "execution_count": 53,
     "metadata": {},
     "output_type": "execute_result"
    },
    {
     "data": {
      "image/png": "[encoded data removed]",
      "text/plain": [
       "<matplotlib.figure.Figure at 0x7fa9629af6a0>"
      ]
     },
     "metadata": {
      "needs_background": "light"
     },
     "output_type": "display_data"
    }
   ],
   "source": [
    "col='LP_LEBENSPHASE_FEIN'\n",
    "sns.countplot(dfb[col][dfb[col].notnull()], label='above')\n",
    "plt.title('Distribution for azdias_above column: {}'.format(col))"
   ]
  },
  {
   "cell_type": "code",
   "execution_count": 54,
   "metadata": {},
   "outputs": [
    {
     "data": {
      "text/plain": [
       "Text(0.5,1,'Distribution for azdias_below column: LP_LEBENSPHASE_GROB')"
      ]
     },
     "execution_count": 54,
     "metadata": {},
     "output_type": "execute_result"
    },
    {
     "data": {
      "image/png": "[encoded data removed]",
      "text/plain": [
       "<matplotlib.figure.Figure at 0x7fa9627a3358>"
      ]
     },
     "metadata": {
      "needs_background": "light"
     },
     "output_type": "display_data"
    }
   ],
   "source": [
    "col='LP_LEBENSPHASE_GROB'\n",
    "sns.countplot(dfa[col][dfa[col].notnull()], label='below')\n",
    "plt.title('Distribution for azdias_below column: {}'.format(col))"
   ]
  },
  {
   "cell_type": "code",
   "execution_count": 55,
   "metadata": {},
   "outputs": [
    {
     "data": {
      "text/plain": [
       "Text(0.5,1,'Distribution for azdias_above column: LP_LEBENSPHASE_GROB')"
      ]
     },
     "execution_count": 55,
     "metadata": {},
     "output_type": "execute_result"
    },
    {
     "data": {
      "image/png": "[encoded data removed]",
      "text/plain": [
       "<matplotlib.figure.Figure at 0x7fa9396190f0>"
      ]
     },
     "metadata": {
      "needs_background": "light"
     },
     "output_type": "display_data"
    }
   ],
   "source": [
    "col='LP_LEBENSPHASE_GROB'\n",
    "sns.countplot(dfb[col][dfb[col].notnull()], label='above')\n",
    "plt.title('Distribution for azdias_above column: {}'.format(col))"
   ]
  },
  {
   "cell_type": "code",
   "execution_count": 56,
   "metadata": {},
   "outputs": [
    {
     "data": {
      "text/plain": [
       "CJT_GESAMTTYP          208\n",
       "GFK_URLAUBERTYP        208\n",
       "GREEN_AVANTGARDE         0\n",
       "LP_LEBENSPHASE_FEIN    208\n",
       "LP_LEBENSPHASE_GROB    208\n",
       "dtype: int64"
      ]
     },
     "execution_count": 56,
     "metadata": {},
     "output_type": "execute_result"
    },
    {
     "data": {
      "image/png": "[encoded data removed]",
      "text/plain": [
       "<matplotlib.figure.Figure at 0x7fa962615b70>"
      ]
     },
     "metadata": {
      "needs_background": "light"
     },
     "output_type": "display_data"
    }
   ],
   "source": [
    "import matplotlib.pyplot as plt\n",
    "plt.hist(dfb)\n",
    "plt.title(\"Rows:Missing values>=30\")\n",
    "plt.xlabel(\"Value\")\n",
    "plt.ylabel(\"Frequency\")\n",
    "dfb.size\n",
    "dfb.isnull().sum(axis = 0)"
   ]
  },
  {
   "cell_type": "code",
   "execution_count": 57,
   "metadata": {},
   "outputs": [],
   "source": [
    "#Handling null values\n",
    "#azdiasfinal=df1\n",
    "columnNames=azdiasfinal.columns\n",
    "for col in columnNames:\n",
    "    azdiasfinal[col] = azdiasfinal[col].fillna(0)"
   ]
  },
  {
   "cell_type": "code",
   "execution_count": 58,
   "metadata": {},
   "outputs": [
    {
     "data": {
      "text/plain": [
       "(797755, 79)"
      ]
     },
     "execution_count": 58,
     "metadata": {},
     "output_type": "execute_result"
    }
   ],
   "source": [
    "df1.shape"
   ]
  },
  {
   "cell_type": "code",
   "execution_count": 59,
   "metadata": {},
   "outputs": [
    {
     "data": {
      "text/plain": [
       "(93466, 79)"
      ]
     },
     "execution_count": 59,
     "metadata": {},
     "output_type": "execute_result"
    }
   ],
   "source": [
    "df2.shape"
   ]
  },
  {
   "cell_type": "code",
   "execution_count": 60,
   "metadata": {},
   "outputs": [
    {
     "data": {
      "text/plain": [
       "0.11716128385281195"
      ]
     },
     "execution_count": 60,
     "metadata": {},
     "output_type": "execute_result"
    }
   ],
   "source": [
    "df2.shape[0]/df1.shape[0]"
   ]
  },
  {
   "cell_type": "code",
   "execution_count": 61,
   "metadata": {},
   "outputs": [],
   "source": [
    "azdiasfinal=df1"
   ]
  },
  {
   "cell_type": "markdown",
   "metadata": {},
   "source": [
    "#### Discussion 1.1.3: Assess Missing Data in Each Row\n",
    "\n",
    "(Double-click this cell and replace this text with your own text, reporting your observations regarding missing data in rows. Are the data with lots of missing values are qualitatively different from data with few or no missing value\n",
    "\n",
    "Based on the charts above, the distribution and spread looks very different. Rows with a lot of missing values will need to be removed."
   ]
  },
  {
   "cell_type": "markdown",
   "metadata": {},
   "source": [
    "### Step 1.2: Select and Re-Encode Features\n",
    "\n",
    "Checking for missing data isn't the only way in which you can prepare a dataset for analysis. Since the unsupervised learning techniques to be used will only work on data that is encoded numerically, you need to make a few encoding changes or additional assumptions to be able to make progress. In addition, while almost all of the values in the dataset are encoded using numbers, not all of them represent numeric values. Check the third column of the feature summary (`feat_info`) for a summary of types of measurement.\n",
    "- For numeric and interval data, these features can be kept without changes.\n",
    "- Most of the variables in the dataset are ordinal in nature. While ordinal values may technically be non-linear in spacing, make the simplifying assumption that the ordinal variables can be treated as being interval in nature (that is, kept without any changes).\n",
    "- Special handling may be necessary for the remaining two variable types: categorical, and 'mixed'.\n",
    "\n",
    "In the first two parts of this sub-step, you will perform an investigation of the categorical and mixed-type features and make a decision on each of them, whether you will keep, drop, or re-encode each. Then, in the last part, you will create a new data frame with only the selected and engineered columns.\n",
    "\n",
    "Data wrangling is often the trickiest part of the data analysis process, and there's a lot of it to be done here. But stick with it: once you're done with this step, you'll be ready to get to the machine learning parts of the project!"
   ]
  },
  {
   "cell_type": "code",
   "execution_count": 62,
   "metadata": {},
   "outputs": [
    {
     "name": "stdout",
     "output_type": "stream",
     "text": [
      "{dtype('int64'): Index(['GREEN_AVANTGARDE'], dtype='object'), dtype('float64'): Index(['ALTERSKATEGORIE_GROB', 'CJT_GESAMTTYP', 'FINANZ_MINIMALIST',\n",
      "       'FINANZ_SPARER', 'FINANZ_VORSORGER', 'FINANZ_ANLEGER',\n",
      "       'FINANZ_UNAUFFAELLIGER', 'FINANZ_HAUSBAUER', 'FINANZTYP',\n",
      "       'GFK_URLAUBERTYP', 'HEALTH_TYP', 'LP_LEBENSPHASE_FEIN',\n",
      "       'LP_LEBENSPHASE_GROB', 'LP_FAMILIE_FEIN', 'LP_FAMILIE_GROB',\n",
      "       'LP_STATUS_FEIN', 'LP_STATUS_GROB', 'PRAEGENDE_JUGENDJAHRE',\n",
      "       'RETOURTYP_BK_S', 'SEMIO_SOZ', 'SEMIO_FAM', 'SEMIO_REL', 'SEMIO_MAT',\n",
      "       'SEMIO_VERT', 'SEMIO_LUST', 'SEMIO_ERL', 'SEMIO_KULT', 'SEMIO_RAT',\n",
      "       'SEMIO_KRIT', 'SEMIO_DOM', 'SEMIO_KAEM', 'SEMIO_PFLICHT', 'SEMIO_TRADV',\n",
      "       'SHOPPER_TYP', 'SOHO_KZ', 'TITEL_KZ', 'ZABEOTYP', 'ALTER_HH',\n",
      "       'ANZ_PERSONEN', 'ANZ_TITEL', 'HH_EINKOMMEN_SCORE', 'W_KEIT_KIND_HH',\n",
      "       'WOHNDAUER_2008', 'ANZ_HAUSHALTE_AKTIV', 'ANZ_HH_TITEL', 'GEBAEUDETYP',\n",
      "       'KONSUMNAEHE', 'MIN_GEBAEUDEJAHR', 'WOHNLAGE', 'CAMEO_DEUG_2015',\n",
      "       'CAMEO_INTL_2015', 'KBA05_ANTG1', 'KBA05_ANTG2', 'KBA05_ANTG3',\n",
      "       'KBA05_ANTG4', 'KBA05_BAUMAX', 'KBA05_GBZ', 'BALLRAUM', 'EWDICHTE',\n",
      "       'INNENSTADT', 'GEBAEUDETYP_RASTER', 'KKK', 'MOBI_REGIO',\n",
      "       'ONLINE_AFFINITAET', 'REGIOTYP', 'KBA13_ANZAHL_PKW', 'PLZ8_ANTG1',\n",
      "       'PLZ8_ANTG2', 'PLZ8_ANTG3', 'PLZ8_ANTG4', 'PLZ8_BAUMAX', 'PLZ8_HHZ',\n",
      "       'PLZ8_GBZ', 'ARBEIT', 'ORTSGR_KLS9', 'RELAT_AB'],\n",
      "      dtype='object'), dtype('O'): Index(['OST_WEST_KZ', 'CAMEO_DEU_2015'], dtype='object')}\n"
     ]
    },
    {
     "data": {
      "text/plain": [
       "float64    76\n",
       "object      2\n",
       "int64       1\n",
       "dtype: int64"
      ]
     },
     "execution_count": 62,
     "metadata": {},
     "output_type": "execute_result"
    }
   ],
   "source": [
    "# How many features are there of each data type?\n",
    "g = azdiasfinal.columns.to_series().groupby(azdiasfinal.dtypes).groups\n",
    "print(g)\n",
    "azdiasfinal.dtypes.value_counts()"
   ]
  },
  {
   "cell_type": "markdown",
   "metadata": {},
   "source": [
    "#### Step 1.2.1: Re-Encode Categorical Features\n",
    "\n",
    "For categorical data, you would ordinarily need to encode the levels as dummy variables. Depending on the number of categories, perform one of the following:\n",
    "- For binary (two-level) categoricals that take numeric values, you can keep them without needing to do anything.\n",
    "- There is one binary variable that takes on non-numeric values. For this one, you need to re-encode the values as numbers or create a dummy variable.\n",
    "- For multi-level categoricals (three or more values), you can choose to encode the values using multiple dummy variables (e.g. via [OneHotEncoder](http://scikit-learn.org/stable/modules/generated/sklearn.preprocessing.OneHotEncoder.html)), or (to keep things straightforward) just drop them from the analysis. As always, document your choices in the Discussion section."
   ]
  },
  {
   "cell_type": "code",
   "execution_count": 63,
   "metadata": {},
   "outputs": [
    {
     "data": {
      "text/plain": [
       "2"
      ]
     },
     "execution_count": 63,
     "metadata": {},
     "output_type": "execute_result"
    }
   ],
   "source": [
    "# Assess categorical variables: which are binary, which are multi-level, and\n",
    "# which one needs to be re-encoded?\n",
    "azdiasfinal['OST_WEST_KZ'].value_counts().count()"
   ]
  },
  {
   "cell_type": "code",
   "execution_count": 64,
   "metadata": {},
   "outputs": [
    {
     "data": {
      "text/plain": [
       "OST_WEST_KZ\n",
       "O    168503\n",
       "W    629252\n",
       "Name: OST_WEST_KZ, dtype: int64"
      ]
     },
     "execution_count": 64,
     "metadata": {},
     "output_type": "execute_result"
    }
   ],
   "source": [
    "azdiasfinal['OST_WEST_KZ'].groupby(azdiasfinal['OST_WEST_KZ']).count()"
   ]
  },
  {
   "cell_type": "code",
   "execution_count": 65,
   "metadata": {},
   "outputs": [],
   "source": [
    "azdiasfinal['OST_WEST_KZ'] = azdiasfinal['OST_WEST_KZ'].map({'O': 1, 'W': 0})"
   ]
  },
  {
   "cell_type": "code",
   "execution_count": 66,
   "metadata": {},
   "outputs": [],
   "source": [
    "azdiasfinal['CAMEO_DEUG_2015'].value_counts().count()\n",
    "azdiasfinal['CAMEO_DEUG_2015'].head()\n",
    "azdiasfinal['CAMEO_DEUG_2015']=azdiasfinal['CAMEO_DEUG_2015'].astype('float')"
   ]
  },
  {
   "cell_type": "code",
   "execution_count": 67,
   "metadata": {},
   "outputs": [
    {
     "data": {
      "text/plain": [
       "1    8.0\n",
       "2    4.0\n",
       "3    2.0\n",
       "4    6.0\n",
       "5    8.0\n",
       "Name: CAMEO_DEUG_2015, dtype: float64"
      ]
     },
     "execution_count": 67,
     "metadata": {},
     "output_type": "execute_result"
    }
   ],
   "source": [
    "azdiasfinal['CAMEO_DEUG_2015'].value_counts().count()\n",
    "azdiasfinal['CAMEO_DEUG_2015'].head()"
   ]
  },
  {
   "cell_type": "code",
   "execution_count": 68,
   "metadata": {},
   "outputs": [
    {
     "data": {
      "text/plain": [
       "44"
      ]
     },
     "execution_count": 68,
     "metadata": {},
     "output_type": "execute_result"
    }
   ],
   "source": [
    "azdiasfinal['CAMEO_DEU_2015'].value_counts().count()"
   ]
  },
  {
   "cell_type": "code",
   "execution_count": 69,
   "metadata": {},
   "outputs": [],
   "source": [
    "azdiasfinal['CAMEO_INTL_2015'].value_counts().count()\n",
    "azdiasfinal['CAMEO_INTL_2015']=azdiasfinal['CAMEO_INTL_2015'].astype('float')"
   ]
  },
  {
   "cell_type": "code",
   "execution_count": 70,
   "metadata": {},
   "outputs": [
    {
     "data": {
      "text/plain": [
       "1    51.0\n",
       "2    24.0\n",
       "3    12.0\n",
       "4    43.0\n",
       "5    54.0\n",
       "Name: CAMEO_INTL_2015, dtype: float64"
      ]
     },
     "execution_count": 70,
     "metadata": {},
     "output_type": "execute_result"
    }
   ],
   "source": [
    "azdiasfinal['CAMEO_INTL_2015'].value_counts().count()\n",
    "azdiasfinal['CAMEO_INTL_2015'].head()"
   ]
  },
  {
   "cell_type": "code",
   "execution_count": 71,
   "metadata": {},
   "outputs": [
    {
     "data": {
      "text/plain": [
       "(797755, 79)"
      ]
     },
     "execution_count": 71,
     "metadata": {},
     "output_type": "execute_result"
    }
   ],
   "source": [
    "azdiasfinal.shape"
   ]
  },
  {
   "cell_type": "code",
   "execution_count": 72,
   "metadata": {
    "scrolled": true
   },
   "outputs": [
    {
     "name": "stdout",
     "output_type": "stream",
     "text": [
      "       CAMEO_DEU_2015\n",
      "1                  8A\n",
      "2                  4C\n",
      "3                  2A\n",
      "4                  6B\n",
      "5                  8C\n",
      "6                  4A\n",
      "7                  2D\n",
      "8                  1A\n",
      "9                  1E\n",
      "10                 9D\n",
      "12                 6B\n",
      "13                 5C\n",
      "15                 8B\n",
      "16                 7A\n",
      "18                 4C\n",
      "19                 5D\n",
      "20                 4C\n",
      "21                 9E\n",
      "22                 9D\n",
      "23                 6B\n",
      "25                 5C\n",
      "26                NaN\n",
      "27                 9B\n",
      "28                 1A\n",
      "29                 2A\n",
      "31                 9D\n",
      "32                 1B\n",
      "33                 8B\n",
      "34                 3D\n",
      "36                 7A\n",
      "...               ...\n",
      "891191             6C\n",
      "891192             5B\n",
      "891193             6B\n",
      "891194             4C\n",
      "891195             8D\n",
      "891196             4B\n",
      "891197             3C\n",
      "891198             2C\n",
      "891199             8A\n",
      "891200             9A\n",
      "891201             7A\n",
      "891202             8B\n",
      "891203             3D\n",
      "891204             3C\n",
      "891205             5E\n",
      "891206             3D\n",
      "891207             7A\n",
      "891208             2C\n",
      "891209             8A\n",
      "891210             8B\n",
      "891211             9D\n",
      "891212             9D\n",
      "891213             5E\n",
      "891214             3A\n",
      "891215             5A\n",
      "891216             7A\n",
      "891217             9D\n",
      "891218             4C\n",
      "891219             9D\n",
      "891220             6B\n",
      "\n",
      "[797755 rows x 1 columns]\n"
     ]
    }
   ],
   "source": [
    "\n",
    "temp=azdiasfinal.select_dtypes(include=['object'])\n",
    "print(temp)"
   ]
  },
  {
   "cell_type": "code",
   "execution_count": 73,
   "metadata": {},
   "outputs": [
    {
     "data": {
      "text/plain": [
       "(797755, 79)"
      ]
     },
     "execution_count": 73,
     "metadata": {},
     "output_type": "execute_result"
    }
   ],
   "source": [
    "azdiasfinal.shape"
   ]
  },
  {
   "cell_type": "code",
   "execution_count": 74,
   "metadata": {},
   "outputs": [
    {
     "name": "stdout",
     "output_type": "stream",
     "text": [
      "ALTERSKATEGORIE_GROB 3\n",
      "CJT_GESAMTTYP 6\n",
      "FINANZ_MINIMALIST 4\n",
      "FINANZ_SPARER 4\n",
      "FINANZ_VORSORGER 4\n",
      "FINANZ_ANLEGER 4\n",
      "FINANZ_UNAUFFAELLIGER 4\n",
      "FINANZ_HAUSBAUER 4\n",
      "FINANZTYP 5\n",
      "GFK_URLAUBERTYP 12\n",
      "GREEN_AVANTGARDE 2\n",
      "HEALTH_TYP 2\n",
      "LP_LEBENSPHASE_FEIN 41\n",
      "LP_LEBENSPHASE_GROB 13\n",
      "LP_FAMILIE_FEIN 12\n",
      "LP_FAMILIE_GROB 6\n",
      "LP_STATUS_FEIN 10\n",
      "LP_STATUS_GROB 5\n",
      "PRAEGENDE_JUGENDJAHRE 14\n",
      "RETOURTYP_BK_S 5\n",
      "SEMIO_SOZ 6\n",
      "SEMIO_FAM 6\n",
      "SEMIO_REL 6\n",
      "SEMIO_MAT 6\n",
      "SEMIO_VERT 6\n",
      "SEMIO_LUST 6\n",
      "SEMIO_ERL 6\n",
      "SEMIO_KULT 6\n",
      "SEMIO_RAT 6\n",
      "SEMIO_KRIT 6\n",
      "SEMIO_DOM 6\n",
      "SEMIO_KAEM 6\n",
      "SEMIO_PFLICHT 6\n",
      "SEMIO_TRADV 6\n",
      "SHOPPER_TYP 3\n",
      "SOHO_KZ 2\n",
      "TITEL_KZ 6\n",
      "ZABEOTYP 5\n",
      "ALTER_HH 22\n",
      "ANZ_PERSONEN 29\n",
      "ANZ_TITEL 6\n",
      "HH_EINKOMMEN_SCORE 6\n",
      "W_KEIT_KIND_HH 7\n",
      "WOHNDAUER_2008 9\n",
      "ANZ_HAUSHALTE_AKTIV 292\n",
      "ANZ_HH_TITEL 21\n",
      "GEBAEUDETYP 7\n",
      "KONSUMNAEHE 7\n",
      "MIN_GEBAEUDEJAHR 32\n",
      "OST_WEST_KZ 2\n",
      "WOHNLAGE 8\n",
      "CAMEO_DEUG_2015 8\n",
      "CAMEO_DEU_2015 44\n",
      "CAMEO_INTL_2015 21\n",
      "KBA05_ANTG1 5\n",
      "KBA05_ANTG2 5\n",
      "KBA05_ANTG3 4\n",
      "KBA05_ANTG4 3\n",
      "KBA05_BAUMAX 6\n",
      "KBA05_GBZ 5\n",
      "BALLRAUM 7\n",
      "EWDICHTE 6\n",
      "INNENSTADT 8\n",
      "GEBAEUDETYP_RASTER 5\n",
      "KKK 5\n",
      "MOBI_REGIO 6\n",
      "ONLINE_AFFINITAET 6\n",
      "REGIOTYP 8\n",
      "KBA13_ANZAHL_PKW 1261\n",
      "PLZ8_ANTG1 5\n",
      "PLZ8_ANTG2 5\n",
      "PLZ8_ANTG3 4\n",
      "PLZ8_ANTG4 3\n",
      "PLZ8_BAUMAX 5\n",
      "PLZ8_HHZ 5\n",
      "PLZ8_GBZ 5\n",
      "ARBEIT 6\n",
      "ORTSGR_KLS9 10\n",
      "RELAT_AB 6\n"
     ]
    }
   ],
   "source": [
    "#Encode multi-value features\n",
    "azdiascols=azdiasfinal.columns\n",
    "for i in azdiascols:\n",
    "    print(i,azdiasfinal[i].value_counts().count())"
   ]
  },
  {
   "cell_type": "code",
   "execution_count": 75,
   "metadata": {},
   "outputs": [],
   "source": [
    "# Re-encode categorical variable(s) to be kept in the analysis.\n",
    "\n",
    "#azdias_new=pd.get_dummies(azdiasfinal,columns=temp)"
   ]
  },
  {
   "cell_type": "code",
   "execution_count": 76,
   "metadata": {},
   "outputs": [],
   "source": [
    "#azdias_new.shape\n"
   ]
  },
  {
   "cell_type": "markdown",
   "metadata": {},
   "source": [
    "#### Discussion 1.2.1: Re-Encode Categorical Features\n",
    "\n",
    "(Double-click this cell and replace this text with your own text, reporting your findings and decisions regarding categorical features. Which ones did you keep, which did you drop, and what engineering steps did you perform?)\n",
    "I added all the categorical variables as I did not want to miss any information that might be important. I did one hot encoding of all the categorical variables in the dataset so that the dataset can be provided as inputs to the algorithm."
   ]
  },
  {
   "cell_type": "markdown",
   "metadata": {},
   "source": [
    "#### Step 1.2.2: Engineer Mixed-Type Features\n",
    "\n",
    "There are a handful of features that are marked as \"mixed\" in the feature summary that require special treatment in order to be included in the analysis. There are two in particular that deserve attention; the handling of the rest are up to your own choices:\n",
    "- \"PRAEGENDE_JUGENDJAHRE\" combines information on three dimensions: generation by decade, movement (mainstream vs. avantgarde), and nation (east vs. west). While there aren't enough levels to disentangle east from west, you should create two new variables to capture the other two dimensions: an interval-type variable for decade, and a binary variable for movement.\n",
    "- \"CAMEO_INTL_2015\" combines information on two axes: wealth and life stage. Break up the two-digit codes by their 'tens'-place and 'ones'-place digits into two new ordinal variables (which, for the purposes of this project, is equivalent to just treating them as their raw numeric values).\n",
    "- If you decide to keep or engineer new features around the other mixed-type features, make sure you note your steps in the Discussion section.\n",
    "\n",
    "Be sure to check `Data_Dictionary.md` for the details needed to finish these tasks."
   ]
  },
  {
   "cell_type": "code",
   "execution_count": 77,
   "metadata": {},
   "outputs": [
    {
     "data": {
      "text/plain": [
       "1     6.0\n",
       "2     6.0\n",
       "3     4.0\n",
       "4     4.0\n",
       "5     2.0\n",
       "6     5.0\n",
       "7     4.0\n",
       "8     5.0\n",
       "9     6.0\n",
       "10    2.0\n",
       "12    4.0\n",
       "13    6.0\n",
       "15    3.0\n",
       "16    6.0\n",
       "18    5.0\n",
       "19    4.0\n",
       "20    5.0\n",
       "21    5.0\n",
       "22    6.0\n",
       "23    4.0\n",
       "Name: PRAEGENDE_JUGENDJAHRE_2, dtype: float64"
      ]
     },
     "execution_count": 77,
     "metadata": {},
     "output_type": "execute_result"
    }
   ],
   "source": [
    "# Investigate \"PRAEGENDE_JUGENDJAHRE\" and engineer two new variables.\n",
    "pattern=[1.0,3.0,5.0,8.0,10.0,12.0,14.0]\n",
    "azdiasfinal['PRAEGENDE_JUGENDJAHRE_1'] = azdiasfinal['PRAEGENDE_JUGENDJAHRE'].isin(pattern)\n",
    "#1->Mainstream\n",
    "azdiasfinal['PRAEGENDE_JUGENDJAHRE_1'] = azdiasfinal['PRAEGENDE_JUGENDJAHRE_1'].map({True: 1, False: 0})\n",
    "azdiasfinal['PRAEGENDE_JUGENDJAHRE_2'] = azdiasfinal['PRAEGENDE_JUGENDJAHRE']\n",
    "azdiasfinal['PRAEGENDE_JUGENDJAHRE_2'] = azdiasfinal['PRAEGENDE_JUGENDJAHRE_2'].map({1.0:1, 2.0:1, 3.0:2, 4.0:2,5.0:3, 6.0:3, 7.0:3,\n",
    "                                                                          8.0:4, 9.0:4, 10.0:5, 11.0:5, 12.0:5,\n",
    "                                                                          13.0:5, 14.0:6, 15.0:6})\n",
    "azdiasfinal['PRAEGENDE_JUGENDJAHRE_2'].head(20)"
   ]
  },
  {
   "cell_type": "code",
   "execution_count": 78,
   "metadata": {},
   "outputs": [
    {
     "data": {
      "text/plain": [
       "PRAEGENDE_JUGENDJAHRE_2\n",
       "1.0      7479\n",
       "2.0     74278\n",
       "3.0    114332\n",
       "4.0    175161\n",
       "5.0    151741\n",
       "6.0    225424\n",
       "Name: PRAEGENDE_JUGENDJAHRE_2, dtype: int64"
      ]
     },
     "execution_count": 78,
     "metadata": {},
     "output_type": "execute_result"
    }
   ],
   "source": [
    "azdiasfinal['PRAEGENDE_JUGENDJAHRE_2'].groupby(azdiasfinal['PRAEGENDE_JUGENDJAHRE_2']).count()"
   ]
  },
  {
   "cell_type": "code",
   "execution_count": 79,
   "metadata": {},
   "outputs": [
    {
     "data": {
      "text/plain": [
       "PRAEGENDE_JUGENDJAHRE\n",
       "2.0       7479\n",
       "3.0      53829\n",
       "4.0      20449\n",
       "5.0      84672\n",
       "6.0      25651\n",
       "7.0       4009\n",
       "8.0     141597\n",
       "9.0      33564\n",
       "10.0     85793\n",
       "11.0     35740\n",
       "12.0     24446\n",
       "13.0      5762\n",
       "14.0    182917\n",
       "15.0     42507\n",
       "Name: PRAEGENDE_JUGENDJAHRE, dtype: int64"
      ]
     },
     "execution_count": 79,
     "metadata": {},
     "output_type": "execute_result"
    }
   ],
   "source": [
    "azdiasfinal['PRAEGENDE_JUGENDJAHRE'].groupby(azdiasfinal['PRAEGENDE_JUGENDJAHRE']).count()"
   ]
  },
  {
   "cell_type": "code",
   "execution_count": 80,
   "metadata": {},
   "outputs": [
    {
     "data": {
      "text/plain": [
       "PRAEGENDE_JUGENDJAHRE_2\n",
       "1.0      7479\n",
       "2.0     74278\n",
       "3.0    114332\n",
       "4.0    175161\n",
       "5.0    151741\n",
       "6.0    225424\n",
       "Name: PRAEGENDE_JUGENDJAHRE_2, dtype: int64"
      ]
     },
     "execution_count": 80,
     "metadata": {},
     "output_type": "execute_result"
    }
   ],
   "source": [
    "azdiasfinal['PRAEGENDE_JUGENDJAHRE_2'].groupby(azdiasfinal['PRAEGENDE_JUGENDJAHRE_2']).count()"
   ]
  },
  {
   "cell_type": "code",
   "execution_count": 81,
   "metadata": {},
   "outputs": [
    {
     "data": {
      "text/plain": [
       "\"\\nazdias['PRAEGENDE_JUGENDJAHRE'].head()\\nif any(azdias['PRAEGENDE_JUGENDJAHRE'] in (1.0,3.0,5.0,8.0,10.0,12.0,14.0)):\\n    azdias['PRAEGENDE_JUGENDJAHRE_1'] = 1\\nelse:\\n    azdias['PRAEGENDE_JUGENDJAHRE_1'] = 0\\nk=40\\ncount=1\\nfor i in range(1,15):\\n    if(azdias['PRAEGENDE_JUGENDJAHRE'] == i):\\n        azdias['PRAEGENDE_JUGENDJAHRE_2'] = k\\n        if(count==2):\\n            k=k+10\\n            count=0\\n    count=count+1\\n\""
      ]
     },
     "execution_count": 81,
     "metadata": {},
     "output_type": "execute_result"
    }
   ],
   "source": [
    "'''\n",
    "azdias['PRAEGENDE_JUGENDJAHRE'].head()\n",
    "if any(azdias['PRAEGENDE_JUGENDJAHRE'] in (1.0,3.0,5.0,8.0,10.0,12.0,14.0)):\n",
    "    azdias['PRAEGENDE_JUGENDJAHRE_1'] = 1\n",
    "else:\n",
    "    azdias['PRAEGENDE_JUGENDJAHRE_1'] = 0\n",
    "k=40\n",
    "count=1\n",
    "for i in range(1,15):\n",
    "    if(azdias['PRAEGENDE_JUGENDJAHRE'] == i):\n",
    "        azdias['PRAEGENDE_JUGENDJAHRE_2'] = k\n",
    "        if(count==2):\n",
    "            k=k+10\n",
    "            count=0\n",
    "    count=count+1\n",
    "'''"
   ]
  },
  {
   "cell_type": "code",
   "execution_count": 82,
   "metadata": {},
   "outputs": [
    {
     "data": {
      "text/plain": [
       "1    1.0\n",
       "2    4.0\n",
       "3    2.0\n",
       "4    3.0\n",
       "5    4.0\n",
       "Name: CAMEO_INTL_2015_2, dtype: float64"
      ]
     },
     "execution_count": 82,
     "metadata": {},
     "output_type": "execute_result"
    }
   ],
   "source": [
    "# Investigate \"CAMEO_INTL_2015\" and engineer two new variables.\n",
    "azdiasfinal['CAMEO_INTL_2015'].head()\n",
    "azdiasfinal['CAMEO_INTL_2015_1']=azdiasfinal['CAMEO_INTL_2015'].astype(float)\n",
    "azdiasfinal['CAMEO_INTL_2015_1'].fillna(-1)\n",
    "azdiasfinal['CAMEO_INTL_2015_1']=(azdiasfinal['CAMEO_INTL_2015_1']//10)\n",
    "azdiasfinal['CAMEO_INTL_2015_1'].head()\n",
    "azdiasfinal['CAMEO_INTL_2015_2']=azdiasfinal['CAMEO_INTL_2015'].astype(float)\n",
    "azdiasfinal['CAMEO_INTL_2015_2']=azdiasfinal['CAMEO_INTL_2015_2']%10\n",
    "azdiasfinal['CAMEO_INTL_2015_2'].head()"
   ]
  },
  {
   "cell_type": "code",
   "execution_count": 83,
   "metadata": {},
   "outputs": [
    {
     "data": {
      "text/plain": [
       "1    5.0\n",
       "2    2.0\n",
       "3    1.0\n",
       "4    4.0\n",
       "5    5.0\n",
       "Name: CAMEO_INTL_2015_1, dtype: float64"
      ]
     },
     "execution_count": 83,
     "metadata": {},
     "output_type": "execute_result"
    }
   ],
   "source": [
    "azdiasfinal['CAMEO_INTL_2015_1'].head()"
   ]
  },
  {
   "cell_type": "code",
   "execution_count": 84,
   "metadata": {},
   "outputs": [
    {
     "data": {
      "text/html": [
       "<div>\n",
       "<style>\n",
       "    .dataframe thead tr:only-child th {\n",
       "        text-align: right;\n",
       "    }\n",
       "\n",
       "    .dataframe thead th {\n",
       "        text-align: left;\n",
       "    }\n",
       "\n",
       "    .dataframe tbody tr th {\n",
       "        vertical-align: top;\n",
       "    }\n",
       "</style>\n",
       "<table border=\"1\" class=\"dataframe\">\n",
       "  <thead>\n",
       "    <tr style=\"text-align: right;\">\n",
       "      <th></th>\n",
       "      <th>ALTERSKATEGORIE_GROB</th>\n",
       "      <th>CJT_GESAMTTYP</th>\n",
       "      <th>FINANZ_MINIMALIST</th>\n",
       "      <th>FINANZ_SPARER</th>\n",
       "      <th>FINANZ_VORSORGER</th>\n",
       "      <th>FINANZ_ANLEGER</th>\n",
       "      <th>FINANZ_UNAUFFAELLIGER</th>\n",
       "      <th>FINANZ_HAUSBAUER</th>\n",
       "      <th>FINANZTYP</th>\n",
       "      <th>GFK_URLAUBERTYP</th>\n",
       "      <th>...</th>\n",
       "      <th>PLZ8_BAUMAX</th>\n",
       "      <th>PLZ8_HHZ</th>\n",
       "      <th>PLZ8_GBZ</th>\n",
       "      <th>ARBEIT</th>\n",
       "      <th>ORTSGR_KLS9</th>\n",
       "      <th>RELAT_AB</th>\n",
       "      <th>PRAEGENDE_JUGENDJAHRE_1</th>\n",
       "      <th>PRAEGENDE_JUGENDJAHRE_2</th>\n",
       "      <th>CAMEO_INTL_2015_1</th>\n",
       "      <th>CAMEO_INTL_2015_2</th>\n",
       "    </tr>\n",
       "  </thead>\n",
       "  <tbody>\n",
       "    <tr>\n",
       "      <th>1</th>\n",
       "      <td>NaN</td>\n",
       "      <td>5.0</td>\n",
       "      <td>NaN</td>\n",
       "      <td>5.0</td>\n",
       "      <td>2.0</td>\n",
       "      <td>5.0</td>\n",
       "      <td>4.0</td>\n",
       "      <td>5.0</td>\n",
       "      <td>NaN</td>\n",
       "      <td>10.0</td>\n",
       "      <td>...</td>\n",
       "      <td>1.0</td>\n",
       "      <td>5.0</td>\n",
       "      <td>4.0</td>\n",
       "      <td>3.0</td>\n",
       "      <td>5.0</td>\n",
       "      <td>4.0</td>\n",
       "      <td>1</td>\n",
       "      <td>6.0</td>\n",
       "      <td>5.0</td>\n",
       "      <td>1.0</td>\n",
       "    </tr>\n",
       "    <tr>\n",
       "      <th>2</th>\n",
       "      <td>3.0</td>\n",
       "      <td>3.0</td>\n",
       "      <td>NaN</td>\n",
       "      <td>4.0</td>\n",
       "      <td>NaN</td>\n",
       "      <td>2.0</td>\n",
       "      <td>3.0</td>\n",
       "      <td>5.0</td>\n",
       "      <td>NaN</td>\n",
       "      <td>10.0</td>\n",
       "      <td>...</td>\n",
       "      <td>1.0</td>\n",
       "      <td>4.0</td>\n",
       "      <td>4.0</td>\n",
       "      <td>3.0</td>\n",
       "      <td>5.0</td>\n",
       "      <td>2.0</td>\n",
       "      <td>0</td>\n",
       "      <td>6.0</td>\n",
       "      <td>2.0</td>\n",
       "      <td>4.0</td>\n",
       "    </tr>\n",
       "    <tr>\n",
       "      <th>3</th>\n",
       "      <td>4.0</td>\n",
       "      <td>2.0</td>\n",
       "      <td>4.0</td>\n",
       "      <td>2.0</td>\n",
       "      <td>5.0</td>\n",
       "      <td>2.0</td>\n",
       "      <td>NaN</td>\n",
       "      <td>2.0</td>\n",
       "      <td>6.0</td>\n",
       "      <td>1.0</td>\n",
       "      <td>...</td>\n",
       "      <td>1.0</td>\n",
       "      <td>3.0</td>\n",
       "      <td>4.0</td>\n",
       "      <td>2.0</td>\n",
       "      <td>3.0</td>\n",
       "      <td>3.0</td>\n",
       "      <td>1</td>\n",
       "      <td>4.0</td>\n",
       "      <td>1.0</td>\n",
       "      <td>2.0</td>\n",
       "    </tr>\n",
       "    <tr>\n",
       "      <th>4</th>\n",
       "      <td>3.0</td>\n",
       "      <td>5.0</td>\n",
       "      <td>4.0</td>\n",
       "      <td>3.0</td>\n",
       "      <td>4.0</td>\n",
       "      <td>NaN</td>\n",
       "      <td>3.0</td>\n",
       "      <td>2.0</td>\n",
       "      <td>5.0</td>\n",
       "      <td>5.0</td>\n",
       "      <td>...</td>\n",
       "      <td>2.0</td>\n",
       "      <td>3.0</td>\n",
       "      <td>3.0</td>\n",
       "      <td>4.0</td>\n",
       "      <td>6.0</td>\n",
       "      <td>5.0</td>\n",
       "      <td>1</td>\n",
       "      <td>4.0</td>\n",
       "      <td>4.0</td>\n",
       "      <td>3.0</td>\n",
       "    </tr>\n",
       "    <tr>\n",
       "      <th>5</th>\n",
       "      <td>NaN</td>\n",
       "      <td>2.0</td>\n",
       "      <td>3.0</td>\n",
       "      <td>NaN</td>\n",
       "      <td>5.0</td>\n",
       "      <td>2.0</td>\n",
       "      <td>2.0</td>\n",
       "      <td>5.0</td>\n",
       "      <td>2.0</td>\n",
       "      <td>1.0</td>\n",
       "      <td>...</td>\n",
       "      <td>1.0</td>\n",
       "      <td>5.0</td>\n",
       "      <td>5.0</td>\n",
       "      <td>2.0</td>\n",
       "      <td>3.0</td>\n",
       "      <td>3.0</td>\n",
       "      <td>1</td>\n",
       "      <td>2.0</td>\n",
       "      <td>5.0</td>\n",
       "      <td>4.0</td>\n",
       "    </tr>\n",
       "  </tbody>\n",
       "</table>\n",
       "<p>5 rows × 83 columns</p>\n",
       "</div>"
      ],
      "text/plain": [
       "   ALTERSKATEGORIE_GROB  CJT_GESAMTTYP  FINANZ_MINIMALIST  FINANZ_SPARER  \\\n",
       "1                   NaN            5.0                NaN            5.0   \n",
       "2                   3.0            3.0                NaN            4.0   \n",
       "3                   4.0            2.0                4.0            2.0   \n",
       "4                   3.0            5.0                4.0            3.0   \n",
       "5                   NaN            2.0                3.0            NaN   \n",
       "\n",
       "   FINANZ_VORSORGER  FINANZ_ANLEGER  FINANZ_UNAUFFAELLIGER  FINANZ_HAUSBAUER  \\\n",
       "1               2.0             5.0                    4.0               5.0   \n",
       "2               NaN             2.0                    3.0               5.0   \n",
       "3               5.0             2.0                    NaN               2.0   \n",
       "4               4.0             NaN                    3.0               2.0   \n",
       "5               5.0             2.0                    2.0               5.0   \n",
       "\n",
       "   FINANZTYP  GFK_URLAUBERTYP        ...          PLZ8_BAUMAX  PLZ8_HHZ  \\\n",
       "1        NaN             10.0        ...                  1.0       5.0   \n",
       "2        NaN             10.0        ...                  1.0       4.0   \n",
       "3        6.0              1.0        ...                  1.0       3.0   \n",
       "4        5.0              5.0        ...                  2.0       3.0   \n",
       "5        2.0              1.0        ...                  1.0       5.0   \n",
       "\n",
       "   PLZ8_GBZ  ARBEIT  ORTSGR_KLS9  RELAT_AB  PRAEGENDE_JUGENDJAHRE_1  \\\n",
       "1       4.0     3.0          5.0       4.0                        1   \n",
       "2       4.0     3.0          5.0       2.0                        0   \n",
       "3       4.0     2.0          3.0       3.0                        1   \n",
       "4       3.0     4.0          6.0       5.0                        1   \n",
       "5       5.0     2.0          3.0       3.0                        1   \n",
       "\n",
       "   PRAEGENDE_JUGENDJAHRE_2  CAMEO_INTL_2015_1  CAMEO_INTL_2015_2  \n",
       "1                      6.0                5.0                1.0  \n",
       "2                      6.0                2.0                4.0  \n",
       "3                      4.0                1.0                2.0  \n",
       "4                      4.0                4.0                3.0  \n",
       "5                      2.0                5.0                4.0  \n",
       "\n",
       "[5 rows x 83 columns]"
      ]
     },
     "execution_count": 84,
     "metadata": {},
     "output_type": "execute_result"
    }
   ],
   "source": [
    "azdiasfinal.head()"
   ]
  },
  {
   "cell_type": "markdown",
   "metadata": {},
   "source": [
    "#### Discussion 1.2.2: Engineer Mixed-Type Features\n",
    "\n",
    "(Double-click this cell and replace this text with your own text, reporting your findings and decisions regarding mixed-value features. Which ones did you keep, which did you drop, and what engineering steps did you perform?)\n",
    "I re-engineered the two variables above. I am keeping all other variables as it is."
   ]
  },
  {
   "cell_type": "markdown",
   "metadata": {},
   "source": [
    "#### Step 1.2.3: Complete Feature Selection\n",
    "\n",
    "In order to finish this step up, you need to make sure that your data frame now only has the columns that you want to keep. To summarize, the dataframe should consist of the following:\n",
    "- All numeric, interval, and ordinal type columns from the original dataset.\n",
    "- Binary categorical features (all numerically-encoded).\n",
    "- Engineered features from other multi-level categorical features and mixed features.\n",
    "\n",
    "Make sure that for any new columns that you have engineered, that you've excluded the original columns from the final dataset. Otherwise, their values will interfere with the analysis later on the project. For example, you should not keep \"PRAEGENDE_JUGENDJAHRE\", since its values won't be useful for the algorithm: only the values derived from it in the engineered features you created should be retained. As a reminder, your data should only be from **the subset with few or no missing values**."
   ]
  },
  {
   "cell_type": "code",
   "execution_count": 85,
   "metadata": {},
   "outputs": [
    {
     "data": {
      "text/plain": [
       "\"azdiasfinal['PRAEGENDE_JUGENDJAHRE'] = azdiasfinal['PRAEGENDE_JUGENDJAHRE'].map({1.0:1, 2.0:1, 3.0:2, 4.0:2,5.0:3, 6.0:3, 7.0:3,\\n                                                                          8.0:4, 9.0:4, 10.0:5, 11.0:5, 12.0:5,\\n                                                                          13.0:5, 14.0:6, 15.0:6})\\n\""
      ]
     },
     "execution_count": 85,
     "metadata": {},
     "output_type": "execute_result"
    }
   ],
   "source": [
    "# If there are other re-engineering tasks you need to perform, make sure you\n",
    "# take care of them here. (Dealing with missing data will come in step 2.1.)\n",
    "'''azdiasfinal['PRAEGENDE_JUGENDJAHRE'] = azdiasfinal['PRAEGENDE_JUGENDJAHRE'].map({1.0:1, 2.0:1, 3.0:2, 4.0:2,5.0:3, 6.0:3, 7.0:3,\n",
    "                                                                          8.0:4, 9.0:4, 10.0:5, 11.0:5, 12.0:5,\n",
    "                                                                          13.0:5, 14.0:6, 15.0:6})\n",
    "'''"
   ]
  },
  {
   "cell_type": "code",
   "execution_count": 86,
   "metadata": {},
   "outputs": [],
   "source": [
    "azdiasfinal['WOHNLAGE']=azdiasfinal['WOHNLAGE'].map({1:0,2:0,3:0,4:0,5:0,7:1,8:1})"
   ]
  },
  {
   "cell_type": "code",
   "execution_count": 87,
   "metadata": {},
   "outputs": [
    {
     "data": {
      "text/plain": [
       "WOHNLAGE\n",
       "0.0    604209\n",
       "1.0    186714\n",
       "Name: WOHNLAGE, dtype: int64"
      ]
     },
     "execution_count": 87,
     "metadata": {},
     "output_type": "execute_result"
    }
   ],
   "source": [
    "azdiasfinal['WOHNLAGE'].groupby(azdiasfinal['WOHNLAGE']).count()"
   ]
  },
  {
   "cell_type": "code",
   "execution_count": 88,
   "metadata": {},
   "outputs": [],
   "source": [
    "azdiasfinal['PLZ8_BAUMAX']=azdiasfinal['PLZ8_BAUMAX'].map({1:0,2:0,3:0,4:0,5:1})"
   ]
  },
  {
   "cell_type": "code",
   "execution_count": 89,
   "metadata": {},
   "outputs": [
    {
     "data": {
      "text/plain": [
       "PLZ8_BAUMAX\n",
       "0.0    677369\n",
       "1.0     97333\n",
       "Name: PLZ8_BAUMAX, dtype: int64"
      ]
     },
     "execution_count": 89,
     "metadata": {},
     "output_type": "execute_result"
    }
   ],
   "source": [
    "azdiasfinal['PLZ8_BAUMAX'].groupby(azdiasfinal['PLZ8_BAUMAX']).count()"
   ]
  },
  {
   "cell_type": "code",
   "execution_count": 90,
   "metadata": {},
   "outputs": [],
   "source": [
    "'''Removing variable CAMEO DEU 2015 as there are 44 values to the variable and it doesn't make sense to one hot \n",
    "encode the features'''\n",
    "azdiasfinal=azdiasfinal.drop('CAMEO_DEU_2015',axis=1)"
   ]
  },
  {
   "cell_type": "code",
   "execution_count": 91,
   "metadata": {},
   "outputs": [],
   "source": [
    "# Do whatever you need to in order to ensure that the dataframe only contains\n",
    "# the columns that should be passed to the algorithm functions.\n",
    "\n",
    "colname=azdiasfinal.columns.values\n",
    "for col in colname:\n",
    "    azdiasfinal[col]=azdiasfinal[col].fillna(azdiasfinal[col].mode())"
   ]
  },
  {
   "cell_type": "code",
   "execution_count": 92,
   "metadata": {},
   "outputs": [
    {
     "data": {
      "text/html": [
       "<div>\n",
       "<style>\n",
       "    .dataframe thead tr:only-child th {\n",
       "        text-align: right;\n",
       "    }\n",
       "\n",
       "    .dataframe thead th {\n",
       "        text-align: left;\n",
       "    }\n",
       "\n",
       "    .dataframe tbody tr th {\n",
       "        vertical-align: top;\n",
       "    }\n",
       "</style>\n",
       "<table border=\"1\" class=\"dataframe\">\n",
       "  <thead>\n",
       "    <tr style=\"text-align: right;\">\n",
       "      <th></th>\n",
       "      <th>ALTERSKATEGORIE_GROB</th>\n",
       "      <th>CJT_GESAMTTYP</th>\n",
       "      <th>FINANZ_MINIMALIST</th>\n",
       "      <th>FINANZ_SPARER</th>\n",
       "      <th>FINANZ_VORSORGER</th>\n",
       "      <th>FINANZ_ANLEGER</th>\n",
       "      <th>FINANZ_UNAUFFAELLIGER</th>\n",
       "      <th>FINANZ_HAUSBAUER</th>\n",
       "      <th>FINANZTYP</th>\n",
       "      <th>GFK_URLAUBERTYP</th>\n",
       "      <th>...</th>\n",
       "      <th>PLZ8_BAUMAX</th>\n",
       "      <th>PLZ8_HHZ</th>\n",
       "      <th>PLZ8_GBZ</th>\n",
       "      <th>ARBEIT</th>\n",
       "      <th>ORTSGR_KLS9</th>\n",
       "      <th>RELAT_AB</th>\n",
       "      <th>PRAEGENDE_JUGENDJAHRE_1</th>\n",
       "      <th>PRAEGENDE_JUGENDJAHRE_2</th>\n",
       "      <th>CAMEO_INTL_2015_1</th>\n",
       "      <th>CAMEO_INTL_2015_2</th>\n",
       "    </tr>\n",
       "  </thead>\n",
       "  <tbody>\n",
       "    <tr>\n",
       "      <th>1</th>\n",
       "      <td>NaN</td>\n",
       "      <td>5.0</td>\n",
       "      <td>NaN</td>\n",
       "      <td>5.0</td>\n",
       "      <td>2.0</td>\n",
       "      <td>5.0</td>\n",
       "      <td>4.0</td>\n",
       "      <td>5.0</td>\n",
       "      <td>NaN</td>\n",
       "      <td>10.0</td>\n",
       "      <td>...</td>\n",
       "      <td>0.0</td>\n",
       "      <td>5.0</td>\n",
       "      <td>4.0</td>\n",
       "      <td>3.0</td>\n",
       "      <td>5.0</td>\n",
       "      <td>4.0</td>\n",
       "      <td>1</td>\n",
       "      <td>6.0</td>\n",
       "      <td>5.0</td>\n",
       "      <td>1.0</td>\n",
       "    </tr>\n",
       "    <tr>\n",
       "      <th>2</th>\n",
       "      <td>3.0</td>\n",
       "      <td>3.0</td>\n",
       "      <td>NaN</td>\n",
       "      <td>4.0</td>\n",
       "      <td>NaN</td>\n",
       "      <td>2.0</td>\n",
       "      <td>3.0</td>\n",
       "      <td>5.0</td>\n",
       "      <td>NaN</td>\n",
       "      <td>10.0</td>\n",
       "      <td>...</td>\n",
       "      <td>0.0</td>\n",
       "      <td>4.0</td>\n",
       "      <td>4.0</td>\n",
       "      <td>3.0</td>\n",
       "      <td>5.0</td>\n",
       "      <td>2.0</td>\n",
       "      <td>0</td>\n",
       "      <td>6.0</td>\n",
       "      <td>2.0</td>\n",
       "      <td>4.0</td>\n",
       "    </tr>\n",
       "    <tr>\n",
       "      <th>3</th>\n",
       "      <td>4.0</td>\n",
       "      <td>2.0</td>\n",
       "      <td>4.0</td>\n",
       "      <td>2.0</td>\n",
       "      <td>5.0</td>\n",
       "      <td>2.0</td>\n",
       "      <td>NaN</td>\n",
       "      <td>2.0</td>\n",
       "      <td>6.0</td>\n",
       "      <td>1.0</td>\n",
       "      <td>...</td>\n",
       "      <td>0.0</td>\n",
       "      <td>3.0</td>\n",
       "      <td>4.0</td>\n",
       "      <td>2.0</td>\n",
       "      <td>3.0</td>\n",
       "      <td>3.0</td>\n",
       "      <td>1</td>\n",
       "      <td>4.0</td>\n",
       "      <td>1.0</td>\n",
       "      <td>2.0</td>\n",
       "    </tr>\n",
       "    <tr>\n",
       "      <th>4</th>\n",
       "      <td>3.0</td>\n",
       "      <td>5.0</td>\n",
       "      <td>4.0</td>\n",
       "      <td>3.0</td>\n",
       "      <td>4.0</td>\n",
       "      <td>NaN</td>\n",
       "      <td>3.0</td>\n",
       "      <td>2.0</td>\n",
       "      <td>5.0</td>\n",
       "      <td>5.0</td>\n",
       "      <td>...</td>\n",
       "      <td>0.0</td>\n",
       "      <td>3.0</td>\n",
       "      <td>3.0</td>\n",
       "      <td>4.0</td>\n",
       "      <td>6.0</td>\n",
       "      <td>5.0</td>\n",
       "      <td>1</td>\n",
       "      <td>4.0</td>\n",
       "      <td>4.0</td>\n",
       "      <td>3.0</td>\n",
       "    </tr>\n",
       "    <tr>\n",
       "      <th>5</th>\n",
       "      <td>NaN</td>\n",
       "      <td>2.0</td>\n",
       "      <td>3.0</td>\n",
       "      <td>NaN</td>\n",
       "      <td>5.0</td>\n",
       "      <td>2.0</td>\n",
       "      <td>2.0</td>\n",
       "      <td>5.0</td>\n",
       "      <td>2.0</td>\n",
       "      <td>1.0</td>\n",
       "      <td>...</td>\n",
       "      <td>0.0</td>\n",
       "      <td>5.0</td>\n",
       "      <td>5.0</td>\n",
       "      <td>2.0</td>\n",
       "      <td>3.0</td>\n",
       "      <td>3.0</td>\n",
       "      <td>1</td>\n",
       "      <td>2.0</td>\n",
       "      <td>5.0</td>\n",
       "      <td>4.0</td>\n",
       "    </tr>\n",
       "  </tbody>\n",
       "</table>\n",
       "<p>5 rows × 82 columns</p>\n",
       "</div>"
      ],
      "text/plain": [
       "   ALTERSKATEGORIE_GROB  CJT_GESAMTTYP  FINANZ_MINIMALIST  FINANZ_SPARER  \\\n",
       "1                   NaN            5.0                NaN            5.0   \n",
       "2                   3.0            3.0                NaN            4.0   \n",
       "3                   4.0            2.0                4.0            2.0   \n",
       "4                   3.0            5.0                4.0            3.0   \n",
       "5                   NaN            2.0                3.0            NaN   \n",
       "\n",
       "   FINANZ_VORSORGER  FINANZ_ANLEGER  FINANZ_UNAUFFAELLIGER  FINANZ_HAUSBAUER  \\\n",
       "1               2.0             5.0                    4.0               5.0   \n",
       "2               NaN             2.0                    3.0               5.0   \n",
       "3               5.0             2.0                    NaN               2.0   \n",
       "4               4.0             NaN                    3.0               2.0   \n",
       "5               5.0             2.0                    2.0               5.0   \n",
       "\n",
       "   FINANZTYP  GFK_URLAUBERTYP        ...          PLZ8_BAUMAX  PLZ8_HHZ  \\\n",
       "1        NaN             10.0        ...                  0.0       5.0   \n",
       "2        NaN             10.0        ...                  0.0       4.0   \n",
       "3        6.0              1.0        ...                  0.0       3.0   \n",
       "4        5.0              5.0        ...                  0.0       3.0   \n",
       "5        2.0              1.0        ...                  0.0       5.0   \n",
       "\n",
       "   PLZ8_GBZ  ARBEIT  ORTSGR_KLS9  RELAT_AB  PRAEGENDE_JUGENDJAHRE_1  \\\n",
       "1       4.0     3.0          5.0       4.0                        1   \n",
       "2       4.0     3.0          5.0       2.0                        0   \n",
       "3       4.0     2.0          3.0       3.0                        1   \n",
       "4       3.0     4.0          6.0       5.0                        1   \n",
       "5       5.0     2.0          3.0       3.0                        1   \n",
       "\n",
       "   PRAEGENDE_JUGENDJAHRE_2  CAMEO_INTL_2015_1  CAMEO_INTL_2015_2  \n",
       "1                      6.0                5.0                1.0  \n",
       "2                      6.0                2.0                4.0  \n",
       "3                      4.0                1.0                2.0  \n",
       "4                      4.0                4.0                3.0  \n",
       "5                      2.0                5.0                4.0  \n",
       "\n",
       "[5 rows x 82 columns]"
      ]
     },
     "execution_count": 92,
     "metadata": {},
     "output_type": "execute_result"
    }
   ],
   "source": [
    "azdiasfinal.head()"
   ]
  },
  {
   "cell_type": "markdown",
   "metadata": {},
   "source": [
    "### Step 1.3: Create a Cleaning Function\n",
    "\n",
    "Even though you've finished cleaning up the general population demographics data, it's important to look ahead to the future and realize that you'll need to perform the same cleaning steps on the customer demographics data. In this substep, complete the function below to execute the main feature selection, encoding, and re-engineering steps you performed above. Then, when it comes to looking at the customer data in Step 3, you can just run this function on that DataFrame to get the trimmed dataset in a single step."
   ]
  },
  {
   "cell_type": "code",
   "execution_count": 93,
   "metadata": {},
   "outputs": [
    {
     "data": {
      "text/plain": [
       "0                AGER_TYP\n",
       "1    ALTERSKATEGORIE_GROB\n",
       "2               ANREDE_KZ\n",
       "3           CJT_GESAMTTYP\n",
       "4       FINANZ_MINIMALIST\n",
       "Name: attribute, dtype: object"
      ]
     },
     "execution_count": 93,
     "metadata": {},
     "output_type": "execute_result"
    }
   ],
   "source": [
    "feat_info['attribute'].head()"
   ]
  },
  {
   "cell_type": "code",
   "execution_count": 94,
   "metadata": {},
   "outputs": [],
   "source": [
    "#customers[attrib]=customers[attrib].astype('object')\n",
    "def clean_data(df,feat_info):\n",
    "    \"\"\"\n",
    "    Perform feature trimming, re-encoding, and engineering for demographics\n",
    "    data\n",
    "    \n",
    "    INPUT: Demographics DataFrame\n",
    "    OUTPUT: Trimmed and cleaned demographics DataFrame\n",
    "    \"\"\"\n",
    "    \n",
    "    # Put in code here to execute all main cleaning steps:\n",
    "    # convert missing value codes into NaNs, ...\n",
    "    col_names = df.columns\n",
    "\n",
    "    \n",
    "    \n",
    "    # Identify missing or unknown data values and convert them to NaNs.\n",
    "    for attrib, missing_values in zip(feat_info['attribute'], feat_info['missing_or_unknown']):\n",
    "        if missing_values[0] != '':\n",
    "            for value in missing_values:\n",
    "                if value.isnumeric() or value.lstrip('-').isnumeric():\n",
    "                    value = int(value)\n",
    "                df[attrib]=df[attrib].astype('object')\n",
    "                df.loc[df[attrib] == value, attrib] = np.nan\n",
    "                \n",
    "    #df['CAMEO_DEUG_2015'].head()\n",
    "    #df['CAMEO_DEUG_2015']=df['CAMEO_DEUG_2015'].astype('float')\n",
    "    #df['CAMEO_INTL_2015']=df['CAMEO_INTL_2015'].astype('float')\n",
    "    #temp=df.select_dtypes(include=['object'])\n",
    "    #df=pd.get_dummies(df, columns=temp)\n",
    "    #Dropping 6 outlier columns\n",
    "    col_name=df.columns\n",
    "    missing_columns=[]\n",
    "    for col in col_name:\n",
    "        if df[col].isnull().sum()/df.shape[0]>0.35:\n",
    "            missing_columns.append(col)\n",
    "    df=df.drop(missing_columns,axis=1)\n",
    "    #Dropping rows with lots of missing values and splitting into two subsets\n",
    "    df1 = df[(df.isnull().sum(axis=1)/df.shape[0])*100 <= 0.006]\n",
    "    df2 = df[(df.isnull().sum(axis=1)/df.shape[0])*100 > 0.006]\n",
    "    df=df1\n",
    "    #Engineering features and dropping irrelevant rows\n",
    "    pattern=[1.0,3.0,5.0,8.0,10.0,12.0,14.0]\n",
    "    df['PRAEGENDE_JUGENDJAHRE_1'] = df['PRAEGENDE_JUGENDJAHRE'].isin(pattern)\n",
    "    #1->Mainstream\n",
    "    df['PRAEGENDE_JUGENDJAHRE_1'] = df['PRAEGENDE_JUGENDJAHRE_1'].map({True: 1, False: 0})\n",
    "    df['PRAEGENDE_JUGENDJAHRE_2'] = df['PRAEGENDE_JUGENDJAHRE']\n",
    "    df['PRAEGENDE_JUGENDJAHRE_2'] = df['PRAEGENDE_JUGENDJAHRE_2'].map({1.0:1, 2.0:1, 3.0:2, 4.0:2,5.0:3, 6.0:3, 7.0:3,\n",
    "                                                                          8.0:4, 9.0:4, 10.0:5, 11.0:5, 12.0:5,\n",
    "                                                                          13.0:5, 14.0:6, 15.0:6})\n",
    "                                                                          \n",
    "    df['CAMEO_INTL_2015_1']= df['CAMEO_INTL_2015'].astype(float)\n",
    "    df['CAMEO_INTL_2015_1'].fillna(-1)\n",
    "    df['CAMEO_INTL_2015_1']=(df['CAMEO_INTL_2015_1']//10)\n",
    "    df['CAMEO_INTL_2015_2']=df['CAMEO_INTL_2015'].astype(float)\n",
    "    df['CAMEO_INTL_2015_2']=df['CAMEO_INTL_2015_2']%10\n",
    "    df['WOHNLAGE']=df['WOHNLAGE'].map({1:0,2:0,3:0,4:0,5:0,7:1,8:1})\n",
    "    df['OST_WEST_KZ'] = df['OST_WEST_KZ'].map({'O': 1, 'W': 0})\n",
    "    df1=df1.drop('CAMEO_DEU_2015',axis=1)\n",
    "    return df1\n"
   ]
  },
  {
   "cell_type": "code",
   "execution_count": 95,
   "metadata": {},
   "outputs": [],
   "source": [
    "customers=clean_data(customers, feat_info)"
   ]
  },
  {
   "cell_type": "code",
   "execution_count": 96,
   "metadata": {},
   "outputs": [
    {
     "data": {
      "text/plain": [
       "'\\nmissing=customers.isnull().sum()\\nmissing=(missing[missing>0]/customers.shape[0])*100\\n'"
      ]
     },
     "execution_count": 96,
     "metadata": {},
     "output_type": "execute_result"
    }
   ],
   "source": [
    "#remove selected columns\n",
    "'''\n",
    "missing=customers.isnull().sum()\n",
    "missing=(missing[missing>0]/customers.shape[0])*100\n",
    "'''"
   ]
  },
  {
   "cell_type": "code",
   "execution_count": 97,
   "metadata": {},
   "outputs": [],
   "source": [
    "#customers.shape"
   ]
  },
  {
   "cell_type": "code",
   "execution_count": 98,
   "metadata": {},
   "outputs": [
    {
     "data": {
      "text/plain": [
       "'\\nimport matplotlib.pyplot as plt\\nplt.hist(missing)\\nplt.title(\"Missing values\")\\nplt.xlabel(\"Value\")\\nplt.ylabel(\"Frequency\")\\n'"
      ]
     },
     "execution_count": 98,
     "metadata": {},
     "output_type": "execute_result"
    }
   ],
   "source": [
    "'''\n",
    "import matplotlib.pyplot as plt\n",
    "plt.hist(missing)\n",
    "plt.title(\"Missing values\")\n",
    "plt.xlabel(\"Value\")\n",
    "plt.ylabel(\"Frequency\")\n",
    "'''"
   ]
  },
  {
   "cell_type": "code",
   "execution_count": 99,
   "metadata": {},
   "outputs": [
    {
     "data": {
      "text/plain": [
       "'\\ncol_name=customers.columns\\nmissing_columns=[]\\nfor col in col_name:\\n    if customers[col].isnull().sum()/customers.shape[0]>0.35:\\n        missing_columns.append(col)\\nprint(missing_columns)\\n'"
      ]
     },
     "execution_count": 99,
     "metadata": {},
     "output_type": "execute_result"
    }
   ],
   "source": [
    "'''\n",
    "col_name=customers.columns\n",
    "missing_columns=[]\n",
    "for col in col_name:\n",
    "    if customers[col].isnull().sum()/customers.shape[0]>0.35:\n",
    "        missing_columns.append(col)\n",
    "print(missing_columns)\n",
    "'''"
   ]
  },
  {
   "cell_type": "code",
   "execution_count": 100,
   "metadata": {},
   "outputs": [],
   "source": [
    "#customers=customers.drop(missing_columns,axis=1)"
   ]
  },
  {
   "cell_type": "code",
   "execution_count": 101,
   "metadata": {},
   "outputs": [],
   "source": [
    "#remove selected rows\n",
    "#missing_data1=(customers.isnull().sum(axis=1)/customers.shape[0])*100"
   ]
  },
  {
   "cell_type": "code",
   "execution_count": 102,
   "metadata": {},
   "outputs": [
    {
     "data": {
      "text/plain": [
       "'\\nimport matplotlib.pyplot as plt\\nplt.hist(missing_data1)\\nplt.title(\"Missing values\")\\nplt.xlabel(\"Value\")\\nplt.ylabel(\"Frequency\")\\n'"
      ]
     },
     "execution_count": 102,
     "metadata": {},
     "output_type": "execute_result"
    }
   ],
   "source": [
    "'''\n",
    "import matplotlib.pyplot as plt\n",
    "plt.hist(missing_data1)\n",
    "plt.title(\"Missing values\")\n",
    "plt.xlabel(\"Value\")\n",
    "plt.ylabel(\"Frequency\")\n",
    "'''"
   ]
  },
  {
   "cell_type": "code",
   "execution_count": 103,
   "metadata": {},
   "outputs": [
    {
     "data": {
      "text/plain": [
       "'\\ncol_name=customers.columns.values\\ndf1 = pd.DataFrame(columns=col_name)\\ndf2 = pd.DataFrame(columns=col_name)\\n'"
      ]
     },
     "execution_count": 103,
     "metadata": {},
     "output_type": "execute_result"
    }
   ],
   "source": [
    "'''\n",
    "col_name=customers.columns.values\n",
    "df1 = pd.DataFrame(columns=col_name)\n",
    "df2 = pd.DataFrame(columns=col_name)\n",
    "'''"
   ]
  },
  {
   "cell_type": "code",
   "execution_count": 104,
   "metadata": {},
   "outputs": [
    {
     "data": {
      "text/plain": [
       "'\\ndf1 = customers[(customers.isnull().sum(axis=1)/customers.shape[0])*100 < 0.006]\\ndf2 = customers[(customers.isnull().sum(axis=1)/customers.shape[0])*100 > 0.006]\\n'"
      ]
     },
     "execution_count": 104,
     "metadata": {},
     "output_type": "execute_result"
    }
   ],
   "source": [
    "'''\n",
    "df1 = customers[(customers.isnull().sum(axis=1)/customers.shape[0])*100 < 0.006]\n",
    "df2 = customers[(customers.isnull().sum(axis=1)/customers.shape[0])*100 > 0.006]\n",
    "'''"
   ]
  },
  {
   "cell_type": "code",
   "execution_count": 105,
   "metadata": {},
   "outputs": [],
   "source": [
    "#df1.shape"
   ]
  },
  {
   "cell_type": "code",
   "execution_count": 106,
   "metadata": {},
   "outputs": [],
   "source": [
    "#df2.shape[0]/df1.shape[0]"
   ]
  },
  {
   "cell_type": "code",
   "execution_count": 107,
   "metadata": {},
   "outputs": [],
   "source": [
    "#customers.shape"
   ]
  },
  {
   "cell_type": "code",
   "execution_count": 108,
   "metadata": {},
   "outputs": [],
   "source": [
    "#50079/customers.shape[0]"
   ]
  },
  {
   "cell_type": "code",
   "execution_count": 109,
   "metadata": {},
   "outputs": [],
   "source": [
    "#customers.head()"
   ]
  },
  {
   "cell_type": "code",
   "execution_count": 110,
   "metadata": {},
   "outputs": [],
   "source": [
    "#customers.shape"
   ]
  },
  {
   "cell_type": "markdown",
   "metadata": {},
   "source": [
    "## Step 2: Feature Transformation\n",
    "\n",
    "### Step 2.1: Apply Feature Scaling\n",
    "\n",
    "Before we apply dimensionality reduction techniques to the data, we need to perform feature scaling so that the principal component vectors are not influenced by the natural differences in scale for features. Starting from this part of the project, you'll want to keep an eye on the [API reference page for sklearn](http://scikit-learn.org/stable/modules/classes.html) to help you navigate to all of the classes and functions that you'll need. In this substep, you'll need to check the following:\n",
    "\n",
    "- sklearn requires that data not have missing values in order for its estimators to work properly. So, before applying the scaler to your data, make sure that you've cleaned the DataFrame of the remaining missing values. This can be as simple as just removing all data points with missing data, or applying an [Imputer](http://scikit-learn.org/stable/modules/generated/sklearn.preprocessing.Imputer.html) to replace all missing values. You might also try a more complicated procedure where you temporarily remove missing values in order to compute the scaling parameters before re-introducing those missing values and applying imputation. Think about how much missing data you have and what possible effects each approach might have on your analysis, and justify your decision in the discussion section below.\n",
    "- For the actual scaling function, a [StandardScaler](http://scikit-learn.org/stable/modules/generated/sklearn.preprocessing.StandardScaler.html) instance is suggested, scaling each feature to mean 0 and standard deviation 1.\n",
    "- For these classes, you can make use of the `.fit_transform()` method to both fit a procedure to the data as well as apply the transformation to the data at the same time. Don't forget to keep the fit sklearn objects handy, since you'll be applying them to the customer demographics data towards the end of the project."
   ]
  },
  {
   "cell_type": "code",
   "execution_count": 111,
   "metadata": {},
   "outputs": [],
   "source": [
    "# If you've not yet cleaned the dataset of all NaN values, then investigate and\n",
    "# do that now.\n",
    "colname = azdiasfinal.columns.values\n",
    "for col in colname:\n",
    "    azdiasfinal[col]=azdiasfinal[col].fillna(azdiasfinal[col].mode()[0])"
   ]
  },
  {
   "cell_type": "code",
   "execution_count": 112,
   "metadata": {},
   "outputs": [
    {
     "data": {
      "text/html": [
       "<div>\n",
       "<style>\n",
       "    .dataframe thead tr:only-child th {\n",
       "        text-align: right;\n",
       "    }\n",
       "\n",
       "    .dataframe thead th {\n",
       "        text-align: left;\n",
       "    }\n",
       "\n",
       "    .dataframe tbody tr th {\n",
       "        vertical-align: top;\n",
       "    }\n",
       "</style>\n",
       "<table border=\"1\" class=\"dataframe\">\n",
       "  <thead>\n",
       "    <tr style=\"text-align: right;\">\n",
       "      <th></th>\n",
       "      <th>ALTERSKATEGORIE_GROB</th>\n",
       "      <th>CJT_GESAMTTYP</th>\n",
       "      <th>FINANZ_MINIMALIST</th>\n",
       "      <th>FINANZ_SPARER</th>\n",
       "      <th>FINANZ_VORSORGER</th>\n",
       "      <th>FINANZ_ANLEGER</th>\n",
       "      <th>FINANZ_UNAUFFAELLIGER</th>\n",
       "      <th>FINANZ_HAUSBAUER</th>\n",
       "      <th>FINANZTYP</th>\n",
       "      <th>GFK_URLAUBERTYP</th>\n",
       "      <th>...</th>\n",
       "      <th>PLZ8_BAUMAX</th>\n",
       "      <th>PLZ8_HHZ</th>\n",
       "      <th>PLZ8_GBZ</th>\n",
       "      <th>ARBEIT</th>\n",
       "      <th>ORTSGR_KLS9</th>\n",
       "      <th>RELAT_AB</th>\n",
       "      <th>PRAEGENDE_JUGENDJAHRE_1</th>\n",
       "      <th>PRAEGENDE_JUGENDJAHRE_2</th>\n",
       "      <th>CAMEO_INTL_2015_1</th>\n",
       "      <th>CAMEO_INTL_2015_2</th>\n",
       "    </tr>\n",
       "  </thead>\n",
       "  <tbody>\n",
       "    <tr>\n",
       "      <th>1</th>\n",
       "      <td>3.0</td>\n",
       "      <td>5.0</td>\n",
       "      <td>3.0</td>\n",
       "      <td>5.0</td>\n",
       "      <td>2.0</td>\n",
       "      <td>5.0</td>\n",
       "      <td>4.0</td>\n",
       "      <td>5.0</td>\n",
       "      <td>6.0</td>\n",
       "      <td>10.0</td>\n",
       "      <td>...</td>\n",
       "      <td>0.0</td>\n",
       "      <td>5.0</td>\n",
       "      <td>4.0</td>\n",
       "      <td>3.0</td>\n",
       "      <td>5.0</td>\n",
       "      <td>4.0</td>\n",
       "      <td>1</td>\n",
       "      <td>6.0</td>\n",
       "      <td>5.0</td>\n",
       "      <td>1.0</td>\n",
       "    </tr>\n",
       "    <tr>\n",
       "      <th>2</th>\n",
       "      <td>3.0</td>\n",
       "      <td>3.0</td>\n",
       "      <td>3.0</td>\n",
       "      <td>4.0</td>\n",
       "      <td>5.0</td>\n",
       "      <td>2.0</td>\n",
       "      <td>3.0</td>\n",
       "      <td>5.0</td>\n",
       "      <td>6.0</td>\n",
       "      <td>10.0</td>\n",
       "      <td>...</td>\n",
       "      <td>0.0</td>\n",
       "      <td>4.0</td>\n",
       "      <td>4.0</td>\n",
       "      <td>3.0</td>\n",
       "      <td>5.0</td>\n",
       "      <td>2.0</td>\n",
       "      <td>0</td>\n",
       "      <td>6.0</td>\n",
       "      <td>2.0</td>\n",
       "      <td>4.0</td>\n",
       "    </tr>\n",
       "    <tr>\n",
       "      <th>3</th>\n",
       "      <td>4.0</td>\n",
       "      <td>2.0</td>\n",
       "      <td>4.0</td>\n",
       "      <td>2.0</td>\n",
       "      <td>5.0</td>\n",
       "      <td>2.0</td>\n",
       "      <td>2.0</td>\n",
       "      <td>2.0</td>\n",
       "      <td>6.0</td>\n",
       "      <td>1.0</td>\n",
       "      <td>...</td>\n",
       "      <td>0.0</td>\n",
       "      <td>3.0</td>\n",
       "      <td>4.0</td>\n",
       "      <td>2.0</td>\n",
       "      <td>3.0</td>\n",
       "      <td>3.0</td>\n",
       "      <td>1</td>\n",
       "      <td>4.0</td>\n",
       "      <td>1.0</td>\n",
       "      <td>2.0</td>\n",
       "    </tr>\n",
       "    <tr>\n",
       "      <th>4</th>\n",
       "      <td>3.0</td>\n",
       "      <td>5.0</td>\n",
       "      <td>4.0</td>\n",
       "      <td>3.0</td>\n",
       "      <td>4.0</td>\n",
       "      <td>2.0</td>\n",
       "      <td>3.0</td>\n",
       "      <td>2.0</td>\n",
       "      <td>5.0</td>\n",
       "      <td>5.0</td>\n",
       "      <td>...</td>\n",
       "      <td>0.0</td>\n",
       "      <td>3.0</td>\n",
       "      <td>3.0</td>\n",
       "      <td>4.0</td>\n",
       "      <td>6.0</td>\n",
       "      <td>5.0</td>\n",
       "      <td>1</td>\n",
       "      <td>4.0</td>\n",
       "      <td>4.0</td>\n",
       "      <td>3.0</td>\n",
       "    </tr>\n",
       "    <tr>\n",
       "      <th>5</th>\n",
       "      <td>3.0</td>\n",
       "      <td>2.0</td>\n",
       "      <td>3.0</td>\n",
       "      <td>2.0</td>\n",
       "      <td>5.0</td>\n",
       "      <td>2.0</td>\n",
       "      <td>2.0</td>\n",
       "      <td>5.0</td>\n",
       "      <td>2.0</td>\n",
       "      <td>1.0</td>\n",
       "      <td>...</td>\n",
       "      <td>0.0</td>\n",
       "      <td>5.0</td>\n",
       "      <td>5.0</td>\n",
       "      <td>2.0</td>\n",
       "      <td>3.0</td>\n",
       "      <td>3.0</td>\n",
       "      <td>1</td>\n",
       "      <td>2.0</td>\n",
       "      <td>5.0</td>\n",
       "      <td>4.0</td>\n",
       "    </tr>\n",
       "  </tbody>\n",
       "</table>\n",
       "<p>5 rows × 82 columns</p>\n",
       "</div>"
      ],
      "text/plain": [
       "   ALTERSKATEGORIE_GROB  CJT_GESAMTTYP  FINANZ_MINIMALIST  FINANZ_SPARER  \\\n",
       "1                   3.0            5.0                3.0            5.0   \n",
       "2                   3.0            3.0                3.0            4.0   \n",
       "3                   4.0            2.0                4.0            2.0   \n",
       "4                   3.0            5.0                4.0            3.0   \n",
       "5                   3.0            2.0                3.0            2.0   \n",
       "\n",
       "   FINANZ_VORSORGER  FINANZ_ANLEGER  FINANZ_UNAUFFAELLIGER  FINANZ_HAUSBAUER  \\\n",
       "1               2.0             5.0                    4.0               5.0   \n",
       "2               5.0             2.0                    3.0               5.0   \n",
       "3               5.0             2.0                    2.0               2.0   \n",
       "4               4.0             2.0                    3.0               2.0   \n",
       "5               5.0             2.0                    2.0               5.0   \n",
       "\n",
       "   FINANZTYP  GFK_URLAUBERTYP        ...          PLZ8_BAUMAX  PLZ8_HHZ  \\\n",
       "1        6.0             10.0        ...                  0.0       5.0   \n",
       "2        6.0             10.0        ...                  0.0       4.0   \n",
       "3        6.0              1.0        ...                  0.0       3.0   \n",
       "4        5.0              5.0        ...                  0.0       3.0   \n",
       "5        2.0              1.0        ...                  0.0       5.0   \n",
       "\n",
       "   PLZ8_GBZ  ARBEIT  ORTSGR_KLS9  RELAT_AB  PRAEGENDE_JUGENDJAHRE_1  \\\n",
       "1       4.0     3.0          5.0       4.0                        1   \n",
       "2       4.0     3.0          5.0       2.0                        0   \n",
       "3       4.0     2.0          3.0       3.0                        1   \n",
       "4       3.0     4.0          6.0       5.0                        1   \n",
       "5       5.0     2.0          3.0       3.0                        1   \n",
       "\n",
       "   PRAEGENDE_JUGENDJAHRE_2  CAMEO_INTL_2015_1  CAMEO_INTL_2015_2  \n",
       "1                      6.0                5.0                1.0  \n",
       "2                      6.0                2.0                4.0  \n",
       "3                      4.0                1.0                2.0  \n",
       "4                      4.0                4.0                3.0  \n",
       "5                      2.0                5.0                4.0  \n",
       "\n",
       "[5 rows x 82 columns]"
      ]
     },
     "execution_count": 112,
     "metadata": {},
     "output_type": "execute_result"
    }
   ],
   "source": [
    "azdiasfinal.head()"
   ]
  },
  {
   "cell_type": "code",
   "execution_count": 113,
   "metadata": {},
   "outputs": [],
   "source": [
    "azdiasfinal=azdiasfinal.dropna(axis=1)"
   ]
  },
  {
   "cell_type": "code",
   "execution_count": 114,
   "metadata": {},
   "outputs": [
    {
     "data": {
      "text/html": [
       "<div>\n",
       "<style>\n",
       "    .dataframe thead tr:only-child th {\n",
       "        text-align: right;\n",
       "    }\n",
       "\n",
       "    .dataframe thead th {\n",
       "        text-align: left;\n",
       "    }\n",
       "\n",
       "    .dataframe tbody tr th {\n",
       "        vertical-align: top;\n",
       "    }\n",
       "</style>\n",
       "<table border=\"1\" class=\"dataframe\">\n",
       "  <thead>\n",
       "    <tr style=\"text-align: right;\">\n",
       "      <th></th>\n",
       "      <th>ALTERSKATEGORIE_GROB</th>\n",
       "      <th>CJT_GESAMTTYP</th>\n",
       "      <th>FINANZ_MINIMALIST</th>\n",
       "      <th>FINANZ_SPARER</th>\n",
       "      <th>FINANZ_VORSORGER</th>\n",
       "      <th>FINANZ_ANLEGER</th>\n",
       "      <th>FINANZ_UNAUFFAELLIGER</th>\n",
       "      <th>FINANZ_HAUSBAUER</th>\n",
       "      <th>FINANZTYP</th>\n",
       "      <th>GFK_URLAUBERTYP</th>\n",
       "      <th>...</th>\n",
       "      <th>PLZ8_BAUMAX</th>\n",
       "      <th>PLZ8_HHZ</th>\n",
       "      <th>PLZ8_GBZ</th>\n",
       "      <th>ARBEIT</th>\n",
       "      <th>ORTSGR_KLS9</th>\n",
       "      <th>RELAT_AB</th>\n",
       "      <th>PRAEGENDE_JUGENDJAHRE_1</th>\n",
       "      <th>PRAEGENDE_JUGENDJAHRE_2</th>\n",
       "      <th>CAMEO_INTL_2015_1</th>\n",
       "      <th>CAMEO_INTL_2015_2</th>\n",
       "    </tr>\n",
       "  </thead>\n",
       "  <tbody>\n",
       "    <tr>\n",
       "      <th>count</th>\n",
       "      <td>797755.000000</td>\n",
       "      <td>797755.000000</td>\n",
       "      <td>797755.000000</td>\n",
       "      <td>797755.000000</td>\n",
       "      <td>797755.00000</td>\n",
       "      <td>797755.000000</td>\n",
       "      <td>797755.000000</td>\n",
       "      <td>797755.000000</td>\n",
       "      <td>797755.000000</td>\n",
       "      <td>797755.000000</td>\n",
       "      <td>...</td>\n",
       "      <td>797755.000000</td>\n",
       "      <td>797755.000000</td>\n",
       "      <td>797755.000000</td>\n",
       "      <td>797755.000000</td>\n",
       "      <td>797755.000000</td>\n",
       "      <td>797755.000000</td>\n",
       "      <td>797755.000000</td>\n",
       "      <td>797755.000000</td>\n",
       "      <td>797755.00000</td>\n",
       "      <td>797755.000000</td>\n",
       "    </tr>\n",
       "    <tr>\n",
       "      <th>mean</th>\n",
       "      <td>3.107873</td>\n",
       "      <td>3.505734</td>\n",
       "      <td>3.406241</td>\n",
       "      <td>3.022133</td>\n",
       "      <td>3.95010</td>\n",
       "      <td>3.102375</td>\n",
       "      <td>2.934185</td>\n",
       "      <td>3.783145</td>\n",
       "      <td>5.033488</td>\n",
       "      <td>7.497352</td>\n",
       "      <td>...</td>\n",
       "      <td>0.122009</td>\n",
       "      <td>3.595116</td>\n",
       "      <td>3.370076</td>\n",
       "      <td>3.172255</td>\n",
       "      <td>5.291858</td>\n",
       "      <td>3.072035</td>\n",
       "      <td>0.718584</td>\n",
       "      <td>4.521393</td>\n",
       "      <td>3.27525</td>\n",
       "      <td>2.858973</td>\n",
       "    </tr>\n",
       "    <tr>\n",
       "      <th>std</th>\n",
       "      <td>0.663256</td>\n",
       "      <td>1.533561</td>\n",
       "      <td>1.020214</td>\n",
       "      <td>1.169425</td>\n",
       "      <td>1.08642</td>\n",
       "      <td>1.183147</td>\n",
       "      <td>1.114713</td>\n",
       "      <td>1.175606</td>\n",
       "      <td>1.443473</td>\n",
       "      <td>3.581245</td>\n",
       "      <td>...</td>\n",
       "      <td>0.327296</td>\n",
       "      <td>0.965264</td>\n",
       "      <td>1.097279</td>\n",
       "      <td>1.001530</td>\n",
       "      <td>2.297912</td>\n",
       "      <td>1.359508</td>\n",
       "      <td>0.449690</td>\n",
       "      <td>1.377017</td>\n",
       "      <td>1.46668</td>\n",
       "      <td>1.488025</td>\n",
       "    </tr>\n",
       "    <tr>\n",
       "      <th>min</th>\n",
       "      <td>2.000000</td>\n",
       "      <td>1.000000</td>\n",
       "      <td>2.000000</td>\n",
       "      <td>2.000000</td>\n",
       "      <td>2.00000</td>\n",
       "      <td>2.000000</td>\n",
       "      <td>2.000000</td>\n",
       "      <td>2.000000</td>\n",
       "      <td>2.000000</td>\n",
       "      <td>1.000000</td>\n",
       "      <td>...</td>\n",
       "      <td>0.000000</td>\n",
       "      <td>1.000000</td>\n",
       "      <td>1.000000</td>\n",
       "      <td>1.000000</td>\n",
       "      <td>0.000000</td>\n",
       "      <td>1.000000</td>\n",
       "      <td>0.000000</td>\n",
       "      <td>1.000000</td>\n",
       "      <td>1.00000</td>\n",
       "      <td>1.000000</td>\n",
       "    </tr>\n",
       "    <tr>\n",
       "      <th>25%</th>\n",
       "      <td>3.000000</td>\n",
       "      <td>2.000000</td>\n",
       "      <td>3.000000</td>\n",
       "      <td>2.000000</td>\n",
       "      <td>3.00000</td>\n",
       "      <td>2.000000</td>\n",
       "      <td>2.000000</td>\n",
       "      <td>3.000000</td>\n",
       "      <td>4.000000</td>\n",
       "      <td>4.000000</td>\n",
       "      <td>...</td>\n",
       "      <td>0.000000</td>\n",
       "      <td>3.000000</td>\n",
       "      <td>3.000000</td>\n",
       "      <td>3.000000</td>\n",
       "      <td>4.000000</td>\n",
       "      <td>2.000000</td>\n",
       "      <td>0.000000</td>\n",
       "      <td>4.000000</td>\n",
       "      <td>2.00000</td>\n",
       "      <td>1.000000</td>\n",
       "    </tr>\n",
       "    <tr>\n",
       "      <th>50%</th>\n",
       "      <td>3.000000</td>\n",
       "      <td>4.000000</td>\n",
       "      <td>3.000000</td>\n",
       "      <td>3.000000</td>\n",
       "      <td>4.00000</td>\n",
       "      <td>3.000000</td>\n",
       "      <td>2.000000</td>\n",
       "      <td>4.000000</td>\n",
       "      <td>6.000000</td>\n",
       "      <td>8.000000</td>\n",
       "      <td>...</td>\n",
       "      <td>0.000000</td>\n",
       "      <td>3.000000</td>\n",
       "      <td>3.000000</td>\n",
       "      <td>3.000000</td>\n",
       "      <td>5.000000</td>\n",
       "      <td>3.000000</td>\n",
       "      <td>1.000000</td>\n",
       "      <td>5.000000</td>\n",
       "      <td>4.00000</td>\n",
       "      <td>3.000000</td>\n",
       "    </tr>\n",
       "    <tr>\n",
       "      <th>75%</th>\n",
       "      <td>4.000000</td>\n",
       "      <td>5.000000</td>\n",
       "      <td>4.000000</td>\n",
       "      <td>4.000000</td>\n",
       "      <td>5.00000</td>\n",
       "      <td>4.000000</td>\n",
       "      <td>4.000000</td>\n",
       "      <td>5.000000</td>\n",
       "      <td>6.000000</td>\n",
       "      <td>11.000000</td>\n",
       "      <td>...</td>\n",
       "      <td>0.000000</td>\n",
       "      <td>4.000000</td>\n",
       "      <td>4.000000</td>\n",
       "      <td>4.000000</td>\n",
       "      <td>7.000000</td>\n",
       "      <td>4.000000</td>\n",
       "      <td>1.000000</td>\n",
       "      <td>6.000000</td>\n",
       "      <td>5.00000</td>\n",
       "      <td>4.000000</td>\n",
       "    </tr>\n",
       "    <tr>\n",
       "      <th>max</th>\n",
       "      <td>4.000000</td>\n",
       "      <td>6.000000</td>\n",
       "      <td>5.000000</td>\n",
       "      <td>5.000000</td>\n",
       "      <td>5.00000</td>\n",
       "      <td>5.000000</td>\n",
       "      <td>5.000000</td>\n",
       "      <td>5.000000</td>\n",
       "      <td>6.000000</td>\n",
       "      <td>12.000000</td>\n",
       "      <td>...</td>\n",
       "      <td>1.000000</td>\n",
       "      <td>5.000000</td>\n",
       "      <td>5.000000</td>\n",
       "      <td>9.000000</td>\n",
       "      <td>9.000000</td>\n",
       "      <td>9.000000</td>\n",
       "      <td>1.000000</td>\n",
       "      <td>6.000000</td>\n",
       "      <td>5.00000</td>\n",
       "      <td>5.000000</td>\n",
       "    </tr>\n",
       "  </tbody>\n",
       "</table>\n",
       "<p>8 rows × 82 columns</p>\n",
       "</div>"
      ],
      "text/plain": [
       "       ALTERSKATEGORIE_GROB  CJT_GESAMTTYP  FINANZ_MINIMALIST  FINANZ_SPARER  \\\n",
       "count         797755.000000  797755.000000      797755.000000  797755.000000   \n",
       "mean               3.107873       3.505734           3.406241       3.022133   \n",
       "std                0.663256       1.533561           1.020214       1.169425   \n",
       "min                2.000000       1.000000           2.000000       2.000000   \n",
       "25%                3.000000       2.000000           3.000000       2.000000   \n",
       "50%                3.000000       4.000000           3.000000       3.000000   \n",
       "75%                4.000000       5.000000           4.000000       4.000000   \n",
       "max                4.000000       6.000000           5.000000       5.000000   \n",
       "\n",
       "       FINANZ_VORSORGER  FINANZ_ANLEGER  FINANZ_UNAUFFAELLIGER  \\\n",
       "count      797755.00000   797755.000000          797755.000000   \n",
       "mean            3.95010        3.102375               2.934185   \n",
       "std             1.08642        1.183147               1.114713   \n",
       "min             2.00000        2.000000               2.000000   \n",
       "25%             3.00000        2.000000               2.000000   \n",
       "50%             4.00000        3.000000               2.000000   \n",
       "75%             5.00000        4.000000               4.000000   \n",
       "max             5.00000        5.000000               5.000000   \n",
       "\n",
       "       FINANZ_HAUSBAUER      FINANZTYP  GFK_URLAUBERTYP        ...          \\\n",
       "count     797755.000000  797755.000000    797755.000000        ...           \n",
       "mean           3.783145       5.033488         7.497352        ...           \n",
       "std            1.175606       1.443473         3.581245        ...           \n",
       "min            2.000000       2.000000         1.000000        ...           \n",
       "25%            3.000000       4.000000         4.000000        ...           \n",
       "50%            4.000000       6.000000         8.000000        ...           \n",
       "75%            5.000000       6.000000        11.000000        ...           \n",
       "max            5.000000       6.000000        12.000000        ...           \n",
       "\n",
       "         PLZ8_BAUMAX       PLZ8_HHZ       PLZ8_GBZ         ARBEIT  \\\n",
       "count  797755.000000  797755.000000  797755.000000  797755.000000   \n",
       "mean        0.122009       3.595116       3.370076       3.172255   \n",
       "std         0.327296       0.965264       1.097279       1.001530   \n",
       "min         0.000000       1.000000       1.000000       1.000000   \n",
       "25%         0.000000       3.000000       3.000000       3.000000   \n",
       "50%         0.000000       3.000000       3.000000       3.000000   \n",
       "75%         0.000000       4.000000       4.000000       4.000000   \n",
       "max         1.000000       5.000000       5.000000       9.000000   \n",
       "\n",
       "         ORTSGR_KLS9       RELAT_AB  PRAEGENDE_JUGENDJAHRE_1  \\\n",
       "count  797755.000000  797755.000000            797755.000000   \n",
       "mean        5.291858       3.072035                 0.718584   \n",
       "std         2.297912       1.359508                 0.449690   \n",
       "min         0.000000       1.000000                 0.000000   \n",
       "25%         4.000000       2.000000                 0.000000   \n",
       "50%         5.000000       3.000000                 1.000000   \n",
       "75%         7.000000       4.000000                 1.000000   \n",
       "max         9.000000       9.000000                 1.000000   \n",
       "\n",
       "       PRAEGENDE_JUGENDJAHRE_2  CAMEO_INTL_2015_1  CAMEO_INTL_2015_2  \n",
       "count            797755.000000       797755.00000      797755.000000  \n",
       "mean                  4.521393            3.27525           2.858973  \n",
       "std                   1.377017            1.46668           1.488025  \n",
       "min                   1.000000            1.00000           1.000000  \n",
       "25%                   4.000000            2.00000           1.000000  \n",
       "50%                   5.000000            4.00000           3.000000  \n",
       "75%                   6.000000            5.00000           4.000000  \n",
       "max                   6.000000            5.00000           5.000000  \n",
       "\n",
       "[8 rows x 82 columns]"
      ]
     },
     "execution_count": 114,
     "metadata": {},
     "output_type": "execute_result"
    }
   ],
   "source": [
    "azdiasfinal.describe()"
   ]
  },
  {
   "cell_type": "code",
   "execution_count": 115,
   "metadata": {},
   "outputs": [
    {
     "data": {
      "text/html": [
       "<div>\n",
       "<style>\n",
       "    .dataframe thead tr:only-child th {\n",
       "        text-align: right;\n",
       "    }\n",
       "\n",
       "    .dataframe thead th {\n",
       "        text-align: left;\n",
       "    }\n",
       "\n",
       "    .dataframe tbody tr th {\n",
       "        vertical-align: top;\n",
       "    }\n",
       "</style>\n",
       "<table border=\"1\" class=\"dataframe\">\n",
       "  <thead>\n",
       "    <tr style=\"text-align: right;\">\n",
       "      <th></th>\n",
       "      <th>ALTERSKATEGORIE_GROB</th>\n",
       "      <th>CJT_GESAMTTYP</th>\n",
       "      <th>FINANZ_MINIMALIST</th>\n",
       "      <th>FINANZ_SPARER</th>\n",
       "      <th>FINANZ_VORSORGER</th>\n",
       "      <th>FINANZ_ANLEGER</th>\n",
       "      <th>FINANZ_UNAUFFAELLIGER</th>\n",
       "      <th>FINANZ_HAUSBAUER</th>\n",
       "      <th>FINANZTYP</th>\n",
       "      <th>GFK_URLAUBERTYP</th>\n",
       "      <th>...</th>\n",
       "      <th>PLZ8_BAUMAX</th>\n",
       "      <th>PLZ8_HHZ</th>\n",
       "      <th>PLZ8_GBZ</th>\n",
       "      <th>ARBEIT</th>\n",
       "      <th>ORTSGR_KLS9</th>\n",
       "      <th>RELAT_AB</th>\n",
       "      <th>PRAEGENDE_JUGENDJAHRE_1</th>\n",
       "      <th>PRAEGENDE_JUGENDJAHRE_2</th>\n",
       "      <th>CAMEO_INTL_2015_1</th>\n",
       "      <th>CAMEO_INTL_2015_2</th>\n",
       "    </tr>\n",
       "  </thead>\n",
       "  <tbody>\n",
       "    <tr>\n",
       "      <th>1</th>\n",
       "      <td>-0.162641</td>\n",
       "      <td>0.974377</td>\n",
       "      <td>-0.398192</td>\n",
       "      <td>1.691317</td>\n",
       "      <td>-1.794979</td>\n",
       "      <td>1.603881</td>\n",
       "      <td>0.956135</td>\n",
       "      <td>1.035088</td>\n",
       "      <td>0.669574</td>\n",
       "      <td>0.698821</td>\n",
       "      <td>...</td>\n",
       "      <td>-0.372778</td>\n",
       "      <td>1.455440</td>\n",
       "      <td>0.574079</td>\n",
       "      <td>-0.171992</td>\n",
       "      <td>-0.127010</td>\n",
       "      <td>0.682575</td>\n",
       "      <td>0.625800</td>\n",
       "      <td>1.073776</td>\n",
       "      <td>1.175956</td>\n",
       "      <td>-1.249290</td>\n",
       "    </tr>\n",
       "    <tr>\n",
       "      <th>2</th>\n",
       "      <td>-0.162641</td>\n",
       "      <td>-0.329778</td>\n",
       "      <td>-0.398192</td>\n",
       "      <td>0.836195</td>\n",
       "      <td>0.966386</td>\n",
       "      <td>-0.931732</td>\n",
       "      <td>0.059042</td>\n",
       "      <td>1.035088</td>\n",
       "      <td>0.669574</td>\n",
       "      <td>0.698821</td>\n",
       "      <td>...</td>\n",
       "      <td>-0.372778</td>\n",
       "      <td>0.419454</td>\n",
       "      <td>0.574079</td>\n",
       "      <td>-0.171992</td>\n",
       "      <td>-0.127010</td>\n",
       "      <td>-0.788547</td>\n",
       "      <td>-1.597954</td>\n",
       "      <td>1.073776</td>\n",
       "      <td>-0.869481</td>\n",
       "      <td>0.766807</td>\n",
       "    </tr>\n",
       "    <tr>\n",
       "      <th>3</th>\n",
       "      <td>1.345073</td>\n",
       "      <td>-0.981856</td>\n",
       "      <td>0.581995</td>\n",
       "      <td>-0.874048</td>\n",
       "      <td>0.966386</td>\n",
       "      <td>-0.931732</td>\n",
       "      <td>-0.838051</td>\n",
       "      <td>-1.516789</td>\n",
       "      <td>0.669574</td>\n",
       "      <td>-1.814273</td>\n",
       "      <td>...</td>\n",
       "      <td>-0.372778</td>\n",
       "      <td>-0.616532</td>\n",
       "      <td>0.574079</td>\n",
       "      <td>-1.170465</td>\n",
       "      <td>-0.997366</td>\n",
       "      <td>-0.052986</td>\n",
       "      <td>0.625800</td>\n",
       "      <td>-0.378640</td>\n",
       "      <td>-1.551294</td>\n",
       "      <td>-0.577258</td>\n",
       "    </tr>\n",
       "    <tr>\n",
       "      <th>4</th>\n",
       "      <td>-0.162641</td>\n",
       "      <td>0.974377</td>\n",
       "      <td>0.581995</td>\n",
       "      <td>-0.018927</td>\n",
       "      <td>0.045931</td>\n",
       "      <td>-0.931732</td>\n",
       "      <td>0.059042</td>\n",
       "      <td>-1.516789</td>\n",
       "      <td>-0.023199</td>\n",
       "      <td>-0.697342</td>\n",
       "      <td>...</td>\n",
       "      <td>-0.372778</td>\n",
       "      <td>-0.616532</td>\n",
       "      <td>-0.337267</td>\n",
       "      <td>0.826482</td>\n",
       "      <td>0.308168</td>\n",
       "      <td>1.418135</td>\n",
       "      <td>0.625800</td>\n",
       "      <td>-0.378640</td>\n",
       "      <td>0.494144</td>\n",
       "      <td>0.094775</td>\n",
       "    </tr>\n",
       "    <tr>\n",
       "      <th>5</th>\n",
       "      <td>-0.162641</td>\n",
       "      <td>-0.981856</td>\n",
       "      <td>-0.398192</td>\n",
       "      <td>-0.874048</td>\n",
       "      <td>0.966386</td>\n",
       "      <td>-0.931732</td>\n",
       "      <td>-0.838051</td>\n",
       "      <td>1.035088</td>\n",
       "      <td>-2.101521</td>\n",
       "      <td>-1.814273</td>\n",
       "      <td>...</td>\n",
       "      <td>-0.372778</td>\n",
       "      <td>1.455440</td>\n",
       "      <td>1.485425</td>\n",
       "      <td>-1.170465</td>\n",
       "      <td>-0.997366</td>\n",
       "      <td>-0.052986</td>\n",
       "      <td>0.625800</td>\n",
       "      <td>-1.831056</td>\n",
       "      <td>1.175956</td>\n",
       "      <td>0.766807</td>\n",
       "    </tr>\n",
       "  </tbody>\n",
       "</table>\n",
       "<p>5 rows × 82 columns</p>\n",
       "</div>"
      ],
      "text/plain": [
       "   ALTERSKATEGORIE_GROB  CJT_GESAMTTYP  FINANZ_MINIMALIST  FINANZ_SPARER  \\\n",
       "1             -0.162641       0.974377          -0.398192       1.691317   \n",
       "2             -0.162641      -0.329778          -0.398192       0.836195   \n",
       "3              1.345073      -0.981856           0.581995      -0.874048   \n",
       "4             -0.162641       0.974377           0.581995      -0.018927   \n",
       "5             -0.162641      -0.981856          -0.398192      -0.874048   \n",
       "\n",
       "   FINANZ_VORSORGER  FINANZ_ANLEGER  FINANZ_UNAUFFAELLIGER  FINANZ_HAUSBAUER  \\\n",
       "1         -1.794979        1.603881               0.956135          1.035088   \n",
       "2          0.966386       -0.931732               0.059042          1.035088   \n",
       "3          0.966386       -0.931732              -0.838051         -1.516789   \n",
       "4          0.045931       -0.931732               0.059042         -1.516789   \n",
       "5          0.966386       -0.931732              -0.838051          1.035088   \n",
       "\n",
       "   FINANZTYP  GFK_URLAUBERTYP        ...          PLZ8_BAUMAX  PLZ8_HHZ  \\\n",
       "1   0.669574         0.698821        ...            -0.372778  1.455440   \n",
       "2   0.669574         0.698821        ...            -0.372778  0.419454   \n",
       "3   0.669574        -1.814273        ...            -0.372778 -0.616532   \n",
       "4  -0.023199        -0.697342        ...            -0.372778 -0.616532   \n",
       "5  -2.101521        -1.814273        ...            -0.372778  1.455440   \n",
       "\n",
       "   PLZ8_GBZ    ARBEIT  ORTSGR_KLS9  RELAT_AB  PRAEGENDE_JUGENDJAHRE_1  \\\n",
       "1  0.574079 -0.171992    -0.127010  0.682575                 0.625800   \n",
       "2  0.574079 -0.171992    -0.127010 -0.788547                -1.597954   \n",
       "3  0.574079 -1.170465    -0.997366 -0.052986                 0.625800   \n",
       "4 -0.337267  0.826482     0.308168  1.418135                 0.625800   \n",
       "5  1.485425 -1.170465    -0.997366 -0.052986                 0.625800   \n",
       "\n",
       "   PRAEGENDE_JUGENDJAHRE_2  CAMEO_INTL_2015_1  CAMEO_INTL_2015_2  \n",
       "1                 1.073776           1.175956          -1.249290  \n",
       "2                 1.073776          -0.869481           0.766807  \n",
       "3                -0.378640          -1.551294          -0.577258  \n",
       "4                -0.378640           0.494144           0.094775  \n",
       "5                -1.831056           1.175956           0.766807  \n",
       "\n",
       "[5 rows x 82 columns]"
      ]
     },
     "metadata": {},
     "output_type": "display_data"
    }
   ],
   "source": [
    "# Apply feature scaling to the general population demographics data.\n",
    "from sklearn.preprocessing import StandardScaler\n",
    "# Initialize a scaler, then apply it to the features\n",
    "scaler= StandardScaler() # default=(0, 1)\n",
    "numerical = azdiasfinal.columns\n",
    "azdiasfinal[numerical] = scaler.fit_transform(azdiasfinal[numerical].as_matrix())\n",
    "# Show an example of a record with scaling applied\n",
    "display(azdiasfinal.head(n = 5))"
   ]
  },
  {
   "cell_type": "code",
   "execution_count": 116,
   "metadata": {},
   "outputs": [
    {
     "name": "stdout",
     "output_type": "stream",
     "text": [
      "Empty DataFrame\n",
      "Columns: []\n",
      "Index: [1, 2, 3, 4, 5, 6, 7, 8, 9, 10, 12, 13, 15, 16, 18, 19, 20, 21, 22, 23, 25, 26, 27, 28, 29, 31, 32, 33, 34, 36, 37, 38, 39, 40, 41, 42, 43, 44, 45, 47, 49, 50, 51, 52, 55, 56, 57, 58, 59, 60, 63, 64, 65, 66, 67, 68, 70, 71, 72, 73, 74, 77, 78, 79, 80, 82, 84, 85, 86, 87, 88, 89, 91, 92, 93, 94, 95, 96, 98, 100, 101, 102, 104, 105, 107, 110, 111, 113, 114, 115, 116, 117, 118, 119, 120, 121, 122, 123, 124, 125, ...]\n",
      "\n",
      "[797755 rows x 0 columns]\n"
     ]
    }
   ],
   "source": [
    "temp = azdiasfinal.select_dtypes(include=['object'])\n",
    "print(temp)"
   ]
  },
  {
   "cell_type": "markdown",
   "metadata": {},
   "source": [
    "### Discussion 2.1: Apply Feature Scaling\n",
    "\n",
    "(Double-click this cell and replace this text with your own text, reporting your decisions regarding feature scaling.)\n",
    "I replace missing values with the median value. "
   ]
  },
  {
   "cell_type": "markdown",
   "metadata": {},
   "source": [
    "### Step 2.2: Perform Dimensionality Reduction\n",
    "\n",
    "On your scaled data, you are now ready to apply dimensionality reduction techniques.\n",
    "\n",
    "- Use sklearn's [PCA](http://scikit-learn.org/stable/modules/generated/sklearn.decomposition.PCA.html) class to apply principal component analysis on the data, thus finding the vectors of maximal variance in the data. To start, you should not set any parameters (so all components are computed) or set a number of components that is at least half the number of features (so there's enough features to see the general trend in variability).\n",
    "- Check out the ratio of variance explained by each principal component as well as the cumulative variance explained. Try plotting the cumulative or sequential values using matplotlib's [`plot()`](https://matplotlib.org/api/_as_gen/matplotlib.pyplot.plot.html) function. Based on what you find, select a value for the number of transformed features you'll retain for the clustering part of the project.\n",
    "- Once you've made a choice for the number of components to keep, make sure you re-fit a PCA instance to perform the decided-on transformation."
   ]
  },
  {
   "cell_type": "code",
   "execution_count": 117,
   "metadata": {},
   "outputs": [],
   "source": [
    "from sklearn.decomposition import PCA\n",
    "pca = PCA()\n",
    "azdias_pca = pca.fit_transform(azdiasfinal)"
   ]
  },
  {
   "cell_type": "code",
   "execution_count": 118,
   "metadata": {},
   "outputs": [
    {
     "data": {
      "text/plain": [
       "(82, 82)"
      ]
     },
     "execution_count": 118,
     "metadata": {},
     "output_type": "execute_result"
    }
   ],
   "source": [
    "pca.components_.shape"
   ]
  },
  {
   "cell_type": "code",
   "execution_count": 119,
   "metadata": {},
   "outputs": [
    {
     "data": {
      "image/png": "[encoded data removed]",
      "text/plain": [
       "<matplotlib.figure.Figure at 0x7fa95f0fc710>"
      ]
     },
     "metadata": {
      "needs_background": "light"
     },
     "output_type": "display_data"
    }
   ],
   "source": [
    "def scree_plot(pca):\n",
    "    '''\n",
    "    Creates a scree plot associated with the principal components \n",
    "    \n",
    "    INPUT: pca - the result of instantian of PCA in scikit learn\n",
    "            \n",
    "    OUTPUT:\n",
    "            None\n",
    "    '''\n",
    "    num_components = len(pca.explained_variance_ratio_)\n",
    "    ind = np.arange(num_components)\n",
    "    vals = pca.explained_variance_ratio_\n",
    " \n",
    "    plt.figure(figsize=(10, 6))\n",
    "    ax = plt.subplot(111)\n",
    "    cumvals = np.cumsum(vals)\n",
    "    ax.bar(ind, vals)\n",
    "    ax.plot(ind, cumvals)\n",
    "    for i in range(num_components):\n",
    "        ax.annotate(r\"%s%%\" % ((str(vals[i]*100)[:4])), (ind[i]+0.2, vals[i]), va=\"bottom\", ha=\"center\", fontsize=12)\n",
    " \n",
    "    ax.xaxis.set_tick_params(width=0)\n",
    "    ax.yaxis.set_tick_params(width=2, length=12)\n",
    " \n",
    "    ax.set_xlabel(\"Principal Component\")\n",
    "    ax.set_ylabel(\"Variance Explained (%)\")\n",
    "    plt.title('Explained Variance Per Principal Component')\n",
    "    \n",
    "\n",
    "scree_plot(pca)"
   ]
  },
  {
   "cell_type": "code",
   "execution_count": 120,
   "metadata": {},
   "outputs": [],
   "source": [
    "# Investigate the variance accounted for by each principal component.\n",
    "def pca_results(full_dataset, pca):\n",
    "\t'''\n",
    "\tCreate a DataFrame of the PCA results\n",
    "\tIncludes dimension feature weights and explained variance\n",
    "\tVisualizes the PCA results\n",
    "\t'''\n",
    "\n",
    "\t# Dimension indexing\n",
    "\tdimensions = dimensions = ['Dimension {}'.format(i) for i in range(1,len(pca.components_)+1)]\n",
    "\n",
    "\t# PCA components\n",
    "\tcomponents = pd.DataFrame(np.round(pca.components_, 4), columns = full_dataset.keys())\n",
    "\tcomponents.index = dimensions\n",
    "\n",
    "\t# PCA explained variance\n",
    "\tratios = pca.explained_variance_ratio_.reshape(len(pca.components_), 1)\n",
    "\tvariance_ratios = pd.DataFrame(np.round(ratios, 4), columns = ['Explained Variance'])\n",
    "\tvariance_ratios.index = dimensions\n",
    "\n",
    "\t# Create a bar plot visualization\n",
    "\tfig, ax = plt.subplots(figsize = (14,8))\n",
    "\n",
    "\t# Plot the feature weights as a function of the components\n",
    "\tcomponents.plot(ax = ax, kind = 'bar');\n",
    "\tax.set_ylabel(\"Feature Weights\")\n",
    "\tax.set_xticklabels(dimensions, rotation=0)\n",
    "\n",
    "\n",
    "\t# Display the explained variance ratios\n",
    "\tfor i, ev in enumerate(pca.explained_variance_ratio_):\n",
    "\t\tax.text(i-0.40, ax.get_ylim()[1] + 0.05, \"Explained Variance\\n          %.4f\"%(ev))\n",
    "\n",
    "\t# Return a concatenated DataFrame\n",
    "\treturn pd.concat([variance_ratios, components], axis = 1)\n"
   ]
  },
  {
   "cell_type": "code",
   "execution_count": 121,
   "metadata": {},
   "outputs": [
    {
     "data": {
      "image/png": "[encoded data removed]",
      "text/plain": [
       "<matplotlib.figure.Figure at 0x7fa95f07b400>"
      ]
     },
     "metadata": {
      "needs_background": "light"
     },
     "output_type": "display_data"
    }
   ],
   "source": [
    "variance=pca_results(azdiasfinal,pca)"
   ]
  },
  {
   "cell_type": "markdown",
   "metadata": {},
   "source": [
    "### Discussion 2.2: Perform Dimensionality Reduction\n",
    "\n",
    "(Double-click this cell and replace this text with your own text, reporting your findings and decisions regarding dimensionality reduction. How many principal components / transformed features are you retaining for the next step of the analysis?)\n",
    "I am retaining 40 principal components out of 83 as 40 components represent majority of the data using elbow method \n",
    "based on the graph above."
   ]
  },
  {
   "cell_type": "code",
   "execution_count": 122,
   "metadata": {},
   "outputs": [],
   "source": [
    "from sklearn.decomposition import PCA\n",
    "pca = PCA(n_components=40)\n",
    "azdias_pca = pca.fit_transform(azdiasfinal)"
   ]
  },
  {
   "cell_type": "markdown",
   "metadata": {},
   "source": [
    "### Step 2.3: Interpret Principal Components\n",
    "\n",
    "Now that we have our transformed principal components, it's a nice idea to check out the weight of each variable on the first few components to see if they can be interpreted in some fashion.\n",
    "\n",
    "As a reminder, each principal component is a unit vector that points in the direction of highest variance (after accounting for the variance captured by earlier principal components). The further a weight is from zero, the more the principal component is in the direction of the corresponding feature. If two features have large weights of the same sign (both positive or both negative), then increases in one tend expect to be associated with increases in the other. To contrast, features with different signs can be expected to show a negative correlation: increases in one variable should result in a decrease in the other.\n",
    "\n",
    "- To investigate the features, you should map each weight to their corresponding feature name, then sort the features according to weight. The most interesting features for each principal component, then, will be those at the beginning and end of the sorted list. Use the data dictionary document to help you understand these most prominent features, their relationships, and what a positive or negative value on the principal component might indicate.\n",
    "- You should investigate and interpret feature associations from the first three principal components in this substep. To help facilitate this, you should write a function that you can call at any time to print the sorted list of feature weights, for the *i*-th principal component. This might come in handy in the next step of the project, when you interpret the tendencies of the discovered clusters."
   ]
  },
  {
   "cell_type": "code",
   "execution_count": 123,
   "metadata": {},
   "outputs": [],
   "source": [
    "# Map weights for the first principal component to corresponding feature names\n",
    "# and then print the linked values, sorted by weight.\n",
    "# HINT: Try defining a function here or in a new cell that you can reuse in the\n",
    "# other cells.\n",
    "import operator\n",
    "def pca_weights(pca, i):\n",
    "    weight_map = {}\n",
    "    for counter, feature in enumerate(customers.columns):\n",
    "        weight_map[feature] = pca.components_[i][counter]\n",
    "        #print(feature)\n",
    "        #print(weight_map[feature])\n",
    "        #print(pca.components_[i][counter])\n",
    "    \n",
    "    sorted_weights = sorted(weight_map.items(), key=operator.itemgetter(1), reverse=True)\n",
    "    return sorted_weights"
   ]
  },
  {
   "cell_type": "code",
   "execution_count": 124,
   "metadata": {},
   "outputs": [
    {
     "name": "stdout",
     "output_type": "stream",
     "text": [
      "[('ALTERSKATEGORIE_GROB', 0.23420861664451517),\n",
      " ('SEMIO_RAT', 0.22800927130773313),\n",
      " ('SEMIO_KRIT', 0.19410501872382621),\n",
      " ('FINANZ_UNAUFFAELLIGER', 0.18635644167019294),\n",
      " ('SEMIO_REL', 0.18137641030340174),\n",
      " ('MIN_GEBAEUDEJAHR', 0.14109338823492881),\n",
      " ('ANZ_TITEL', 0.080629844917126756),\n",
      " ('FINANZ_MINIMALIST', 0.068294558211256295),\n",
      " ('OST_WEST_KZ', 0.068030792358645301),\n",
      " ('PLZ8_ANTG1', 0.054893652366758923),\n",
      " ('SEMIO_PFLICHT', 0.051588703775480617),\n",
      " ('PRAEGENDE_JUGENDJAHRE_1', 0.049020457081754634),\n",
      " ('PRAEGENDE_JUGENDJAHRE_2', 0.048683249537943993),\n",
      " ('SOHO_KZ', 0.044382422436017657),\n",
      " ('EWDICHTE', 0.041947178777184402),\n",
      " ('MOBI_REGIO', 0.038731852847081659),\n",
      " ('BALLRAUM', 0.038501559200316719),\n",
      " ('ONLINE_AFFINITAET', 0.038276594104050772),\n",
      " ('RELAT_AB', 0.034576534644216263),\n",
      " ('WOHNLAGE', 0.032983654329916283),\n",
      " ('CAMEO_INTL_2015_1', 0.028954887950582112),\n",
      " ('SEMIO_SOZ', 0.025275377038614839),\n",
      " ('CAMEO_INTL_2015', 0.023124770178292165),\n",
      " ('KKK', 0.019768862765223237),\n",
      " ('KBA05_ANTG4', 0.015550197664647608),\n",
      " ('KONSUMNAEHE', 0.013184190788851859),\n",
      " ('LP_LEBENSPHASE_GROB', 0.011175432123981069),\n",
      " ('PLZ8_GBZ', 0.010395878930187775),\n",
      " ('W_KEIT_KIND_HH', 0.010394435998132848),\n",
      " ('GFK_URLAUBERTYP', 0.0096368576562994111),\n",
      " ('GEBAEUDETYP', 0.0091849042218059961),\n",
      " ('CAMEO_INTL_2015_2', 0.0065395823963616297),\n",
      " ('KBA05_ANTG1', 0.0064338205597977826),\n",
      " ('PLZ8_ANTG4', 0.0041188669035551011),\n",
      " ('RETOURTYP_BK_S', 0.0036587625478523016),\n",
      " ('HH_EINKOMMEN_SCORE', -0.0016656925162158718),\n",
      " ('GEBAEUDETYP_RASTER', -0.0036493962133136446),\n",
      " ('SEMIO_TRADV', -0.0082518208904082749),\n",
      " ('SEMIO_KULT', -0.015863235218865193),\n",
      " ('ARBEIT', -0.022490054702461879),\n",
      " ('PLZ8_ANTG3', -0.025321146659069867),\n",
      " ('INNENSTADT', -0.025330021219608544),\n",
      " ('PLZ8_BAUMAX', -0.029057218707901743),\n",
      " ('KBA13_ANZAHL_PKW', -0.036113908962682691),\n",
      " ('LP_FAMILIE_GROB', -0.036394549194919433),\n",
      " ('KBA05_ANTG3', -0.039083478508063534),\n",
      " ('KBA05_ANTG2', -0.040342332531413075),\n",
      " ('KBA05_GBZ', -0.040362625029416607),\n",
      " ('REGIOTYP', -0.040575539848433713),\n",
      " ('PLZ8_ANTG2', -0.043882048761131651),\n",
      " ('LP_STATUS_FEIN', -0.046851052616197868),\n",
      " ('LP_LEBENSPHASE_FEIN', -0.047442544019096575),\n",
      " ('ORTSGR_KLS9', -0.047830093071956438),\n",
      " ('LP_FAMILIE_FEIN', -0.051107980346801245),\n",
      " ('GREEN_AVANTGARDE', -0.067138809778178474),\n",
      " ('SEMIO_MAT', -0.072563274067358324),\n",
      " ('ANZ_HH_TITEL', -0.075503040901063717),\n",
      " ('LP_STATUS_GROB', -0.086067001497634188),\n",
      " ('PRAEGENDE_JUGENDJAHRE', -0.087644178547330517),\n",
      " ('WOHNDAUER_2008', -0.1022693582923133),\n",
      " ('ANZ_HAUSHALTE_AKTIV', -0.10774897201848214),\n",
      " ('SEMIO_DOM', -0.12302060175534392),\n",
      " ('CJT_GESAMTTYP', -0.14140436270761803),\n",
      " ('SEMIO_ERL', -0.14179232302728956),\n",
      " ('SEMIO_VERT', -0.15581034887251702),\n",
      " ('PLZ8_HHZ', -0.17680169971456544),\n",
      " ('SEMIO_KAEM', -0.20823716566996894),\n",
      " ('ANZ_PERSONEN', -0.21358634707465443),\n",
      " ('FINANZ_HAUSBAUER', -0.23735744352230684),\n",
      " ('SEMIO_LUST', -0.24306490124748881),\n",
      " ('ZABEOTYP', -0.24463015386039053),\n",
      " ('FINANZTYP', -0.24512746460988893),\n",
      " ('FINANZ_VORSORGER', -0.26066503576297678),\n",
      " ('SEMIO_FAM', -0.26378786121841319)]\n"
     ]
    }
   ],
   "source": [
    "# Map weights for the second principal component to corresponding feature names\n",
    "# and then print the linked values, sorted by weight.\n",
    "import pprint\n",
    "weights = pca_weights(pca,1)\n",
    "pprint.pprint(weights)"
   ]
  },
  {
   "cell_type": "code",
   "execution_count": 125,
   "metadata": {},
   "outputs": [
    {
     "data": {
      "text/plain": [
       "'\\nThis component is based on financial topology, social status, Number of 1-2 family houses in the PLZ8 region,\\n\\nThe negative features are Personality typology, dimension translations, density of households.\\nThis indicates that the component depends on financial toplogy and status in the society.\\n'"
      ]
     },
     "execution_count": 125,
     "metadata": {},
     "output_type": "execute_result"
    }
   ],
   "source": [
    "'''\n",
    "This component is based on financial topology, social status, Number of 1-2 family houses in the PLZ8 region,\n",
    "\n",
    "The negative features are Personality typology, dimension translations, density of households.\n",
    "This indicates that the component depends on financial toplogy and status in the society.\n",
    "'''"
   ]
  },
  {
   "cell_type": "code",
   "execution_count": 126,
   "metadata": {},
   "outputs": [
    {
     "name": "stdout",
     "output_type": "stream",
     "text": [
      "[('SEMIO_KULT', 0.38821013889679823),\n",
      " ('SEMIO_VERT', 0.31824969131213621),\n",
      " ('SEMIO_MAT', 0.31095053223561203),\n",
      " ('SEMIO_DOM', 0.27788955385014424),\n",
      " ('SEMIO_ERL', 0.14138613555242827),\n",
      " ('FINANZ_MINIMALIST', 0.12079508975994954),\n",
      " ('MIN_GEBAEUDEJAHR', 0.082988225630083415),\n",
      " ('SEMIO_LUST', 0.078566862693206702),\n",
      " ('SEMIO_REL', 0.077823391364159916),\n",
      " ('FINANZ_UNAUFFAELLIGER', 0.057572441692496118),\n",
      " ('SEMIO_SOZ', 0.052388778351211709),\n",
      " ('LP_LEBENSPHASE_GROB', 0.049165006836568437),\n",
      " ('ALTERSKATEGORIE_GROB', 0.040388525213338473),\n",
      " ('RETOURTYP_BK_S', 0.040254685350814647),\n",
      " ('PRAEGENDE_JUGENDJAHRE_2', 0.028899720923379665),\n",
      " ('CAMEO_INTL_2015_1', 0.028275348856968224),\n",
      " ('PRAEGENDE_JUGENDJAHRE_1', 0.025894867236272188),\n",
      " ('BALLRAUM', 0.024569991038261001),\n",
      " ('LP_FAMILIE_FEIN', 0.0240488864373745),\n",
      " ('PLZ8_ANTG1', 0.023713211668742806),\n",
      " ('OST_WEST_KZ', 0.023145515263160287),\n",
      " ('EWDICHTE', 0.019342685530033051),\n",
      " ('ONLINE_AFFINITAET', 0.016733421681457465),\n",
      " ('KBA05_ANTG4', 0.016681778892115678),\n",
      " ('RELAT_AB', 0.015342335103370488),\n",
      " ('LP_FAMILIE_GROB', 0.012446479913766193),\n",
      " ('W_KEIT_KIND_HH', 0.01222184654003141),\n",
      " ('MOBI_REGIO', 0.011879771635428025),\n",
      " ('GEBAEUDETYP', 0.010481055666928278),\n",
      " ('WOHNLAGE', 0.0095251860385887725),\n",
      " ('LP_STATUS_FEIN', 0.0092673416208310221),\n",
      " ('PLZ8_GBZ', 0.0053975896897249737),\n",
      " ('CAMEO_INTL_2015', 0.0053729112772412388),\n",
      " ('KBA05_ANTG1', 0.0046185543079802858),\n",
      " ('SEMIO_RAT', 0.004588339315025826),\n",
      " ('WOHNDAUER_2008', 0.0034504797170099746),\n",
      " ('PLZ8_ANTG4', 0.0016437862091225679),\n",
      " ('ANZ_HH_TITEL', 0.0014620418247874788),\n",
      " ('HH_EINKOMMEN_SCORE', 0.00060082196725918667),\n",
      " ('KKK', -0.00011972014938728362),\n",
      " ('INNENSTADT', -0.0015544650048449397),\n",
      " ('CAMEO_INTL_2015_2', -0.003071567847205164),\n",
      " ('PLZ8_BAUMAX', -0.0045565045992231757),\n",
      " ('REGIOTYP', -0.0046501588178487164),\n",
      " ('GEBAEUDETYP_RASTER', -0.0066746136756352468),\n",
      " ('LP_STATUS_GROB', -0.0075411366239521473),\n",
      " ('PRAEGENDE_JUGENDJAHRE', -0.0097835792405847784),\n",
      " ('KBA05_ANTG3', -0.011631859378761312),\n",
      " ('KBA05_GBZ', -0.014903131640763815),\n",
      " ('ANZ_HAUSHALTE_AKTIV', -0.015020547660732403),\n",
      " ('LP_LEBENSPHASE_FEIN', -0.016504433375359277),\n",
      " ('KBA13_ANZAHL_PKW', -0.018236518646279128),\n",
      " ('CJT_GESAMTTYP', -0.020911148590969764),\n",
      " ('PLZ8_ANTG3', -0.021210301319383104),\n",
      " ('KBA05_ANTG2', -0.022500235755052212),\n",
      " ('ARBEIT', -0.022528151238533491),\n",
      " ('ZABEOTYP', -0.023385903740426948),\n",
      " ('PLZ8_HHZ', -0.025919325037062204),\n",
      " ('PLZ8_ANTG2', -0.026326779675314684),\n",
      " ('KONSUMNAEHE', -0.028509097293879279),\n",
      " ('ORTSGR_KLS9', -0.029130595430146216),\n",
      " ('GREEN_AVANTGARDE', -0.034660524339217118),\n",
      " ('ANZ_PERSONEN', -0.036207859735582305),\n",
      " ('FINANZ_VORSORGER', -0.054441968380210093),\n",
      " ('FINANZTYP', -0.058663022752877228),\n",
      " ('GFK_URLAUBERTYP', -0.061521137120590264),\n",
      " ('SEMIO_FAM', -0.066336643222764904),\n",
      " ('FINANZ_HAUSBAUER', -0.1473353928488656),\n",
      " ('SEMIO_KAEM', -0.1572703096649431),\n",
      " ('ANZ_TITEL', -0.15943299226190127),\n",
      " ('SEMIO_KRIT', -0.22192488126755774),\n",
      " ('SEMIO_PFLICHT', -0.29184143321263095),\n",
      " ('SEMIO_TRADV', -0.33814183385682939),\n",
      " ('SOHO_KZ', -0.38453459119384986)]\n"
     ]
    }
   ],
   "source": [
    "weights = pca_weights(pca,2)\n",
    "pprint.pprint(weights)"
   ]
  },
  {
   "cell_type": "code",
   "execution_count": 127,
   "metadata": {},
   "outputs": [
    {
     "data": {
      "text/plain": [
       "\"\\nThis component depends on year of birth, Dominating movement of person's youth (avantgarde vs. mainstream; east vs. west), \\nbirth of head of household, online affinity.\\nThe component depends negatively on likelihood of children in household, personality topology and financial topology.\\n\\nThis depends on a persons, head of household's birth and youth movement, personality topology and financial topology.\\n\""
      ]
     },
     "execution_count": 127,
     "metadata": {},
     "output_type": "execute_result"
    }
   ],
   "source": [
    "'''\n",
    "This component depends on year of birth, Dominating movement of person's youth (avantgarde vs. mainstream; east vs. west), \n",
    "birth of head of household, online affinity.\n",
    "The component depends negatively on likelihood of children in household, personality topology and financial topology.\n",
    "\n",
    "This depends on a persons, head of household's birth and youth movement, personality topology and financial topology.\n",
    "'''"
   ]
  },
  {
   "cell_type": "code",
   "execution_count": 128,
   "metadata": {},
   "outputs": [
    {
     "name": "stdout",
     "output_type": "stream",
     "text": [
      "[('PRAEGENDE_JUGENDJAHRE', 0.35888600205575949),\n",
      " ('LP_STATUS_GROB', 0.35512379306406344),\n",
      " ('LP_STATUS_FEIN', 0.3479813433773159),\n",
      " ('LP_FAMILIE_GROB', 0.33947379434107189),\n",
      " ('ANZ_HH_TITEL', 0.31462473421353265),\n",
      " ('PLZ8_ANTG1', 0.1772452177821692),\n",
      " ('PLZ8_HHZ', 0.15690067857240647),\n",
      " ('LP_LEBENSPHASE_GROB', 0.15414068052804442),\n",
      " ('PRAEGENDE_JUGENDJAHRE_2', 0.12547122801805574),\n",
      " ('PRAEGENDE_JUGENDJAHRE_1', 0.12000758465595097),\n",
      " ('ANZ_HAUSHALTE_AKTIV', 0.1137978759771361),\n",
      " ('CAMEO_INTL_2015_1', 0.092820593483081401),\n",
      " ('OST_WEST_KZ', 0.083952754108323466),\n",
      " ('RELAT_AB', 0.074681212448842529),\n",
      " ('ONLINE_AFFINITAET', 0.063182701321019885),\n",
      " ('SEMIO_SOZ', 0.062322765751387496),\n",
      " ('SOHO_KZ', 0.061424088515505314),\n",
      " ('CJT_GESAMTTYP', 0.056640664591394718),\n",
      " ('MOBI_REGIO', 0.053469131122568625),\n",
      " ('SEMIO_TRADV', 0.051029452738468345),\n",
      " ('RETOURTYP_BK_S', 0.047706120537119763),\n",
      " ('BALLRAUM', 0.037855256559772829),\n",
      " ('FINANZ_MINIMALIST', 0.035040380607384458),\n",
      " ('WOHNLAGE', 0.033373339146492834),\n",
      " ('ANZ_TITEL', 0.030699006435048987),\n",
      " ('GEBAEUDETYP', 0.028831853182040672),\n",
      " ('CAMEO_INTL_2015_2', 0.026033532210727912),\n",
      " ('CAMEO_INTL_2015', 0.026012934900383599),\n",
      " ('GFK_URLAUBERTYP', 0.02432760660611772),\n",
      " ('SEMIO_KRIT', 0.020314059837838135),\n",
      " ('EWDICHTE', 0.015044389067532664),\n",
      " ('W_KEIT_KIND_HH', 0.01495699151244393),\n",
      " ('SEMIO_RAT', 0.011134850963680184),\n",
      " ('KBA05_ANTG1', 0.01103561729209716),\n",
      " ('SEMIO_REL', 0.010355152703835441),\n",
      " ('KBA05_ANTG4', 0.0091314941491618916),\n",
      " ('SEMIO_MAT', 0.0090760216423582413),\n",
      " ('FINANZ_UNAUFFAELLIGER', 0.0051614219291312158),\n",
      " ('HH_EINKOMMEN_SCORE', 0.0048410841068144486),\n",
      " ('GREEN_AVANTGARDE', 0.004090307256208103),\n",
      " ('ALTERSKATEGORIE_GROB', 0.002909538844298184),\n",
      " ('SEMIO_FAM', 0.0022528638083188102),\n",
      " ('KKK', 0.00096099949203491003),\n",
      " ('SEMIO_KULT', 0.00066623479975296126),\n",
      " ('LP_FAMILIE_FEIN', -0.0021039707729211296),\n",
      " ('SEMIO_KAEM', -0.0021613589575061381),\n",
      " ('PLZ8_GBZ', -0.0040726818071710486),\n",
      " ('INNENSTADT', -0.01103179110678979),\n",
      " ('KBA05_ANTG3', -0.017952874026097066),\n",
      " ('PLZ8_ANTG4', -0.020121298732399887),\n",
      " ('FINANZTYP', -0.021959528627066724),\n",
      " ('ZABEOTYP', -0.024394372394680036),\n",
      " ('SEMIO_PFLICHT', -0.02484166114611858),\n",
      " ('ANZ_PERSONEN', -0.025906159544957428),\n",
      " ('PLZ8_BAUMAX', -0.027892639146015013),\n",
      " ('SEMIO_LUST', -0.029092228665186876),\n",
      " ('FINANZ_VORSORGER', -0.029318002004744437),\n",
      " ('SEMIO_VERT', -0.029985268674526448),\n",
      " ('LP_LEBENSPHASE_FEIN', -0.031069227488127862),\n",
      " ('SEMIO_DOM', -0.034666606157700709),\n",
      " ('SEMIO_ERL', -0.038704995400233567),\n",
      " ('GEBAEUDETYP_RASTER', -0.042034397066804875),\n",
      " ('REGIOTYP', -0.045437903934315932),\n",
      " ('ARBEIT', -0.055571178943595097),\n",
      " ('FINANZ_HAUSBAUER', -0.057020666225895689),\n",
      " ('PLZ8_ANTG3', -0.058318979046945128),\n",
      " ('WOHNDAUER_2008', -0.071912795275233143),\n",
      " ('KONSUMNAEHE', -0.088118144734727996),\n",
      " ('KBA05_ANTG2', -0.094145850311357346),\n",
      " ('ORTSGR_KLS9', -0.10461051524776518),\n",
      " ('KBA13_ANZAHL_PKW', -0.14104624540095917),\n",
      " ('KBA05_GBZ', -0.14709314450395544),\n",
      " ('PLZ8_ANTG2', -0.15225221054582247),\n",
      " ('MIN_GEBAEUDEJAHR', -0.18707615917222206)]\n"
     ]
    }
   ],
   "source": [
    "# Map weights for the third principal component to corresponding feature names\n",
    "# and then print the linked values, sorted by weight.\n",
    "weights = pca_weights(pca,3)\n",
    "pprint.pprint(weights)\n",
    "\n",
    "\n"
   ]
  },
  {
   "cell_type": "code",
   "execution_count": 129,
   "metadata": {},
   "outputs": [
    {
     "data": {
      "text/plain": [
       "'\\nSize of community, density of household per square km, Membership in environmental sustainability as part of youth, \\nShare of unemployment in community, Share of unemployment relative to county in which community is contained\\n\\nDepends negatively on distance to city center, neighbourhood quality and dominating movement of persons youth.\\n\\nThis depends on the density of population, employment and enviorent sustainability , quality of life.\\n'"
      ]
     },
     "execution_count": 129,
     "metadata": {},
     "output_type": "execute_result"
    }
   ],
   "source": [
    "'''\n",
    "Size of community, density of household per square km, Membership in environmental sustainability as part of youth, \n",
    "Share of unemployment in community, Share of unemployment relative to county in which community is contained\n",
    "\n",
    "Depends negatively on distance to city center, neighbourhood quality and dominating movement of persons youth.\n",
    "\n",
    "This depends on the density of population, employment and enviorent sustainability , quality of life.\n",
    "'''\n"
   ]
  },
  {
   "cell_type": "code",
   "execution_count": null,
   "metadata": {},
   "outputs": [],
   "source": []
  },
  {
   "cell_type": "markdown",
   "metadata": {},
   "source": [
    "### Discussion 2.3: Interpret Principal Components\n",
    "\n",
    "(Double-click this cell and replace this text with your own text, reporting your observations from detailed investigation of the first few principal components generated. Can we interpret positive and negative values from them in a meaningful way?)\n",
    "The metrics generated indicate relationship between variables. Variables with + sign and - sign are inversely related toeach other. This means if one metric increases, the other one decreases.\n",
    "'''\n",
    "First component\n",
    "This component is based on financial topology, social status, Number of 1-2 family houses in the PLZ8 region,\n",
    "\n",
    "The negative features are Personality typology, dimension translations, density of households.\n",
    "This indicates that the component depends on financial toplogy and status in the society.\n",
    "\n",
    "Size of community, density of household per square km, Membership in environmental sustainability as part of youth, \n",
    "Share of unemployment in community, Share of unemployment relative to county in which community is contained\n",
    "\n",
    "Depends negatively on distance to city center, neighbourhood quality and dominating movement of persons youth.\n",
    "\n",
    "This depends on the density of population, employment and enviorent sustainability , quality of life.\n",
    "\n",
    "\n",
    "'''"
   ]
  },
  {
   "cell_type": "markdown",
   "metadata": {},
   "source": [
    "## Step 3: Clustering\n",
    "\n",
    "### Step 3.1: Apply Clustering to General Population\n",
    "\n",
    "You've assessed and cleaned the demographics data, then scaled and transformed them. Now, it's time to see how the data clusters in the principal components space. In this substep, you will apply k-means clustering to the dataset and use the average within-cluster distances from each point to their assigned cluster's centroid to decide on a number of clusters to keep.\n",
    "\n",
    "- Use sklearn's [KMeans](http://scikit-learn.org/stable/modules/generated/sklearn.cluster.KMeans.html#sklearn.cluster.KMeans) class to perform k-means clustering on the PCA-transformed data.\n",
    "- Then, compute the average difference from each point to its assigned cluster's center. **Hint**: The KMeans object's `.score()` method might be useful here, but note that in sklearn, scores tend to be defined so that larger is better. Try applying it to a small, toy dataset, or use an internet search to help your understanding.\n",
    "- Perform the above two steps for a number of different cluster counts. You can then see how the average distance decreases with an increasing number of clusters. However, each additional cluster provides a smaller net benefit. Use this fact to select a final number of clusters in which to group the data. **Warning**: because of the large size of the dataset, it can take a long time for the algorithm to resolve. The more clusters to fit, the longer the algorithm will take. You should test for cluster counts through at least 10 clusters to get the full picture, but you shouldn't need to test for a number of clusters above about 30.\n",
    "- Once you've selected a final number of clusters to use, re-fit a KMeans instance to perform the clustering operation. Make sure that you also obtain the cluster assignments for the general demographics data, since you'll be using them in the final Step 3.3."
   ]
  },
  {
   "cell_type": "code",
   "execution_count": 131,
   "metadata": {},
   "outputs": [
    {
     "name": "stdout",
     "output_type": "stream",
     "text": [
      "10\n"
     ]
    },
    {
     "ename": "KeyboardInterrupt",
     "evalue": "",
     "output_type": "error",
     "traceback": [
      "\u001b[0;31m---------------------------------------------------------------------------\u001b[0m",
      "\u001b[0;31mKeyboardInterrupt\u001b[0m                         Traceback (most recent call last)",
      "\u001b[0;32m<ipython-input-131-20953292d696>\u001b[0m in \u001b[0;36m<module>\u001b[0;34m()\u001b[0m\n\u001b[1;32m      6\u001b[0m     \u001b[0mprint\u001b[0m\u001b[0;34m(\u001b[0m\u001b[0mk\u001b[0m\u001b[0;34m)\u001b[0m\u001b[0;34m\u001b[0m\u001b[0m\n\u001b[1;32m      7\u001b[0m     \u001b[0mkmeansModel\u001b[0m \u001b[0;34m=\u001b[0m \u001b[0mKMeans\u001b[0m\u001b[0;34m(\u001b[0m\u001b[0mn_clusters\u001b[0m\u001b[0;34m=\u001b[0m\u001b[0mk\u001b[0m\u001b[0;34m,\u001b[0m \u001b[0mrandom_state\u001b[0m\u001b[0;34m=\u001b[0m\u001b[0;36m0\u001b[0m\u001b[0;34m)\u001b[0m\u001b[0;34m\u001b[0m\u001b[0m\n\u001b[0;32m----> 8\u001b[0;31m     \u001b[0mmodel\u001b[0m\u001b[0;34m=\u001b[0m\u001b[0mkmeansModel\u001b[0m\u001b[0;34m.\u001b[0m\u001b[0mfit\u001b[0m\u001b[0;34m(\u001b[0m\u001b[0mazdias_pca\u001b[0m\u001b[0;34m)\u001b[0m\u001b[0;34m\u001b[0m\u001b[0m\n\u001b[0m\u001b[1;32m      9\u001b[0m     \u001b[0;31m# compute the average within-cluster distances.\u001b[0m\u001b[0;34m\u001b[0m\u001b[0;34m\u001b[0m\u001b[0m\n\u001b[1;32m     10\u001b[0m     \u001b[0mscoreValue\u001b[0m\u001b[0;34m=\u001b[0m\u001b[0mmodel\u001b[0m\u001b[0;34m.\u001b[0m\u001b[0mscore\u001b[0m\u001b[0;34m(\u001b[0m\u001b[0mazdias_pca\u001b[0m\u001b[0;34m)\u001b[0m\u001b[0;34m\u001b[0m\u001b[0m\n",
      "\u001b[0;32m/opt/conda/lib/python3.6/site-packages/sklearn/cluster/k_means_.py\u001b[0m in \u001b[0;36mfit\u001b[0;34m(self, X, y)\u001b[0m\n\u001b[1;32m    894\u001b[0m                 \u001b[0mtol\u001b[0m\u001b[0;34m=\u001b[0m\u001b[0mself\u001b[0m\u001b[0;34m.\u001b[0m\u001b[0mtol\u001b[0m\u001b[0;34m,\u001b[0m \u001b[0mrandom_state\u001b[0m\u001b[0;34m=\u001b[0m\u001b[0mrandom_state\u001b[0m\u001b[0;34m,\u001b[0m \u001b[0mcopy_x\u001b[0m\u001b[0;34m=\u001b[0m\u001b[0mself\u001b[0m\u001b[0;34m.\u001b[0m\u001b[0mcopy_x\u001b[0m\u001b[0;34m,\u001b[0m\u001b[0;34m\u001b[0m\u001b[0m\n\u001b[1;32m    895\u001b[0m                 \u001b[0mn_jobs\u001b[0m\u001b[0;34m=\u001b[0m\u001b[0mself\u001b[0m\u001b[0;34m.\u001b[0m\u001b[0mn_jobs\u001b[0m\u001b[0;34m,\u001b[0m \u001b[0malgorithm\u001b[0m\u001b[0;34m=\u001b[0m\u001b[0mself\u001b[0m\u001b[0;34m.\u001b[0m\u001b[0malgorithm\u001b[0m\u001b[0;34m,\u001b[0m\u001b[0;34m\u001b[0m\u001b[0m\n\u001b[0;32m--> 896\u001b[0;31m                 return_n_iter=True)\n\u001b[0m\u001b[1;32m    897\u001b[0m         \u001b[0;32mreturn\u001b[0m \u001b[0mself\u001b[0m\u001b[0;34m\u001b[0m\u001b[0m\n\u001b[1;32m    898\u001b[0m \u001b[0;34m\u001b[0m\u001b[0m\n",
      "\u001b[0;32m/opt/conda/lib/python3.6/site-packages/sklearn/cluster/k_means_.py\u001b[0m in \u001b[0;36mk_means\u001b[0;34m(X, n_clusters, init, precompute_distances, n_init, max_iter, verbose, tol, random_state, copy_x, n_jobs, algorithm, return_n_iter)\u001b[0m\n\u001b[1;32m    344\u001b[0m                 \u001b[0mX\u001b[0m\u001b[0;34m,\u001b[0m \u001b[0mn_clusters\u001b[0m\u001b[0;34m,\u001b[0m \u001b[0mmax_iter\u001b[0m\u001b[0;34m=\u001b[0m\u001b[0mmax_iter\u001b[0m\u001b[0;34m,\u001b[0m \u001b[0minit\u001b[0m\u001b[0;34m=\u001b[0m\u001b[0minit\u001b[0m\u001b[0;34m,\u001b[0m \u001b[0mverbose\u001b[0m\u001b[0;34m=\u001b[0m\u001b[0mverbose\u001b[0m\u001b[0;34m,\u001b[0m\u001b[0;34m\u001b[0m\u001b[0m\n\u001b[1;32m    345\u001b[0m                 \u001b[0mprecompute_distances\u001b[0m\u001b[0;34m=\u001b[0m\u001b[0mprecompute_distances\u001b[0m\u001b[0;34m,\u001b[0m \u001b[0mtol\u001b[0m\u001b[0;34m=\u001b[0m\u001b[0mtol\u001b[0m\u001b[0;34m,\u001b[0m\u001b[0;34m\u001b[0m\u001b[0m\n\u001b[0;32m--> 346\u001b[0;31m                 x_squared_norms=x_squared_norms, random_state=random_state)\n\u001b[0m\u001b[1;32m    347\u001b[0m             \u001b[0;31m# determine if these results are the best so far\u001b[0m\u001b[0;34m\u001b[0m\u001b[0;34m\u001b[0m\u001b[0m\n\u001b[1;32m    348\u001b[0m             \u001b[0;32mif\u001b[0m \u001b[0mbest_inertia\u001b[0m \u001b[0;32mis\u001b[0m \u001b[0;32mNone\u001b[0m \u001b[0;32mor\u001b[0m \u001b[0minertia\u001b[0m \u001b[0;34m<\u001b[0m \u001b[0mbest_inertia\u001b[0m\u001b[0;34m:\u001b[0m\u001b[0;34m\u001b[0m\u001b[0m\n",
      "\u001b[0;32m/opt/conda/lib/python3.6/site-packages/sklearn/cluster/k_means_.py\u001b[0m in \u001b[0;36m_kmeans_single_elkan\u001b[0;34m(X, n_clusters, max_iter, init, verbose, x_squared_norms, random_state, tol, precompute_distances)\u001b[0m\n\u001b[1;32m    393\u001b[0m     \u001b[0;31m# init\u001b[0m\u001b[0;34m\u001b[0m\u001b[0;34m\u001b[0m\u001b[0m\n\u001b[1;32m    394\u001b[0m     centers = _init_centroids(X, n_clusters, init, random_state=random_state,\n\u001b[0;32m--> 395\u001b[0;31m                               x_squared_norms=x_squared_norms)\n\u001b[0m\u001b[1;32m    396\u001b[0m     \u001b[0mcenters\u001b[0m \u001b[0;34m=\u001b[0m \u001b[0mnp\u001b[0m\u001b[0;34m.\u001b[0m\u001b[0mascontiguousarray\u001b[0m\u001b[0;34m(\u001b[0m\u001b[0mcenters\u001b[0m\u001b[0;34m)\u001b[0m\u001b[0;34m\u001b[0m\u001b[0m\n\u001b[1;32m    397\u001b[0m     \u001b[0;32mif\u001b[0m \u001b[0mverbose\u001b[0m\u001b[0;34m:\u001b[0m\u001b[0;34m\u001b[0m\u001b[0m\n",
      "\u001b[0;32m/opt/conda/lib/python3.6/site-packages/sklearn/cluster/k_means_.py\u001b[0m in \u001b[0;36m_init_centroids\u001b[0;34m(X, k, init, random_state, x_squared_norms, init_size)\u001b[0m\n\u001b[1;32m    682\u001b[0m     \u001b[0;32mif\u001b[0m \u001b[0misinstance\u001b[0m\u001b[0;34m(\u001b[0m\u001b[0minit\u001b[0m\u001b[0;34m,\u001b[0m \u001b[0mstring_types\u001b[0m\u001b[0;34m)\u001b[0m \u001b[0;32mand\u001b[0m \u001b[0minit\u001b[0m \u001b[0;34m==\u001b[0m \u001b[0;34m'k-means++'\u001b[0m\u001b[0;34m:\u001b[0m\u001b[0;34m\u001b[0m\u001b[0m\n\u001b[1;32m    683\u001b[0m         centers = _k_init(X, k, random_state=random_state,\n\u001b[0;32m--> 684\u001b[0;31m                           x_squared_norms=x_squared_norms)\n\u001b[0m\u001b[1;32m    685\u001b[0m     \u001b[0;32melif\u001b[0m \u001b[0misinstance\u001b[0m\u001b[0;34m(\u001b[0m\u001b[0minit\u001b[0m\u001b[0;34m,\u001b[0m \u001b[0mstring_types\u001b[0m\u001b[0;34m)\u001b[0m \u001b[0;32mand\u001b[0m \u001b[0minit\u001b[0m \u001b[0;34m==\u001b[0m \u001b[0;34m'random'\u001b[0m\u001b[0;34m:\u001b[0m\u001b[0;34m\u001b[0m\u001b[0m\n\u001b[1;32m    686\u001b[0m         \u001b[0mseeds\u001b[0m \u001b[0;34m=\u001b[0m \u001b[0mrandom_state\u001b[0m\u001b[0;34m.\u001b[0m\u001b[0mpermutation\u001b[0m\u001b[0;34m(\u001b[0m\u001b[0mn_samples\u001b[0m\u001b[0;34m)\u001b[0m\u001b[0;34m[\u001b[0m\u001b[0;34m:\u001b[0m\u001b[0mk\u001b[0m\u001b[0;34m]\u001b[0m\u001b[0;34m\u001b[0m\u001b[0m\n",
      "\u001b[0;32m/opt/conda/lib/python3.6/site-packages/sklearn/cluster/k_means_.py\u001b[0m in \u001b[0;36m_k_init\u001b[0;34m(X, n_clusters, x_squared_norms, random_state, n_local_trials)\u001b[0m\n\u001b[1;32m    111\u001b[0m         \u001b[0;31m# Compute distances to center candidates\u001b[0m\u001b[0;34m\u001b[0m\u001b[0;34m\u001b[0m\u001b[0m\n\u001b[1;32m    112\u001b[0m         distance_to_candidates = euclidean_distances(\n\u001b[0;32m--> 113\u001b[0;31m             X[candidate_ids], X, Y_norm_squared=x_squared_norms, squared=True)\n\u001b[0m\u001b[1;32m    114\u001b[0m \u001b[0;34m\u001b[0m\u001b[0m\n\u001b[1;32m    115\u001b[0m         \u001b[0;31m# Decide which candidate is the best\u001b[0m\u001b[0;34m\u001b[0m\u001b[0;34m\u001b[0m\u001b[0m\n",
      "\u001b[0;32m/opt/conda/lib/python3.6/site-packages/sklearn/metrics/pairwise.py\u001b[0m in \u001b[0;36meuclidean_distances\u001b[0;34m(X, Y, Y_norm_squared, squared, X_norm_squared)\u001b[0m\n\u001b[1;32m    244\u001b[0m         \u001b[0mYY\u001b[0m \u001b[0;34m=\u001b[0m \u001b[0mrow_norms\u001b[0m\u001b[0;34m(\u001b[0m\u001b[0mY\u001b[0m\u001b[0;34m,\u001b[0m \u001b[0msquared\u001b[0m\u001b[0;34m=\u001b[0m\u001b[0;32mTrue\u001b[0m\u001b[0;34m)\u001b[0m\u001b[0;34m[\u001b[0m\u001b[0mnp\u001b[0m\u001b[0;34m.\u001b[0m\u001b[0mnewaxis\u001b[0m\u001b[0;34m,\u001b[0m \u001b[0;34m:\u001b[0m\u001b[0;34m]\u001b[0m\u001b[0;34m\u001b[0m\u001b[0m\n\u001b[1;32m    245\u001b[0m \u001b[0;34m\u001b[0m\u001b[0m\n\u001b[0;32m--> 246\u001b[0;31m     \u001b[0mdistances\u001b[0m \u001b[0;34m=\u001b[0m \u001b[0msafe_sparse_dot\u001b[0m\u001b[0;34m(\u001b[0m\u001b[0mX\u001b[0m\u001b[0;34m,\u001b[0m \u001b[0mY\u001b[0m\u001b[0;34m.\u001b[0m\u001b[0mT\u001b[0m\u001b[0;34m,\u001b[0m \u001b[0mdense_output\u001b[0m\u001b[0;34m=\u001b[0m\u001b[0;32mTrue\u001b[0m\u001b[0;34m)\u001b[0m\u001b[0;34m\u001b[0m\u001b[0m\n\u001b[0m\u001b[1;32m    247\u001b[0m     \u001b[0mdistances\u001b[0m \u001b[0;34m*=\u001b[0m \u001b[0;34m-\u001b[0m\u001b[0;36m2\u001b[0m\u001b[0;34m\u001b[0m\u001b[0m\n\u001b[1;32m    248\u001b[0m     \u001b[0mdistances\u001b[0m \u001b[0;34m+=\u001b[0m \u001b[0mXX\u001b[0m\u001b[0;34m\u001b[0m\u001b[0m\n",
      "\u001b[0;32m/opt/conda/lib/python3.6/site-packages/sklearn/utils/extmath.py\u001b[0m in \u001b[0;36msafe_sparse_dot\u001b[0;34m(a, b, dense_output)\u001b[0m\n\u001b[1;32m    138\u001b[0m         \u001b[0;32mreturn\u001b[0m \u001b[0mret\u001b[0m\u001b[0;34m\u001b[0m\u001b[0m\n\u001b[1;32m    139\u001b[0m     \u001b[0;32melse\u001b[0m\u001b[0;34m:\u001b[0m\u001b[0;34m\u001b[0m\u001b[0m\n\u001b[0;32m--> 140\u001b[0;31m         \u001b[0;32mreturn\u001b[0m \u001b[0mnp\u001b[0m\u001b[0;34m.\u001b[0m\u001b[0mdot\u001b[0m\u001b[0;34m(\u001b[0m\u001b[0ma\u001b[0m\u001b[0;34m,\u001b[0m \u001b[0mb\u001b[0m\u001b[0;34m)\u001b[0m\u001b[0;34m\u001b[0m\u001b[0m\n\u001b[0m\u001b[1;32m    141\u001b[0m \u001b[0;34m\u001b[0m\u001b[0m\n\u001b[1;32m    142\u001b[0m \u001b[0;34m\u001b[0m\u001b[0m\n",
      "\u001b[0;31mKeyboardInterrupt\u001b[0m: "
     ]
    }
   ],
   "source": [
    "from sklearn.cluster import KMeans\n",
    "# Over a number of different cluster counts...\n",
    "scoreList=[]\n",
    "for k in range(10,20):\n",
    "   # run k-means clustering on the data and...\n",
    "    print(k)\n",
    "    kmeansModel = KMeans(n_clusters=k, random_state=0)\n",
    "    model=kmeansModel.fit(azdias_pca)\n",
    "    # compute the average within-cluster distances.\n",
    "    scoreValue=model.score(azdias_pca)\n",
    "    scoreList.append(abs(scoreValue))"
   ]
  },
  {
   "cell_type": "code",
   "execution_count": null,
   "metadata": {},
   "outputs": [],
   "source": [
    "# Investigate the change in within-cluster distance across number of clusters.\n",
    "# HINT: Use matplotlib's plot function to visualize this relationship.\n",
    "import matplotlib.pyplot as plt\n",
    "centers=list(range(10,20))\n",
    "plt.plot(centers,scoreList)\n",
    "plt.title('kSelection')\n",
    "plt.xlabel('centers')\n",
    "plt.ylabel('scores')"
   ]
  },
  {
   "cell_type": "code",
   "execution_count": 132,
   "metadata": {},
   "outputs": [],
   "source": [
    "# Re-fit the k-means model with the selected number of clusters and obtain\n",
    "# cluster predictions for the general population demographics data.\n",
    "kmeansModel = KMeans(n_clusters=20, random_state=0)\n",
    "model1=kmeansModel.fit(azdias_pca)"
   ]
  },
  {
   "cell_type": "code",
   "execution_count": 133,
   "metadata": {},
   "outputs": [],
   "source": [
    "predict_demographics = model1.predict(azdias_pca)"
   ]
  },
  {
   "cell_type": "markdown",
   "metadata": {},
   "source": [
    "### Discussion 3.1: Apply Clustering to General Population\n",
    "\n",
    "(Double-click this cell and replace this text with your own text, reporting your findings and decisions regarding clustering. Into how many clusters have you decided to segment the population?)\n",
    "I have used 20 clusters as the slope remains less after this(<1.4)."
   ]
  },
  {
   "cell_type": "markdown",
   "metadata": {},
   "source": [
    "### Step 3.2: Apply All Steps to the Customer Data\n",
    "\n",
    "Now that you have clusters and cluster centers for the general population, it's time to see how the customer data maps on to those clusters. Take care to not confuse this for re-fitting all of the models to the customer data. Instead, you're going to use the fits from the general population to clean, transform, and cluster the customer data. In the last step of the project, you will interpret how the general population fits apply to the customer data.\n",
    "\n",
    "- Don't forget when loading in the customers data, that it is semicolon (`;`) delimited.\n",
    "- Apply the same feature wrangling, selection, and engineering steps to the customer demographics using the `clean_data()` function you created earlier. (You can assume that the customer demographics data has similar meaning behind missing data patterns as the general demographics data.)\n",
    "- Use the sklearn objects from the general demographics data, and apply their transformations to the customers data. That is, you should not be using a `.fit()` or `.fit_transform()` method to re-fit the old objects, nor should you be creating new sklearn objects! Carry the data through the feature scaling, PCA, and clustering steps, obtaining cluster assignments for all of the data in the customer demographics data."
   ]
  },
  {
   "cell_type": "code",
   "execution_count": 134,
   "metadata": {},
   "outputs": [],
   "source": [
    "# Load in the customer demographics data.\n",
    "customers1=pd.read_csv('Udacity_CUSTOMERS_Subset.csv',sep=';')"
   ]
  },
  {
   "cell_type": "code",
   "execution_count": 135,
   "metadata": {},
   "outputs": [],
   "source": [
    "# Apply preprocessing, feature transformation, and clustering from the general\n",
    "# demographics onto the customer data, obtaining cluster predictions for the\n",
    "# customer demographics data.\n",
    "customers1=clean_data(customers1, feat_info)\n",
    "colname=customers1.columns.values\n",
    "for col in colname:\n",
    "    customers1[col]=customers1[col].fillna(customers1[col].mode()[0])"
   ]
  },
  {
   "cell_type": "code",
   "execution_count": 137,
   "metadata": {
    "scrolled": true
   },
   "outputs": [
    {
     "name": "stderr",
     "output_type": "stream",
     "text": [
      "/opt/conda/lib/python3.6/site-packages/sklearn/utils/validation.py:475: DataConversionWarning: Data with input dtype object was converted to float64 by StandardScaler.\n",
      "  warnings.warn(msg, DataConversionWarning)\n"
     ]
    },
    {
     "data": {
      "text/html": [
       "<div>\n",
       "<style>\n",
       "    .dataframe thead tr:only-child th {\n",
       "        text-align: right;\n",
       "    }\n",
       "\n",
       "    .dataframe thead th {\n",
       "        text-align: left;\n",
       "    }\n",
       "\n",
       "    .dataframe tbody tr th {\n",
       "        vertical-align: top;\n",
       "    }\n",
       "</style>\n",
       "<table border=\"1\" class=\"dataframe\">\n",
       "  <thead>\n",
       "    <tr style=\"text-align: right;\">\n",
       "      <th></th>\n",
       "      <th>ALTERSKATEGORIE_GROB</th>\n",
       "      <th>ANREDE_KZ</th>\n",
       "      <th>CJT_GESAMTTYP</th>\n",
       "      <th>FINANZ_MINIMALIST</th>\n",
       "      <th>FINANZ_SPARER</th>\n",
       "      <th>FINANZ_VORSORGER</th>\n",
       "      <th>FINANZ_ANLEGER</th>\n",
       "      <th>FINANZ_UNAUFFAELLIGER</th>\n",
       "      <th>FINANZ_HAUSBAUER</th>\n",
       "      <th>FINANZTYP</th>\n",
       "      <th>...</th>\n",
       "      <th>PLZ8_BAUMAX</th>\n",
       "      <th>PLZ8_HHZ</th>\n",
       "      <th>PLZ8_GBZ</th>\n",
       "      <th>ARBEIT</th>\n",
       "      <th>ORTSGR_KLS9</th>\n",
       "      <th>RELAT_AB</th>\n",
       "      <th>PRAEGENDE_JUGENDJAHRE_1</th>\n",
       "      <th>PRAEGENDE_JUGENDJAHRE_2</th>\n",
       "      <th>CAMEO_INTL_2015_1</th>\n",
       "      <th>CAMEO_INTL_2015_2</th>\n",
       "    </tr>\n",
       "  </thead>\n",
       "  <tbody>\n",
       "    <tr>\n",
       "      <th>0</th>\n",
       "      <td>1.345073</td>\n",
       "      <td>-1.633933</td>\n",
       "      <td>1.562181</td>\n",
       "      <td>1.691317</td>\n",
       "      <td>-2.715434</td>\n",
       "      <td>1.603881</td>\n",
       "      <td>-1.735144</td>\n",
       "      <td>-1.516789</td>\n",
       "      <td>-2.101521</td>\n",
       "      <td>-1.535040</td>\n",
       "      <td>...</td>\n",
       "      <td>2.682562</td>\n",
       "      <td>1.455440</td>\n",
       "      <td>1.485425</td>\n",
       "      <td>-2.168938</td>\n",
       "      <td>-1.432544</td>\n",
       "      <td>-1.524107</td>\n",
       "      <td>-1.597954</td>\n",
       "      <td>-1.831056</td>\n",
       "      <td>-1.551294</td>\n",
       "      <td>0.094775</td>\n",
       "    </tr>\n",
       "    <tr>\n",
       "      <th>2</th>\n",
       "      <td>1.345073</td>\n",
       "      <td>-0.981856</td>\n",
       "      <td>-1.378379</td>\n",
       "      <td>1.691317</td>\n",
       "      <td>-2.715434</td>\n",
       "      <td>1.603881</td>\n",
       "      <td>-1.735144</td>\n",
       "      <td>0.184462</td>\n",
       "      <td>-0.715973</td>\n",
       "      <td>-1.535040</td>\n",
       "      <td>...</td>\n",
       "      <td>8.793243</td>\n",
       "      <td>-0.616532</td>\n",
       "      <td>-1.248613</td>\n",
       "      <td>-0.171992</td>\n",
       "      <td>-0.127010</td>\n",
       "      <td>-0.052986</td>\n",
       "      <td>-1.597954</td>\n",
       "      <td>-1.831056</td>\n",
       "      <td>-0.187669</td>\n",
       "      <td>0.766807</td>\n",
       "    </tr>\n",
       "    <tr>\n",
       "      <th>3</th>\n",
       "      <td>1.345073</td>\n",
       "      <td>-1.633933</td>\n",
       "      <td>-1.378379</td>\n",
       "      <td>1.691317</td>\n",
       "      <td>-2.715434</td>\n",
       "      <td>1.603881</td>\n",
       "      <td>-0.838051</td>\n",
       "      <td>-2.367414</td>\n",
       "      <td>-2.101521</td>\n",
       "      <td>-0.418110</td>\n",
       "      <td>...</td>\n",
       "      <td>2.682562</td>\n",
       "      <td>-0.616532</td>\n",
       "      <td>0.574079</td>\n",
       "      <td>-2.168938</td>\n",
       "      <td>-0.997366</td>\n",
       "      <td>-1.524107</td>\n",
       "      <td>0.625800</td>\n",
       "      <td>-2.557264</td>\n",
       "      <td>-0.869481</td>\n",
       "      <td>0.766807</td>\n",
       "    </tr>\n",
       "    <tr>\n",
       "      <th>4</th>\n",
       "      <td>-0.162641</td>\n",
       "      <td>-1.633933</td>\n",
       "      <td>2.542368</td>\n",
       "      <td>-0.018927</td>\n",
       "      <td>-2.715434</td>\n",
       "      <td>0.758677</td>\n",
       "      <td>0.956135</td>\n",
       "      <td>1.035088</td>\n",
       "      <td>-2.101521</td>\n",
       "      <td>-1.535040</td>\n",
       "      <td>...</td>\n",
       "      <td>5.737903</td>\n",
       "      <td>-0.616532</td>\n",
       "      <td>-0.337267</td>\n",
       "      <td>-0.171992</td>\n",
       "      <td>-0.127010</td>\n",
       "      <td>-1.524107</td>\n",
       "      <td>0.625800</td>\n",
       "      <td>-0.378640</td>\n",
       "      <td>0.494144</td>\n",
       "      <td>-1.249290</td>\n",
       "    </tr>\n",
       "    <tr>\n",
       "      <th>5</th>\n",
       "      <td>-0.162641</td>\n",
       "      <td>-1.633933</td>\n",
       "      <td>0.581995</td>\n",
       "      <td>1.691317</td>\n",
       "      <td>-2.715434</td>\n",
       "      <td>1.603881</td>\n",
       "      <td>-1.735144</td>\n",
       "      <td>-1.516789</td>\n",
       "      <td>-1.408747</td>\n",
       "      <td>-0.697342</td>\n",
       "      <td>...</td>\n",
       "      <td>2.682562</td>\n",
       "      <td>1.455440</td>\n",
       "      <td>1.485425</td>\n",
       "      <td>-0.171992</td>\n",
       "      <td>0.743346</td>\n",
       "      <td>1.418135</td>\n",
       "      <td>-1.597954</td>\n",
       "      <td>-1.831056</td>\n",
       "      <td>-0.187669</td>\n",
       "      <td>0.766807</td>\n",
       "    </tr>\n",
       "  </tbody>\n",
       "</table>\n",
       "<p>5 rows × 82 columns</p>\n",
       "</div>"
      ],
      "text/plain": [
       "   ALTERSKATEGORIE_GROB  ANREDE_KZ  CJT_GESAMTTYP  FINANZ_MINIMALIST  \\\n",
       "0              1.345073  -1.633933       1.562181           1.691317   \n",
       "2              1.345073  -0.981856      -1.378379           1.691317   \n",
       "3              1.345073  -1.633933      -1.378379           1.691317   \n",
       "4             -0.162641  -1.633933       2.542368          -0.018927   \n",
       "5             -0.162641  -1.633933       0.581995           1.691317   \n",
       "\n",
       "   FINANZ_SPARER  FINANZ_VORSORGER  FINANZ_ANLEGER  FINANZ_UNAUFFAELLIGER  \\\n",
       "0      -2.715434          1.603881       -1.735144              -1.516789   \n",
       "2      -2.715434          1.603881       -1.735144               0.184462   \n",
       "3      -2.715434          1.603881       -0.838051              -2.367414   \n",
       "4      -2.715434          0.758677        0.956135               1.035088   \n",
       "5      -2.715434          1.603881       -1.735144              -1.516789   \n",
       "\n",
       "   FINANZ_HAUSBAUER  FINANZTYP        ...          PLZ8_BAUMAX  PLZ8_HHZ  \\\n",
       "0         -2.101521  -1.535040        ...             2.682562  1.455440   \n",
       "2         -0.715973  -1.535040        ...             8.793243 -0.616532   \n",
       "3         -2.101521  -0.418110        ...             2.682562 -0.616532   \n",
       "4         -2.101521  -1.535040        ...             5.737903 -0.616532   \n",
       "5         -1.408747  -0.697342        ...             2.682562  1.455440   \n",
       "\n",
       "   PLZ8_GBZ    ARBEIT  ORTSGR_KLS9  RELAT_AB  PRAEGENDE_JUGENDJAHRE_1  \\\n",
       "0  1.485425 -2.168938    -1.432544 -1.524107                -1.597954   \n",
       "2 -1.248613 -0.171992    -0.127010 -0.052986                -1.597954   \n",
       "3  0.574079 -2.168938    -0.997366 -1.524107                 0.625800   \n",
       "4 -0.337267 -0.171992    -0.127010 -1.524107                 0.625800   \n",
       "5  1.485425 -0.171992     0.743346  1.418135                -1.597954   \n",
       "\n",
       "   PRAEGENDE_JUGENDJAHRE_2  CAMEO_INTL_2015_1  CAMEO_INTL_2015_2  \n",
       "0                -1.831056          -1.551294           0.094775  \n",
       "2                -1.831056          -0.187669           0.766807  \n",
       "3                -2.557264          -0.869481           0.766807  \n",
       "4                -0.378640           0.494144          -1.249290  \n",
       "5                -1.831056          -0.187669           0.766807  \n",
       "\n",
       "[5 rows x 82 columns]"
      ]
     },
     "metadata": {},
     "output_type": "display_data"
    }
   ],
   "source": [
    "# Apply feature scaling to the general population demographics data.\n",
    "from sklearn.preprocessing import StandardScaler\n",
    "# Initialize a scaler, then apply it to the features\n",
    "#scaler = StandardScaler() # default=(0, 1)\n",
    "customers1[customers1.columns] = scaler.transform(customers1[customers1.columns].as_matrix())\n",
    "# Show an example of a record with scaling applied\n",
    "display(customers1.head(n = 5))"
   ]
  },
  {
   "cell_type": "code",
   "execution_count": 138,
   "metadata": {},
   "outputs": [],
   "source": [
    "from sklearn.decomposition import PCA\n",
    "#pca1 = PCA(n_components=40)\n",
    "customers_new_pca = pca.transform(customers1[customers1.columns])"
   ]
  },
  {
   "cell_type": "code",
   "execution_count": 139,
   "metadata": {},
   "outputs": [],
   "source": [
    "predict_customers = model1.predict(customers_new_pca)"
   ]
  },
  {
   "cell_type": "markdown",
   "metadata": {},
   "source": [
    "### Step 3.3: Compare Customer Data to Demographics Data\n",
    "\n",
    "At this point, you have clustered data based on demographics of the general population of Germany, and seen how the customer data for a mail-order sales company maps onto those demographic clusters. In this final substep, you will compare the two cluster distributions to see where the strongest customer base for the company is.\n",
    "\n",
    "Consider the proportion of persons in each cluster for the general population, and the proportions for the customers. If we think the company's customer base to be universal, then the cluster assignment proportions should be fairly similar between the two. If there are only particular segments of the population that are interested in the company's products, then we should see a mismatch from one to the other. If there is a higher proportion of persons in a cluster for the customer data compared to the general population (e.g. 5% of persons are assigned to a cluster for the general population, but 15% of the customer data is closest to that cluster's centroid) then that suggests the people in that cluster to be a target audience for the company. On the other hand, the proportion of the data in a cluster being larger in the general population than the customer data (e.g. only 2% of customers closest to a population centroid that captures 6% of the data) suggests that group of persons to be outside of the target demographics.\n",
    "\n",
    "Take a look at the following points in this step:\n",
    "\n",
    "- Compute the proportion of data points in each cluster for the general population and the customer data. Visualizations will be useful here: both for the individual dataset proportions, but also to visualize the ratios in cluster representation between groups. Seaborn's [`countplot()`](https://seaborn.pydata.org/generated/seaborn.countplot.html) or [`barplot()`](https://seaborn.pydata.org/generated/seaborn.barplot.html) function could be handy.\n",
    "  - Recall the analysis you performed in step 1.1.3 of the project, where you separated out certain data points from the dataset if they had more than a specified threshold of missing values. If you found that this group was qualitatively different from the main bulk of the data, you should treat this as an additional data cluster in this analysis. Make sure that you account for the number of data points in this subset, for both the general population and customer datasets, when making your computations!\n",
    "- Which cluster or clusters are overrepresented in the customer dataset compared to the general population? Select at least one such cluster and infer what kind of people might be represented by that cluster. Use the principal component interpretations from step 2.3 or look at additional components to help you make this inference. Alternatively, you can use the `.inverse_transform()` method of the PCA and StandardScaler objects to transform centroids back to the original data space and interpret the retrieved values directly.\n",
    "- Perform a similar investigation for the underrepresented clusters. Which cluster or clusters are underrepresented in the customer dataset compared to the general population, and what kinds of people are typified by these clusters?"
   ]
  },
  {
   "cell_type": "code",
   "execution_count": 142,
   "metadata": {},
   "outputs": [
    {
     "data": {
      "image/png": "[encoded data removed]",
      "text/plain": [
       "<matplotlib.figure.Figure at 0x7fa95ef3f2e8>"
      ]
     },
     "metadata": {
      "needs_background": "light"
     },
     "output_type": "display_data"
    }
   ],
   "source": [
    "# Compare the proportion of data in each cluster for the customer data to the\n",
    "# proportion of data in each cluster for the general population.\n",
    "prop_general = []\n",
    "prop_customers = []\n",
    "x = [i+1 for i in range(25)]\n",
    "for i in range(25):\n",
    "    prop_general.append((predict_demographics == i).sum()/len(predict_demographics))\n",
    "    prop_customers.append((predict_customers == i).sum()/len(predict_customers))\n",
    "df_general = pd.DataFrame({'cluster' : x, 'prop_demographics' : prop_general, 'prop_customers':prop_customers})\n",
    "#ax = sns.countplot(x='index', y = df_general['prop_1', 'prop_2'], data=df_general )\n",
    "df_general.plot(x='cluster', y = ['prop_demographics', 'prop_customers'], kind='bar', figsize=(9,6))\n",
    "plt.ylabel('proportion of persons in each cluster')\n",
    "plt.show()"
   ]
  },
  {
   "cell_type": "code",
   "execution_count": 144,
   "metadata": {},
   "outputs": [],
   "source": [
    "#High customer data and low general population\n",
    "def plot_scaled_comparison(df_sample, kmeans, cluster):\n",
    "    X = pd.DataFrame.from_dict(dict(zip(df_sample.columns,\n",
    "    pca.inverse_transform(kmeansModel.cluster_centers_[cluster]))), orient='index').rename(\n",
    "    columns={0: 'feature_values'}).sort_values('feature_values', ascending=False)\n",
    "    X['feature_values_abs'] = abs(X['feature_values'])\n",
    "    pd.concat((X['feature_values'][:10], X['feature_values'][-10:]), axis=0).plot(kind='barh');"
   ]
  },
  {
   "cell_type": "code",
   "execution_count": 145,
   "metadata": {},
   "outputs": [
    {
     "data": {
      "image/png": "[encoded data removed]",
      "text/plain": [
       "<matplotlib.figure.Figure at 0x7fa95eea06d8>"
      ]
     },
     "metadata": {
      "needs_background": "light"
     },
     "output_type": "display_data"
    }
   ],
   "source": [
    "plot_scaled_comparison(customers1, kmeansModel, 8)"
   ]
  },
  {
   "cell_type": "code",
   "execution_count": null,
   "metadata": {},
   "outputs": [],
   "source": [
    "'''\n",
    "It belongs to higher income, \n",
    "with medium to high affinity for socially minded, family minded and religious Personality.\n",
    "and low affinity for dominant mided people\n",
    "'''"
   ]
  },
  {
   "cell_type": "code",
   "execution_count": 146,
   "metadata": {},
   "outputs": [
    {
     "data": {
      "image/png": "[encoded data removed]",
      "text/plain": [
       "<matplotlib.figure.Figure at 0x7fa95ee30c18>"
      ]
     },
     "metadata": {
      "needs_background": "light"
     },
     "output_type": "display_data"
    }
   ],
   "source": [
    "#High general population and low customer data.\n",
    "plot_scaled_comparison(customers, kmeansModel, 6)"
   ]
  },
  {
   "cell_type": "code",
   "execution_count": null,
   "metadata": {},
   "outputs": [],
   "source": [
    "'''\n",
    "Details:-\n",
    "Average to high share of 1-2 and 3-5 family homes. Single or couple smaller family.\n",
    "Not dominant minded.\n",
    "Financial topology is low and have low financial interest, high number of professional academic title holders in family.\n",
    "It belongs to lower income\n",
    "'''"
   ]
  },
  {
   "cell_type": "code",
   "execution_count": null,
   "metadata": {},
   "outputs": [],
   "source": []
  },
  {
   "cell_type": "markdown",
   "metadata": {},
   "source": [
    "### Discussion 3.3: Compare Customer Data to Demographics Data\n",
    "\n",
    "(Double-click this cell and replace this text with your own text, reporting findings and conclusions from the clustering analysis. Can we describe segments of the population that are relatively popular with the mail-order company, or relatively unpopular with the company?)"
   ]
  },
  {
   "cell_type": "markdown",
   "metadata": {},
   "source": [
    "> Congratulations on making it this far in the project! Before you finish, make sure to check through the entire notebook from top to bottom to make sure that your analysis follows a logical flow and all of your findings are documented in **Discussion** cells. Once you've checked over all of your work, you should export the notebook as an HTML document to submit for evaluation. You can do this from the menu, navigating to **File -> Download as -> HTML (.html)**. You will submit both that document and this notebook for your project submission."
   ]
  },
  {
   "cell_type": "code",
   "execution_count": null,
   "metadata": {},
   "outputs": [],
   "source": [
    "'''\n",
    "Looking at the bar plot above, we can clearly see that  there isn't good match between the general population and the \n",
    "customers population.\n",
    ". \n",
    "'''"
   ]
  },
  {
   "cell_type": "code",
   "execution_count": null,
   "metadata": {},
   "outputs": [],
   "source": []
  },
  {
   "cell_type": "code",
   "execution_count": null,
   "metadata": {},
   "outputs": [],
   "source": []
  },
  {
   "cell_type": "code",
   "execution_count": null,
   "metadata": {},
   "outputs": [],
   "source": [
    "                            "
   ]
  },
  {
   "cell_type": "code",
   "execution_count": null,
   "metadata": {},
   "outputs": [],
   "source": []
  },
  {
   "cell_type": "code",
   "execution_count": null,
   "metadata": {},
   "outputs": [],
   "source": []
  }
 ],
 "metadata": {
  "kernelspec": {
   "display_name": "Python 3",
   "language": "python",
   "name": "python3"
  }
 },
 "nbformat": 4,
 "nbformat_minor": 2
}
